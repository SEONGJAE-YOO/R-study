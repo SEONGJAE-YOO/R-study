{
 "cells": [
  {
   "cell_type": "markdown",
   "id": "cc39fd56",
   "metadata": {},
   "source": [
    "# 독립표본 t-test 분석\n",
    "\n",
    "## 특성\n",
    "\n",
    "- 두개의 독립적인 표본 간에 하나의 종속변수의 평균이 동일한가를 검증\n",
    "\n",
    "예1) 남녀직원들 간에 회사에 대한 만족 수준은 같은가?,다른가?\n",
    "\n",
    "예2) 결혼한 사람과 결혼하지 않은 사람 중 누가 더 행복한가?\n"
   ]
  },
  {
   "cell_type": "markdown",
   "id": "db5abc70",
   "metadata": {},
   "source": [
    "## 독립표본 t-test 분석의 가설 및 검정통계량\n",
    "\n",
    "- 귀무가설: 남녀 직원 간에 평균 월급에는 차이가 없다.\n",
    "\n",
    "- 대립가설: 남녀 직원 간에 평균 월급에는 차이가 있다.\n",
    "\n",
    "- 검정통계량 : t-value, 자유도(df), 이를 고려하여 유의확률(p)의 계산\n"
   ]
  },
  {
   "cell_type": "markdown",
   "id": "5af8e45c",
   "metadata": {},
   "source": [
    "- 검정통계량 = 두집단의 평균차이/ 표준오차(SE)  "
   ]
  },
  {
   "cell_type": "markdown",
   "id": "4c2227c0",
   "metadata": {},
   "source": [
    "* 표준오차는 표본 평균에 대한 표준 편차로 정의됩니다.\n",
    "\n",
    "\n",
    "- 독립변수가 범주형자료이고 종속변수가 연속형자료일때 t-test 또는 분산분석(ANOVA)을 한다\n",
    "\n",
    "- 독립변수 범주가 2개일때 t-test\n",
    "\n",
    "- 독립변수 범주가 3개 이상일때 분산분석"
   ]
  },
  {
   "cell_type": "markdown",
   "id": "ea300483",
   "metadata": {},
   "source": [
    "# 실습 \n",
    "\n",
    "## 독립변수 t-test 분석대상 변수는 무엇일까?\n",
    "\n",
    "- 성별 (남,여)\n",
    "\n"
   ]
  },
  {
   "attachments": {
    "20220117_144828_1.png": {
     "image/png": "[encoded data removed]"
    }
   },
   "cell_type": "markdown",
   "id": "eb78d891",
   "metadata": {},
   "source": [
    "![20220117_144828_1.png](attachment:20220117_144828_1.png)"
   ]
  },
  {
   "cell_type": "code",
   "execution_count": 4,
   "id": "26010737",
   "metadata": {},
   "outputs": [],
   "source": [
    "a <- read.csv('cosmetics.csv', header=T)"
   ]
  },
  {
   "cell_type": "code",
   "execution_count": 5,
   "id": "c4ec01c3",
   "metadata": {},
   "outputs": [
    {
     "data": {
      "text/html": [
       "<table>\n",
       "<thead><tr><th scope=col>gender</th><th scope=col>marriage</th><th scope=col>edu</th><th scope=col>job</th><th scope=col>mincome</th><th scope=col>aware</th><th scope=col>count</th><th scope=col>amount</th><th scope=col>decision</th><th scope=col>propensity</th><th scope=col>skin</th><th scope=col>promo</th><th scope=col>location</th><th scope=col>satisf_b</th><th scope=col>satisf_i</th><th scope=col>satisf_al</th><th scope=col>repurchase</th></tr></thead>\n",
       "<tbody>\n",
       "\t<tr><td>1      </td><td>1      </td><td>4      </td><td>1      </td><td>2      </td><td> 2     </td><td> 1     </td><td>  11000</td><td>2      </td><td>1      </td><td>1      </td><td>1      </td><td>2      </td><td>5      </td><td>2      </td><td>2      </td><td>2      </td></tr>\n",
       "\t<tr><td>2      </td><td>1      </td><td>4      </td><td>9      </td><td>2      </td><td> 1     </td><td> 4     </td><td>  30000</td><td>1      </td><td>1      </td><td>3      </td><td>2      </td><td>3      </td><td>2      </td><td>3      </td><td>3      </td><td>4      </td></tr>\n",
       "\t<tr><td>2      </td><td>2      </td><td>4      </td><td>4      </td><td>3      </td><td> 1     </td><td> 6     </td><td> 100000</td><td>3      </td><td>2      </td><td>3      </td><td>2      </td><td>2      </td><td>4      </td><td>5      </td><td>4      </td><td>4      </td></tr>\n",
       "\t<tr><td>2      </td><td>2      </td><td>4      </td><td>7      </td><td>5      </td><td> 2     </td><td> 6     </td><td>  65000</td><td>3      </td><td>2      </td><td>5      </td><td>2      </td><td>3      </td><td>3      </td><td>4      </td><td>4      </td><td>4      </td></tr>\n",
       "\t<tr><td>1      </td><td>2      </td><td>6      </td><td>6      </td><td>5      </td><td> 2     </td><td> 2     </td><td>  50000</td><td>2      </td><td>2      </td><td>3      </td><td>2      </td><td>3      </td><td>3      </td><td>3      </td><td>3      </td><td>3      </td></tr>\n",
       "\t<tr><td>2      </td><td>2      </td><td>2      </td><td>7      </td><td>3      </td><td> 1     </td><td> 2     </td><td> 100000</td><td>2      </td><td>1      </td><td>4      </td><td>2      </td><td>3      </td><td>3      </td><td>4      </td><td>4      </td><td>3      </td></tr>\n",
       "\t<tr><td>2      </td><td>1      </td><td>6      </td><td>4      </td><td>5      </td><td> 1     </td><td> 5     </td><td> 100000</td><td>3      </td><td>2      </td><td>5      </td><td>2      </td><td>3      </td><td>2      </td><td>2      </td><td>3      </td><td>4      </td></tr>\n",
       "\t<tr><td>1      </td><td>1      </td><td>6      </td><td>4      </td><td>5      </td><td> 4     </td><td>10     </td><td>  39000</td><td>3      </td><td>2      </td><td>2      </td><td>1      </td><td>2      </td><td>4      </td><td>4      </td><td>4      </td><td>4      </td></tr>\n",
       "\t<tr><td>2      </td><td>2      </td><td>4      </td><td>5      </td><td>2      </td><td> 2     </td><td> 2     </td><td>  40000</td><td>3      </td><td>2      </td><td>3      </td><td>2      </td><td>3      </td><td>3      </td><td>4      </td><td>4      </td><td>4      </td></tr>\n",
       "\t<tr><td>2      </td><td>2      </td><td>4      </td><td>5      </td><td>2      </td><td> 1     </td><td> 2     </td><td> 100000</td><td>3      </td><td>3      </td><td>3      </td><td>1      </td><td>3      </td><td>2      </td><td>3      </td><td>4      </td><td>4      </td></tr>\n",
       "\t<tr><td>2      </td><td>1      </td><td>7      </td><td>4      </td><td>3      </td><td>10     </td><td> 3     </td><td>  50000</td><td>1      </td><td>3      </td><td>1      </td><td>2      </td><td>3      </td><td>3      </td><td>3      </td><td>4      </td><td>4      </td></tr>\n",
       "\t<tr><td>1      </td><td>1      </td><td>2      </td><td>5      </td><td>3      </td><td> 2     </td><td> 1     </td><td>  30000</td><td>3      </td><td>2      </td><td>3      </td><td>2      </td><td>2      </td><td>3      </td><td>3      </td><td>3      </td><td>3      </td></tr>\n",
       "\t<tr><td>2      </td><td>2      </td><td>4      </td><td>4      </td><td>3      </td><td> 4     </td><td> 4     </td><td> 320000</td><td>2      </td><td>3      </td><td>3      </td><td>3      </td><td>2      </td><td>4      </td><td>4      </td><td>4      </td><td>4      </td></tr>\n",
       "\t<tr><td>2      </td><td>2      </td><td>4      </td><td>4      </td><td>2      </td><td> 3     </td><td> 2     </td><td> 200000</td><td>1      </td><td>2      </td><td>3      </td><td>1      </td><td>3      </td><td>3      </td><td>3      </td><td>3      </td><td>3      </td></tr>\n",
       "\t<tr><td>1      </td><td>2      </td><td>4      </td><td>4      </td><td>6      </td><td> 2     </td><td> 2     </td><td>  60000</td><td>3      </td><td>2      </td><td>1      </td><td>2      </td><td>5      </td><td>3      </td><td>3      </td><td>3      </td><td>4      </td></tr>\n",
       "\t<tr><td>2      </td><td>1      </td><td>4      </td><td>5      </td><td>2      </td><td> 2     </td><td> 3     </td><td>  50000</td><td>1      </td><td>2      </td><td>4      </td><td>1      </td><td>3      </td><td>3      </td><td>4      </td><td>3      </td><td>3      </td></tr>\n",
       "\t<tr><td>1      </td><td>2      </td><td>8      </td><td>3      </td><td>2      </td><td> 5     </td><td> 3     </td><td>1000000</td><td>1      </td><td>3      </td><td>1      </td><td>2      </td><td>2      </td><td>3      </td><td>3      </td><td>3      </td><td>3      </td></tr>\n",
       "\t<tr><td>2      </td><td>1      </td><td>3      </td><td>8      </td><td>5      </td><td> 1     </td><td> 6     </td><td>1500000</td><td>3      </td><td>3      </td><td>2      </td><td>4      </td><td>1      </td><td>4      </td><td>4      </td><td>4      </td><td>4      </td></tr>\n",
       "\t<tr><td>1      </td><td>2      </td><td>2      </td><td>6      </td><td>2      </td><td> 4     </td><td> 1     </td><td>  80000</td><td>2      </td><td>3      </td><td>1      </td><td>2      </td><td>3      </td><td>3      </td><td>3      </td><td>4      </td><td>4      </td></tr>\n",
       "\t<tr><td>1      </td><td>1      </td><td>4      </td><td>4      </td><td>3      </td><td> 8     </td><td> 3     </td><td>  30000</td><td>2      </td><td>2      </td><td>3      </td><td>2      </td><td>3      </td><td>3      </td><td>3      </td><td>3      </td><td>3      </td></tr>\n",
       "\t<tr><td>2      </td><td>2      </td><td>2      </td><td>4      </td><td>2      </td><td> 8     </td><td> 4     </td><td> 350000</td><td>3      </td><td>2      </td><td>3      </td><td>2      </td><td>2      </td><td>3      </td><td>4      </td><td>4      </td><td>4      </td></tr>\n",
       "\t<tr><td>2      </td><td>2      </td><td>4      </td><td>7      </td><td>6      </td><td> 1     </td><td> 4     </td><td> 250000</td><td>3      </td><td>3      </td><td>2      </td><td>2      </td><td>3      </td><td>2      </td><td>3      </td><td>4      </td><td>4      </td></tr>\n",
       "\t<tr><td>2      </td><td>2      </td><td>4      </td><td>7      </td><td>3      </td><td> 1     </td><td>25     </td><td>  50000</td><td>2      </td><td>2      </td><td>1      </td><td>2      </td><td>3      </td><td>3      </td><td>4      </td><td>4      </td><td>4      </td></tr>\n",
       "\t<tr><td>2      </td><td>2      </td><td>2      </td><td>9      </td><td>1      </td><td> 1     </td><td> 1     </td><td>  20000</td><td>1      </td><td>1      </td><td>5      </td><td>1      </td><td>3      </td><td>3      </td><td>3      </td><td>3      </td><td>3      </td></tr>\n",
       "\t<tr><td>1      </td><td>1      </td><td>3      </td><td>8      </td><td>4      </td><td> 2     </td><td> 3     </td><td>  42000</td><td>1      </td><td>2      </td><td>3      </td><td>1      </td><td>3      </td><td>3      </td><td>3      </td><td>4      </td><td>4      </td></tr>\n",
       "\t<tr><td>1      </td><td>1      </td><td>4      </td><td>8      </td><td>4      </td><td> 2     </td><td> 3     </td><td>  42000</td><td>3      </td><td>3      </td><td>2      </td><td>1      </td><td>3      </td><td>3      </td><td>4      </td><td>4      </td><td>4      </td></tr>\n",
       "\t<tr><td>2      </td><td>1      </td><td>4      </td><td>4      </td><td>3      </td><td> 2     </td><td>20     </td><td>  40000</td><td>3      </td><td>1      </td><td>5      </td><td>2      </td><td>3      </td><td>2      </td><td>4      </td><td>4      </td><td>4      </td></tr>\n",
       "\t<tr><td>2      </td><td>2      </td><td>4      </td><td>4      </td><td>6      </td><td> 1     </td><td> 6     </td><td>  70000</td><td>3      </td><td>3      </td><td>5      </td><td>2      </td><td>1      </td><td>3      </td><td>4      </td><td>4      </td><td>4      </td></tr>\n",
       "\t<tr><td>2      </td><td>2      </td><td>8      </td><td>4      </td><td>5      </td><td> 5     </td><td> 6     </td><td> 200000</td><td>2      </td><td>1      </td><td>4      </td><td>1      </td><td>1      </td><td>4      </td><td>4      </td><td>4      </td><td>3      </td></tr>\n",
       "\t<tr><td>1      </td><td>2      </td><td>4      </td><td>2      </td><td>6      </td><td> 2     </td><td> 1     </td><td> 200000</td><td>3      </td><td>2      </td><td>1      </td><td>2      </td><td>2      </td><td>3      </td><td>4      </td><td>4      </td><td>4      </td></tr>\n",
       "\t<tr><td>...</td><td>...</td><td>...</td><td>...</td><td>...</td><td>...</td><td>...</td><td>...</td><td>...</td><td>...</td><td>...</td><td>...</td><td>...</td><td>...</td><td>...</td><td>...</td><td>...</td></tr>\n",
       "\t<tr><td>2      </td><td>2      </td><td>4      </td><td> 5     </td><td>2      </td><td>1      </td><td>10     </td><td>  30000</td><td>2      </td><td>2      </td><td>2      </td><td>4      </td><td>3      </td><td>3      </td><td>4      </td><td>4      </td><td>4      </td></tr>\n",
       "\t<tr><td>1      </td><td>2      </td><td>4      </td><td> 6     </td><td>6      </td><td>7      </td><td> 5     </td><td>  50000</td><td>3      </td><td>2      </td><td>4      </td><td>2      </td><td>2      </td><td>3      </td><td>4      </td><td>4      </td><td>4      </td></tr>\n",
       "\t<tr><td>1      </td><td>2      </td><td>4      </td><td> 1     </td><td>4      </td><td>1      </td><td> 1     </td><td>  10000</td><td>1      </td><td>3      </td><td>1      </td><td>1      </td><td>1      </td><td>5      </td><td>1      </td><td>3      </td><td>1      </td></tr>\n",
       "\t<tr><td>1      </td><td>1      </td><td>4      </td><td> 4     </td><td>3      </td><td>2      </td><td> 1     </td><td>  10000</td><td>1      </td><td>1      </td><td>4      </td><td>3      </td><td>2      </td><td>2      </td><td>3      </td><td>3      </td><td>3      </td></tr>\n",
       "\t<tr><td>1      </td><td>1      </td><td>4      </td><td> 4     </td><td>3      </td><td>2      </td><td> 3     </td><td>  50000</td><td>3      </td><td>2      </td><td>5      </td><td>2      </td><td>3      </td><td>2      </td><td>4      </td><td>4      </td><td>4      </td></tr>\n",
       "\t<tr><td>1      </td><td>2      </td><td>2      </td><td> 5     </td><td>4      </td><td>2      </td><td> 1     </td><td>  60000</td><td>1      </td><td>1      </td><td>1      </td><td>4      </td><td>5      </td><td>3      </td><td>3      </td><td>3      </td><td>3      </td></tr>\n",
       "\t<tr><td>1      </td><td>1      </td><td>6      </td><td> 1     </td><td>3      </td><td>2      </td><td> 2     </td><td>  50000</td><td>3      </td><td>2      </td><td>5      </td><td>1      </td><td>2      </td><td>4      </td><td>4      </td><td>3      </td><td>4      </td></tr>\n",
       "\t<tr><td>2      </td><td>2      </td><td>6      </td><td> 4     </td><td>6      </td><td>1      </td><td> 3     </td><td> 500000</td><td>3      </td><td>3      </td><td>5      </td><td>2      </td><td>1      </td><td>3      </td><td>4      </td><td>4      </td><td>4      </td></tr>\n",
       "\t<tr><td>1      </td><td>2      </td><td>4      </td><td> 1     </td><td>3      </td><td>2      </td><td> 1     </td><td>  50000</td><td>3      </td><td>2      </td><td>1      </td><td>2      </td><td>3      </td><td>2      </td><td>3      </td><td>3      </td><td>3      </td></tr>\n",
       "\t<tr><td>2      </td><td>2      </td><td>6      </td><td> 3     </td><td>4      </td><td>1      </td><td> 1     </td><td> 100000</td><td>3      </td><td>2      </td><td>1      </td><td>2      </td><td>1      </td><td>3      </td><td>3      </td><td>3      </td><td>3      </td></tr>\n",
       "\t<tr><td>2      </td><td>2      </td><td>4      </td><td> 7     </td><td>4      </td><td>1      </td><td> 2     </td><td>  50000</td><td>3      </td><td>1      </td><td>5      </td><td>2      </td><td>2      </td><td>3      </td><td>2      </td><td>3      </td><td>4      </td></tr>\n",
       "\t<tr><td>2      </td><td>2      </td><td>4      </td><td> 4     </td><td>2      </td><td>2      </td><td>12     </td><td>  20000</td><td>2      </td><td>2      </td><td>3      </td><td>2      </td><td>3      </td><td>3      </td><td>3      </td><td>3      </td><td>3      </td></tr>\n",
       "\t<tr><td>1      </td><td>1      </td><td>4      </td><td> 4     </td><td>4      </td><td>2      </td><td> 4     </td><td>  35000</td><td>2      </td><td>2      </td><td>1      </td><td>3      </td><td>2      </td><td>3      </td><td>3      </td><td>4      </td><td>4      </td></tr>\n",
       "\t<tr><td>1      </td><td>1      </td><td>4      </td><td> 4     </td><td>4      </td><td>2      </td><td> 4     </td><td>  30000</td><td>2      </td><td>2      </td><td>1      </td><td>2      </td><td>3      </td><td>3      </td><td>4      </td><td>4      </td><td>3      </td></tr>\n",
       "\t<tr><td>2      </td><td>2      </td><td>4      </td><td> 7     </td><td>1      </td><td>2      </td><td> 2     </td><td>  50000</td><td>1      </td><td>1      </td><td>3      </td><td>2      </td><td>5      </td><td>3      </td><td>4      </td><td>4      </td><td>4      </td></tr>\n",
       "\t<tr><td>2      </td><td>2      </td><td>4      </td><td> 7     </td><td>1      </td><td>2      </td><td> 3     </td><td>  50000</td><td>1      </td><td>2      </td><td>3      </td><td>2      </td><td>5      </td><td>3      </td><td>3      </td><td>3      </td><td>3      </td></tr>\n",
       "\t<tr><td>2      </td><td>1      </td><td>4      </td><td> 4     </td><td>2      </td><td>2      </td><td> 7     </td><td>  80000</td><td>3      </td><td>2      </td><td>3      </td><td>2      </td><td>2      </td><td>3      </td><td>3      </td><td>3      </td><td>3      </td></tr>\n",
       "\t<tr><td>1      </td><td>1      </td><td>4      </td><td> 1     </td><td>3      </td><td>2      </td><td> 6     </td><td>  20000</td><td>3      </td><td>1      </td><td>3      </td><td>1      </td><td>3      </td><td>2      </td><td>3      </td><td>4      </td><td>4      </td></tr>\n",
       "\t<tr><td>1      </td><td>1      </td><td>4      </td><td>10     </td><td>2      </td><td>2      </td><td> 2     </td><td>  25000</td><td>3      </td><td>1      </td><td>3      </td><td>2      </td><td>3      </td><td>3      </td><td>4      </td><td>4      </td><td>4      </td></tr>\n",
       "\t<tr><td>2      </td><td>1      </td><td>3      </td><td> 8     </td><td>1      </td><td>1      </td><td> 7     </td><td> 100000</td><td>2      </td><td>1      </td><td>5      </td><td>2      </td><td>3      </td><td>3      </td><td>3      </td><td>1      </td><td>2      </td></tr>\n",
       "\t<tr><td>1      </td><td>2      </td><td>4      </td><td> 4     </td><td>3      </td><td>2      </td><td> 2     </td><td>  50000</td><td>1      </td><td>2      </td><td>5      </td><td>2      </td><td>2      </td><td>3      </td><td>4      </td><td>3      </td><td>3      </td></tr>\n",
       "\t<tr><td>1      </td><td>2      </td><td>4      </td><td> 4     </td><td>5      </td><td>2      </td><td> 1     </td><td>  80000</td><td>2      </td><td>2      </td><td>1      </td><td>2      </td><td>3      </td><td>3      </td><td>3      </td><td>3      </td><td>3      </td></tr>\n",
       "\t<tr><td>2      </td><td>2      </td><td>6      </td><td> 7     </td><td>5      </td><td>1      </td><td> 2     </td><td> 300000</td><td>3      </td><td>3      </td><td>2      </td><td>3      </td><td>2      </td><td>3      </td><td>4      </td><td>3      </td><td>3      </td></tr>\n",
       "\t<tr><td>2      </td><td>2      </td><td>7      </td><td> 7     </td><td>4      </td><td>1      </td><td> 2     </td><td> 200000</td><td>2      </td><td>2      </td><td>4      </td><td>3      </td><td>2      </td><td>3      </td><td>3      </td><td>3      </td><td>3      </td></tr>\n",
       "\t<tr><td>1      </td><td>1      </td><td>2      </td><td> 1     </td><td>2      </td><td>2      </td><td> 5     </td><td>   3000</td><td>1      </td><td>1      </td><td>2      </td><td>1      </td><td>1      </td><td>1      </td><td>1      </td><td>1      </td><td>1      </td></tr>\n",
       "\t<tr><td>1      </td><td>1      </td><td>4      </td><td> 2     </td><td>3      </td><td>2      </td><td> 6     </td><td>   4000</td><td>1      </td><td>1      </td><td>1      </td><td>1      </td><td>4      </td><td>2      </td><td>1      </td><td>1      </td><td>1      </td></tr>\n",
       "\t<tr><td>2      </td><td>2      </td><td>4      </td><td> 4     </td><td>2      </td><td>1      </td><td>10     </td><td> 150000</td><td>3      </td><td>2      </td><td>2      </td><td>1      </td><td>2      </td><td>3      </td><td>4      </td><td>4      </td><td>4      </td></tr>\n",
       "\t<tr><td>2      </td><td>2      </td><td>7      </td><td> 8     </td><td>1      </td><td>2      </td><td> 3     </td><td> 100000</td><td>1      </td><td>2      </td><td>1      </td><td>1      </td><td>5      </td><td>2      </td><td>5      </td><td>4      </td><td>4      </td></tr>\n",
       "\t<tr><td>1      </td><td>1      </td><td>4      </td><td> 6     </td><td>1      </td><td>3      </td><td> 2     </td><td>  20000</td><td>3      </td><td>1      </td><td>1      </td><td>1      </td><td>3      </td><td>4      </td><td>3      </td><td>3      </td><td>2      </td></tr>\n",
       "\t<tr><td>2      </td><td>2      </td><td>6      </td><td>10     </td><td>1      </td><td>1      </td><td>10     </td><td>1000000</td><td>3      </td><td>2      </td><td>3      </td><td>1      </td><td>3      </td><td>2      </td><td>3      </td><td>3      </td><td>3      </td></tr>\n",
       "</tbody>\n",
       "</table>\n"
      ],
      "text/latex": [
       "\\begin{tabular}{r|lllllllllllllllll}\n",
       " gender & marriage & edu & job & mincome & aware & count & amount & decision & propensity & skin & promo & location & satisf\\_b & satisf\\_i & satisf\\_al & repurchase\\\\\n",
       "\\hline\n",
       "\t 1       & 1       & 4       & 1       & 2       &  2      &  1      &   11000 & 2       & 1       & 1       & 1       & 2       & 5       & 2       & 2       & 2      \\\\\n",
       "\t 2       & 1       & 4       & 9       & 2       &  1      &  4      &   30000 & 1       & 1       & 3       & 2       & 3       & 2       & 3       & 3       & 4      \\\\\n",
       "\t 2       & 2       & 4       & 4       & 3       &  1      &  6      &  100000 & 3       & 2       & 3       & 2       & 2       & 4       & 5       & 4       & 4      \\\\\n",
       "\t 2       & 2       & 4       & 7       & 5       &  2      &  6      &   65000 & 3       & 2       & 5       & 2       & 3       & 3       & 4       & 4       & 4      \\\\\n",
       "\t 1       & 2       & 6       & 6       & 5       &  2      &  2      &   50000 & 2       & 2       & 3       & 2       & 3       & 3       & 3       & 3       & 3      \\\\\n",
       "\t 2       & 2       & 2       & 7       & 3       &  1      &  2      &  100000 & 2       & 1       & 4       & 2       & 3       & 3       & 4       & 4       & 3      \\\\\n",
       "\t 2       & 1       & 6       & 4       & 5       &  1      &  5      &  100000 & 3       & 2       & 5       & 2       & 3       & 2       & 2       & 3       & 4      \\\\\n",
       "\t 1       & 1       & 6       & 4       & 5       &  4      & 10      &   39000 & 3       & 2       & 2       & 1       & 2       & 4       & 4       & 4       & 4      \\\\\n",
       "\t 2       & 2       & 4       & 5       & 2       &  2      &  2      &   40000 & 3       & 2       & 3       & 2       & 3       & 3       & 4       & 4       & 4      \\\\\n",
       "\t 2       & 2       & 4       & 5       & 2       &  1      &  2      &  100000 & 3       & 3       & 3       & 1       & 3       & 2       & 3       & 4       & 4      \\\\\n",
       "\t 2       & 1       & 7       & 4       & 3       & 10      &  3      &   50000 & 1       & 3       & 1       & 2       & 3       & 3       & 3       & 4       & 4      \\\\\n",
       "\t 1       & 1       & 2       & 5       & 3       &  2      &  1      &   30000 & 3       & 2       & 3       & 2       & 2       & 3       & 3       & 3       & 3      \\\\\n",
       "\t 2       & 2       & 4       & 4       & 3       &  4      &  4      &  320000 & 2       & 3       & 3       & 3       & 2       & 4       & 4       & 4       & 4      \\\\\n",
       "\t 2       & 2       & 4       & 4       & 2       &  3      &  2      &  200000 & 1       & 2       & 3       & 1       & 3       & 3       & 3       & 3       & 3      \\\\\n",
       "\t 1       & 2       & 4       & 4       & 6       &  2      &  2      &   60000 & 3       & 2       & 1       & 2       & 5       & 3       & 3       & 3       & 4      \\\\\n",
       "\t 2       & 1       & 4       & 5       & 2       &  2      &  3      &   50000 & 1       & 2       & 4       & 1       & 3       & 3       & 4       & 3       & 3      \\\\\n",
       "\t 1       & 2       & 8       & 3       & 2       &  5      &  3      & 1000000 & 1       & 3       & 1       & 2       & 2       & 3       & 3       & 3       & 3      \\\\\n",
       "\t 2       & 1       & 3       & 8       & 5       &  1      &  6      & 1500000 & 3       & 3       & 2       & 4       & 1       & 4       & 4       & 4       & 4      \\\\\n",
       "\t 1       & 2       & 2       & 6       & 2       &  4      &  1      &   80000 & 2       & 3       & 1       & 2       & 3       & 3       & 3       & 4       & 4      \\\\\n",
       "\t 1       & 1       & 4       & 4       & 3       &  8      &  3      &   30000 & 2       & 2       & 3       & 2       & 3       & 3       & 3       & 3       & 3      \\\\\n",
       "\t 2       & 2       & 2       & 4       & 2       &  8      &  4      &  350000 & 3       & 2       & 3       & 2       & 2       & 3       & 4       & 4       & 4      \\\\\n",
       "\t 2       & 2       & 4       & 7       & 6       &  1      &  4      &  250000 & 3       & 3       & 2       & 2       & 3       & 2       & 3       & 4       & 4      \\\\\n",
       "\t 2       & 2       & 4       & 7       & 3       &  1      & 25      &   50000 & 2       & 2       & 1       & 2       & 3       & 3       & 4       & 4       & 4      \\\\\n",
       "\t 2       & 2       & 2       & 9       & 1       &  1      &  1      &   20000 & 1       & 1       & 5       & 1       & 3       & 3       & 3       & 3       & 3      \\\\\n",
       "\t 1       & 1       & 3       & 8       & 4       &  2      &  3      &   42000 & 1       & 2       & 3       & 1       & 3       & 3       & 3       & 4       & 4      \\\\\n",
       "\t 1       & 1       & 4       & 8       & 4       &  2      &  3      &   42000 & 3       & 3       & 2       & 1       & 3       & 3       & 4       & 4       & 4      \\\\\n",
       "\t 2       & 1       & 4       & 4       & 3       &  2      & 20      &   40000 & 3       & 1       & 5       & 2       & 3       & 2       & 4       & 4       & 4      \\\\\n",
       "\t 2       & 2       & 4       & 4       & 6       &  1      &  6      &   70000 & 3       & 3       & 5       & 2       & 1       & 3       & 4       & 4       & 4      \\\\\n",
       "\t 2       & 2       & 8       & 4       & 5       &  5      &  6      &  200000 & 2       & 1       & 4       & 1       & 1       & 4       & 4       & 4       & 3      \\\\\n",
       "\t 1       & 2       & 4       & 2       & 6       &  2      &  1      &  200000 & 3       & 2       & 1       & 2       & 2       & 3       & 4       & 4       & 4      \\\\\n",
       "\t ... & ... & ... & ... & ... & ... & ... & ... & ... & ... & ... & ... & ... & ... & ... & ... & ...\\\\\n",
       "\t 2       & 2       & 4       &  5      & 2       & 1       & 10      &   30000 & 2       & 2       & 2       & 4       & 3       & 3       & 4       & 4       & 4      \\\\\n",
       "\t 1       & 2       & 4       &  6      & 6       & 7       &  5      &   50000 & 3       & 2       & 4       & 2       & 2       & 3       & 4       & 4       & 4      \\\\\n",
       "\t 1       & 2       & 4       &  1      & 4       & 1       &  1      &   10000 & 1       & 3       & 1       & 1       & 1       & 5       & 1       & 3       & 1      \\\\\n",
       "\t 1       & 1       & 4       &  4      & 3       & 2       &  1      &   10000 & 1       & 1       & 4       & 3       & 2       & 2       & 3       & 3       & 3      \\\\\n",
       "\t 1       & 1       & 4       &  4      & 3       & 2       &  3      &   50000 & 3       & 2       & 5       & 2       & 3       & 2       & 4       & 4       & 4      \\\\\n",
       "\t 1       & 2       & 2       &  5      & 4       & 2       &  1      &   60000 & 1       & 1       & 1       & 4       & 5       & 3       & 3       & 3       & 3      \\\\\n",
       "\t 1       & 1       & 6       &  1      & 3       & 2       &  2      &   50000 & 3       & 2       & 5       & 1       & 2       & 4       & 4       & 3       & 4      \\\\\n",
       "\t 2       & 2       & 6       &  4      & 6       & 1       &  3      &  500000 & 3       & 3       & 5       & 2       & 1       & 3       & 4       & 4       & 4      \\\\\n",
       "\t 1       & 2       & 4       &  1      & 3       & 2       &  1      &   50000 & 3       & 2       & 1       & 2       & 3       & 2       & 3       & 3       & 3      \\\\\n",
       "\t 2       & 2       & 6       &  3      & 4       & 1       &  1      &  100000 & 3       & 2       & 1       & 2       & 1       & 3       & 3       & 3       & 3      \\\\\n",
       "\t 2       & 2       & 4       &  7      & 4       & 1       &  2      &   50000 & 3       & 1       & 5       & 2       & 2       & 3       & 2       & 3       & 4      \\\\\n",
       "\t 2       & 2       & 4       &  4      & 2       & 2       & 12      &   20000 & 2       & 2       & 3       & 2       & 3       & 3       & 3       & 3       & 3      \\\\\n",
       "\t 1       & 1       & 4       &  4      & 4       & 2       &  4      &   35000 & 2       & 2       & 1       & 3       & 2       & 3       & 3       & 4       & 4      \\\\\n",
       "\t 1       & 1       & 4       &  4      & 4       & 2       &  4      &   30000 & 2       & 2       & 1       & 2       & 3       & 3       & 4       & 4       & 3      \\\\\n",
       "\t 2       & 2       & 4       &  7      & 1       & 2       &  2      &   50000 & 1       & 1       & 3       & 2       & 5       & 3       & 4       & 4       & 4      \\\\\n",
       "\t 2       & 2       & 4       &  7      & 1       & 2       &  3      &   50000 & 1       & 2       & 3       & 2       & 5       & 3       & 3       & 3       & 3      \\\\\n",
       "\t 2       & 1       & 4       &  4      & 2       & 2       &  7      &   80000 & 3       & 2       & 3       & 2       & 2       & 3       & 3       & 3       & 3      \\\\\n",
       "\t 1       & 1       & 4       &  1      & 3       & 2       &  6      &   20000 & 3       & 1       & 3       & 1       & 3       & 2       & 3       & 4       & 4      \\\\\n",
       "\t 1       & 1       & 4       & 10      & 2       & 2       &  2      &   25000 & 3       & 1       & 3       & 2       & 3       & 3       & 4       & 4       & 4      \\\\\n",
       "\t 2       & 1       & 3       &  8      & 1       & 1       &  7      &  100000 & 2       & 1       & 5       & 2       & 3       & 3       & 3       & 1       & 2      \\\\\n",
       "\t 1       & 2       & 4       &  4      & 3       & 2       &  2      &   50000 & 1       & 2       & 5       & 2       & 2       & 3       & 4       & 3       & 3      \\\\\n",
       "\t 1       & 2       & 4       &  4      & 5       & 2       &  1      &   80000 & 2       & 2       & 1       & 2       & 3       & 3       & 3       & 3       & 3      \\\\\n",
       "\t 2       & 2       & 6       &  7      & 5       & 1       &  2      &  300000 & 3       & 3       & 2       & 3       & 2       & 3       & 4       & 3       & 3      \\\\\n",
       "\t 2       & 2       & 7       &  7      & 4       & 1       &  2      &  200000 & 2       & 2       & 4       & 3       & 2       & 3       & 3       & 3       & 3      \\\\\n",
       "\t 1       & 1       & 2       &  1      & 2       & 2       &  5      &    3000 & 1       & 1       & 2       & 1       & 1       & 1       & 1       & 1       & 1      \\\\\n",
       "\t 1       & 1       & 4       &  2      & 3       & 2       &  6      &    4000 & 1       & 1       & 1       & 1       & 4       & 2       & 1       & 1       & 1      \\\\\n",
       "\t 2       & 2       & 4       &  4      & 2       & 1       & 10      &  150000 & 3       & 2       & 2       & 1       & 2       & 3       & 4       & 4       & 4      \\\\\n",
       "\t 2       & 2       & 7       &  8      & 1       & 2       &  3      &  100000 & 1       & 2       & 1       & 1       & 5       & 2       & 5       & 4       & 4      \\\\\n",
       "\t 1       & 1       & 4       &  6      & 1       & 3       &  2      &   20000 & 3       & 1       & 1       & 1       & 3       & 4       & 3       & 3       & 2      \\\\\n",
       "\t 2       & 2       & 6       & 10      & 1       & 1       & 10      & 1000000 & 3       & 2       & 3       & 1       & 3       & 2       & 3       & 3       & 3      \\\\\n",
       "\\end{tabular}\n"
      ],
      "text/markdown": [
       "\n",
       "| gender | marriage | edu | job | mincome | aware | count | amount | decision | propensity | skin | promo | location | satisf_b | satisf_i | satisf_al | repurchase |\n",
       "|---|---|---|---|---|---|---|---|---|---|---|---|---|---|---|---|---|\n",
       "| 1       | 1       | 4       | 1       | 2       |  2      |  1      |   11000 | 2       | 1       | 1       | 1       | 2       | 5       | 2       | 2       | 2       |\n",
       "| 2       | 1       | 4       | 9       | 2       |  1      |  4      |   30000 | 1       | 1       | 3       | 2       | 3       | 2       | 3       | 3       | 4       |\n",
       "| 2       | 2       | 4       | 4       | 3       |  1      |  6      |  100000 | 3       | 2       | 3       | 2       | 2       | 4       | 5       | 4       | 4       |\n",
       "| 2       | 2       | 4       | 7       | 5       |  2      |  6      |   65000 | 3       | 2       | 5       | 2       | 3       | 3       | 4       | 4       | 4       |\n",
       "| 1       | 2       | 6       | 6       | 5       |  2      |  2      |   50000 | 2       | 2       | 3       | 2       | 3       | 3       | 3       | 3       | 3       |\n",
       "| 2       | 2       | 2       | 7       | 3       |  1      |  2      |  100000 | 2       | 1       | 4       | 2       | 3       | 3       | 4       | 4       | 3       |\n",
       "| 2       | 1       | 6       | 4       | 5       |  1      |  5      |  100000 | 3       | 2       | 5       | 2       | 3       | 2       | 2       | 3       | 4       |\n",
       "| 1       | 1       | 6       | 4       | 5       |  4      | 10      |   39000 | 3       | 2       | 2       | 1       | 2       | 4       | 4       | 4       | 4       |\n",
       "| 2       | 2       | 4       | 5       | 2       |  2      |  2      |   40000 | 3       | 2       | 3       | 2       | 3       | 3       | 4       | 4       | 4       |\n",
       "| 2       | 2       | 4       | 5       | 2       |  1      |  2      |  100000 | 3       | 3       | 3       | 1       | 3       | 2       | 3       | 4       | 4       |\n",
       "| 2       | 1       | 7       | 4       | 3       | 10      |  3      |   50000 | 1       | 3       | 1       | 2       | 3       | 3       | 3       | 4       | 4       |\n",
       "| 1       | 1       | 2       | 5       | 3       |  2      |  1      |   30000 | 3       | 2       | 3       | 2       | 2       | 3       | 3       | 3       | 3       |\n",
       "| 2       | 2       | 4       | 4       | 3       |  4      |  4      |  320000 | 2       | 3       | 3       | 3       | 2       | 4       | 4       | 4       | 4       |\n",
       "| 2       | 2       | 4       | 4       | 2       |  3      |  2      |  200000 | 1       | 2       | 3       | 1       | 3       | 3       | 3       | 3       | 3       |\n",
       "| 1       | 2       | 4       | 4       | 6       |  2      |  2      |   60000 | 3       | 2       | 1       | 2       | 5       | 3       | 3       | 3       | 4       |\n",
       "| 2       | 1       | 4       | 5       | 2       |  2      |  3      |   50000 | 1       | 2       | 4       | 1       | 3       | 3       | 4       | 3       | 3       |\n",
       "| 1       | 2       | 8       | 3       | 2       |  5      |  3      | 1000000 | 1       | 3       | 1       | 2       | 2       | 3       | 3       | 3       | 3       |\n",
       "| 2       | 1       | 3       | 8       | 5       |  1      |  6      | 1500000 | 3       | 3       | 2       | 4       | 1       | 4       | 4       | 4       | 4       |\n",
       "| 1       | 2       | 2       | 6       | 2       |  4      |  1      |   80000 | 2       | 3       | 1       | 2       | 3       | 3       | 3       | 4       | 4       |\n",
       "| 1       | 1       | 4       | 4       | 3       |  8      |  3      |   30000 | 2       | 2       | 3       | 2       | 3       | 3       | 3       | 3       | 3       |\n",
       "| 2       | 2       | 2       | 4       | 2       |  8      |  4      |  350000 | 3       | 2       | 3       | 2       | 2       | 3       | 4       | 4       | 4       |\n",
       "| 2       | 2       | 4       | 7       | 6       |  1      |  4      |  250000 | 3       | 3       | 2       | 2       | 3       | 2       | 3       | 4       | 4       |\n",
       "| 2       | 2       | 4       | 7       | 3       |  1      | 25      |   50000 | 2       | 2       | 1       | 2       | 3       | 3       | 4       | 4       | 4       |\n",
       "| 2       | 2       | 2       | 9       | 1       |  1      |  1      |   20000 | 1       | 1       | 5       | 1       | 3       | 3       | 3       | 3       | 3       |\n",
       "| 1       | 1       | 3       | 8       | 4       |  2      |  3      |   42000 | 1       | 2       | 3       | 1       | 3       | 3       | 3       | 4       | 4       |\n",
       "| 1       | 1       | 4       | 8       | 4       |  2      |  3      |   42000 | 3       | 3       | 2       | 1       | 3       | 3       | 4       | 4       | 4       |\n",
       "| 2       | 1       | 4       | 4       | 3       |  2      | 20      |   40000 | 3       | 1       | 5       | 2       | 3       | 2       | 4       | 4       | 4       |\n",
       "| 2       | 2       | 4       | 4       | 6       |  1      |  6      |   70000 | 3       | 3       | 5       | 2       | 1       | 3       | 4       | 4       | 4       |\n",
       "| 2       | 2       | 8       | 4       | 5       |  5      |  6      |  200000 | 2       | 1       | 4       | 1       | 1       | 4       | 4       | 4       | 3       |\n",
       "| 1       | 2       | 4       | 2       | 6       |  2      |  1      |  200000 | 3       | 2       | 1       | 2       | 2       | 3       | 4       | 4       | 4       |\n",
       "| ... | ... | ... | ... | ... | ... | ... | ... | ... | ... | ... | ... | ... | ... | ... | ... | ... |\n",
       "| 2       | 2       | 4       |  5      | 2       | 1       | 10      |   30000 | 2       | 2       | 2       | 4       | 3       | 3       | 4       | 4       | 4       |\n",
       "| 1       | 2       | 4       |  6      | 6       | 7       |  5      |   50000 | 3       | 2       | 4       | 2       | 2       | 3       | 4       | 4       | 4       |\n",
       "| 1       | 2       | 4       |  1      | 4       | 1       |  1      |   10000 | 1       | 3       | 1       | 1       | 1       | 5       | 1       | 3       | 1       |\n",
       "| 1       | 1       | 4       |  4      | 3       | 2       |  1      |   10000 | 1       | 1       | 4       | 3       | 2       | 2       | 3       | 3       | 3       |\n",
       "| 1       | 1       | 4       |  4      | 3       | 2       |  3      |   50000 | 3       | 2       | 5       | 2       | 3       | 2       | 4       | 4       | 4       |\n",
       "| 1       | 2       | 2       |  5      | 4       | 2       |  1      |   60000 | 1       | 1       | 1       | 4       | 5       | 3       | 3       | 3       | 3       |\n",
       "| 1       | 1       | 6       |  1      | 3       | 2       |  2      |   50000 | 3       | 2       | 5       | 1       | 2       | 4       | 4       | 3       | 4       |\n",
       "| 2       | 2       | 6       |  4      | 6       | 1       |  3      |  500000 | 3       | 3       | 5       | 2       | 1       | 3       | 4       | 4       | 4       |\n",
       "| 1       | 2       | 4       |  1      | 3       | 2       |  1      |   50000 | 3       | 2       | 1       | 2       | 3       | 2       | 3       | 3       | 3       |\n",
       "| 2       | 2       | 6       |  3      | 4       | 1       |  1      |  100000 | 3       | 2       | 1       | 2       | 1       | 3       | 3       | 3       | 3       |\n",
       "| 2       | 2       | 4       |  7      | 4       | 1       |  2      |   50000 | 3       | 1       | 5       | 2       | 2       | 3       | 2       | 3       | 4       |\n",
       "| 2       | 2       | 4       |  4      | 2       | 2       | 12      |   20000 | 2       | 2       | 3       | 2       | 3       | 3       | 3       | 3       | 3       |\n",
       "| 1       | 1       | 4       |  4      | 4       | 2       |  4      |   35000 | 2       | 2       | 1       | 3       | 2       | 3       | 3       | 4       | 4       |\n",
       "| 1       | 1       | 4       |  4      | 4       | 2       |  4      |   30000 | 2       | 2       | 1       | 2       | 3       | 3       | 4       | 4       | 3       |\n",
       "| 2       | 2       | 4       |  7      | 1       | 2       |  2      |   50000 | 1       | 1       | 3       | 2       | 5       | 3       | 4       | 4       | 4       |\n",
       "| 2       | 2       | 4       |  7      | 1       | 2       |  3      |   50000 | 1       | 2       | 3       | 2       | 5       | 3       | 3       | 3       | 3       |\n",
       "| 2       | 1       | 4       |  4      | 2       | 2       |  7      |   80000 | 3       | 2       | 3       | 2       | 2       | 3       | 3       | 3       | 3       |\n",
       "| 1       | 1       | 4       |  1      | 3       | 2       |  6      |   20000 | 3       | 1       | 3       | 1       | 3       | 2       | 3       | 4       | 4       |\n",
       "| 1       | 1       | 4       | 10      | 2       | 2       |  2      |   25000 | 3       | 1       | 3       | 2       | 3       | 3       | 4       | 4       | 4       |\n",
       "| 2       | 1       | 3       |  8      | 1       | 1       |  7      |  100000 | 2       | 1       | 5       | 2       | 3       | 3       | 3       | 1       | 2       |\n",
       "| 1       | 2       | 4       |  4      | 3       | 2       |  2      |   50000 | 1       | 2       | 5       | 2       | 2       | 3       | 4       | 3       | 3       |\n",
       "| 1       | 2       | 4       |  4      | 5       | 2       |  1      |   80000 | 2       | 2       | 1       | 2       | 3       | 3       | 3       | 3       | 3       |\n",
       "| 2       | 2       | 6       |  7      | 5       | 1       |  2      |  300000 | 3       | 3       | 2       | 3       | 2       | 3       | 4       | 3       | 3       |\n",
       "| 2       | 2       | 7       |  7      | 4       | 1       |  2      |  200000 | 2       | 2       | 4       | 3       | 2       | 3       | 3       | 3       | 3       |\n",
       "| 1       | 1       | 2       |  1      | 2       | 2       |  5      |    3000 | 1       | 1       | 2       | 1       | 1       | 1       | 1       | 1       | 1       |\n",
       "| 1       | 1       | 4       |  2      | 3       | 2       |  6      |    4000 | 1       | 1       | 1       | 1       | 4       | 2       | 1       | 1       | 1       |\n",
       "| 2       | 2       | 4       |  4      | 2       | 1       | 10      |  150000 | 3       | 2       | 2       | 1       | 2       | 3       | 4       | 4       | 4       |\n",
       "| 2       | 2       | 7       |  8      | 1       | 2       |  3      |  100000 | 1       | 2       | 1       | 1       | 5       | 2       | 5       | 4       | 4       |\n",
       "| 1       | 1       | 4       |  6      | 1       | 3       |  2      |   20000 | 3       | 1       | 1       | 1       | 3       | 4       | 3       | 3       | 2       |\n",
       "| 2       | 2       | 6       | 10      | 1       | 1       | 10      | 1000000 | 3       | 2       | 3       | 1       | 3       | 2       | 3       | 3       | 3       |\n",
       "\n"
      ],
      "text/plain": [
       "    gender marriage edu job mincome aware count amount  decision propensity\n",
       "1   1      1        4   1   2        2     1      11000 2        1         \n",
       "2   2      1        4   9   2        1     4      30000 1        1         \n",
       "3   2      2        4   4   3        1     6     100000 3        2         \n",
       "4   2      2        4   7   5        2     6      65000 3        2         \n",
       "5   1      2        6   6   5        2     2      50000 2        2         \n",
       "6   2      2        2   7   3        1     2     100000 2        1         \n",
       "7   2      1        6   4   5        1     5     100000 3        2         \n",
       "8   1      1        6   4   5        4    10      39000 3        2         \n",
       "9   2      2        4   5   2        2     2      40000 3        2         \n",
       "10  2      2        4   5   2        1     2     100000 3        3         \n",
       "11  2      1        7   4   3       10     3      50000 1        3         \n",
       "12  1      1        2   5   3        2     1      30000 3        2         \n",
       "13  2      2        4   4   3        4     4     320000 2        3         \n",
       "14  2      2        4   4   2        3     2     200000 1        2         \n",
       "15  1      2        4   4   6        2     2      60000 3        2         \n",
       "16  2      1        4   5   2        2     3      50000 1        2         \n",
       "17  1      2        8   3   2        5     3    1000000 1        3         \n",
       "18  2      1        3   8   5        1     6    1500000 3        3         \n",
       "19  1      2        2   6   2        4     1      80000 2        3         \n",
       "20  1      1        4   4   3        8     3      30000 2        2         \n",
       "21  2      2        2   4   2        8     4     350000 3        2         \n",
       "22  2      2        4   7   6        1     4     250000 3        3         \n",
       "23  2      2        4   7   3        1    25      50000 2        2         \n",
       "24  2      2        2   9   1        1     1      20000 1        1         \n",
       "25  1      1        3   8   4        2     3      42000 1        2         \n",
       "26  1      1        4   8   4        2     3      42000 3        3         \n",
       "27  2      1        4   4   3        2    20      40000 3        1         \n",
       "28  2      2        4   4   6        1     6      70000 3        3         \n",
       "29  2      2        8   4   5        5     6     200000 2        1         \n",
       "30  1      2        4   2   6        2     1     200000 3        2         \n",
       "... ...    ...      ... ... ...     ...   ...   ...     ...      ...       \n",
       "218 2      2        4    5  2       1     10      30000 2        2         \n",
       "219 1      2        4    6  6       7      5      50000 3        2         \n",
       "220 1      2        4    1  4       1      1      10000 1        3         \n",
       "221 1      1        4    4  3       2      1      10000 1        1         \n",
       "222 1      1        4    4  3       2      3      50000 3        2         \n",
       "223 1      2        2    5  4       2      1      60000 1        1         \n",
       "224 1      1        6    1  3       2      2      50000 3        2         \n",
       "225 2      2        6    4  6       1      3     500000 3        3         \n",
       "226 1      2        4    1  3       2      1      50000 3        2         \n",
       "227 2      2        6    3  4       1      1     100000 3        2         \n",
       "228 2      2        4    7  4       1      2      50000 3        1         \n",
       "229 2      2        4    4  2       2     12      20000 2        2         \n",
       "230 1      1        4    4  4       2      4      35000 2        2         \n",
       "231 1      1        4    4  4       2      4      30000 2        2         \n",
       "232 2      2        4    7  1       2      2      50000 1        1         \n",
       "233 2      2        4    7  1       2      3      50000 1        2         \n",
       "234 2      1        4    4  2       2      7      80000 3        2         \n",
       "235 1      1        4    1  3       2      6      20000 3        1         \n",
       "236 1      1        4   10  2       2      2      25000 3        1         \n",
       "237 2      1        3    8  1       1      7     100000 2        1         \n",
       "238 1      2        4    4  3       2      2      50000 1        2         \n",
       "239 1      2        4    4  5       2      1      80000 2        2         \n",
       "240 2      2        6    7  5       1      2     300000 3        3         \n",
       "241 2      2        7    7  4       1      2     200000 2        2         \n",
       "242 1      1        2    1  2       2      5       3000 1        1         \n",
       "243 1      1        4    2  3       2      6       4000 1        1         \n",
       "244 2      2        4    4  2       1     10     150000 3        2         \n",
       "245 2      2        7    8  1       2      3     100000 1        2         \n",
       "246 1      1        4    6  1       3      2      20000 3        1         \n",
       "247 2      2        6   10  1       1     10    1000000 3        2         \n",
       "    skin promo location satisf_b satisf_i satisf_al repurchase\n",
       "1   1    1     2        5        2        2         2         \n",
       "2   3    2     3        2        3        3         4         \n",
       "3   3    2     2        4        5        4         4         \n",
       "4   5    2     3        3        4        4         4         \n",
       "5   3    2     3        3        3        3         3         \n",
       "6   4    2     3        3        4        4         3         \n",
       "7   5    2     3        2        2        3         4         \n",
       "8   2    1     2        4        4        4         4         \n",
       "9   3    2     3        3        4        4         4         \n",
       "10  3    1     3        2        3        4         4         \n",
       "11  1    2     3        3        3        4         4         \n",
       "12  3    2     2        3        3        3         3         \n",
       "13  3    3     2        4        4        4         4         \n",
       "14  3    1     3        3        3        3         3         \n",
       "15  1    2     5        3        3        3         4         \n",
       "16  4    1     3        3        4        3         3         \n",
       "17  1    2     2        3        3        3         3         \n",
       "18  2    4     1        4        4        4         4         \n",
       "19  1    2     3        3        3        4         4         \n",
       "20  3    2     3        3        3        3         3         \n",
       "21  3    2     2        3        4        4         4         \n",
       "22  2    2     3        2        3        4         4         \n",
       "23  1    2     3        3        4        4         4         \n",
       "24  5    1     3        3        3        3         3         \n",
       "25  3    1     3        3        3        4         4         \n",
       "26  2    1     3        3        4        4         4         \n",
       "27  5    2     3        2        4        4         4         \n",
       "28  5    2     1        3        4        4         4         \n",
       "29  4    1     1        4        4        4         3         \n",
       "30  1    2     2        3        4        4         4         \n",
       "... ...  ...   ...      ...      ...      ...       ...       \n",
       "218 2    4     3        3        4        4         4         \n",
       "219 4    2     2        3        4        4         4         \n",
       "220 1    1     1        5        1        3         1         \n",
       "221 4    3     2        2        3        3         3         \n",
       "222 5    2     3        2        4        4         4         \n",
       "223 1    4     5        3        3        3         3         \n",
       "224 5    1     2        4        4        3         4         \n",
       "225 5    2     1        3        4        4         4         \n",
       "226 1    2     3        2        3        3         3         \n",
       "227 1    2     1        3        3        3         3         \n",
       "228 5    2     2        3        2        3         4         \n",
       "229 3    2     3        3        3        3         3         \n",
       "230 1    3     2        3        3        4         4         \n",
       "231 1    2     3        3        4        4         3         \n",
       "232 3    2     5        3        4        4         4         \n",
       "233 3    2     5        3        3        3         3         \n",
       "234 3    2     2        3        3        3         3         \n",
       "235 3    1     3        2        3        4         4         \n",
       "236 3    2     3        3        4        4         4         \n",
       "237 5    2     3        3        3        1         2         \n",
       "238 5    2     2        3        4        3         3         \n",
       "239 1    2     3        3        3        3         3         \n",
       "240 2    3     2        3        4        3         3         \n",
       "241 4    3     2        3        3        3         3         \n",
       "242 2    1     1        1        1        1         1         \n",
       "243 1    1     4        2        1        1         1         \n",
       "244 2    1     2        3        4        4         4         \n",
       "245 1    1     5        2        5        4         4         \n",
       "246 1    1     3        4        3        3         2         \n",
       "247 3    1     3        2        3        3         3         "
      ]
     },
     "metadata": {},
     "output_type": "display_data"
    }
   ],
   "source": [
    "a"
   ]
  },
  {
   "cell_type": "markdown",
   "id": "8000d607",
   "metadata": {},
   "source": [
    "## 기술통계 방법 - aggregate() 함수 사용 , tapply() 함수 사용"
   ]
  },
  {
   "cell_type": "code",
   "execution_count": 9,
   "id": "396f46eb",
   "metadata": {},
   "outputs": [
    {
     "data": {
      "text/html": [
       "<table>\n",
       "<thead><tr><th scope=col>gender</th><th scope=col>count</th></tr></thead>\n",
       "<tbody>\n",
       "\t<tr><td>1       </td><td>3.227273</td></tr>\n",
       "\t<tr><td>2       </td><td>5.591304</td></tr>\n",
       "</tbody>\n",
       "</table>\n"
      ],
      "text/latex": [
       "\\begin{tabular}{r|ll}\n",
       " gender & count\\\\\n",
       "\\hline\n",
       "\t 1        & 3.227273\\\\\n",
       "\t 2        & 5.591304\\\\\n",
       "\\end{tabular}\n"
      ],
      "text/markdown": [
       "\n",
       "| gender | count |\n",
       "|---|---|\n",
       "| 1        | 3.227273 |\n",
       "| 2        | 5.591304 |\n",
       "\n"
      ],
      "text/plain": [
       "  gender count   \n",
       "1 1      3.227273\n",
       "2 2      5.591304"
      ]
     },
     "metadata": {},
     "output_type": "display_data"
    }
   ],
   "source": [
    "aggregate(count~gender, a, mean) # count는 연구매횟수"
   ]
  },
  {
   "cell_type": "code",
   "execution_count": 11,
   "id": "e6b13f9d",
   "metadata": {},
   "outputs": [
    {
     "data": {
      "text/html": [
       "<dl class=dl-horizontal>\n",
       "\t<dt>1</dt>\n",
       "\t\t<dd>3.22727272727273</dd>\n",
       "\t<dt>2</dt>\n",
       "\t\t<dd>5.59130434782609</dd>\n",
       "</dl>\n"
      ],
      "text/latex": [
       "\\begin{description*}\n",
       "\\item[1] 3.22727272727273\n",
       "\\item[2] 5.59130434782609\n",
       "\\end{description*}\n"
      ],
      "text/markdown": [
       "1\n",
       ":   3.227272727272732\n",
       ":   5.59130434782609\n",
       "\n"
      ],
      "text/plain": [
       "       1        2 \n",
       "3.227273 5.591304 "
      ]
     },
     "metadata": {},
     "output_type": "display_data"
    }
   ],
   "source": [
    "attach(a)\n",
    "tapply(count,gender,mean) "
   ]
  },
  {
   "cell_type": "code",
   "execution_count": 12,
   "id": "4a714bf1",
   "metadata": {},
   "outputs": [
    {
     "data": {
      "text/html": [
       "<dl class=dl-horizontal>\n",
       "\t<dt>1</dt>\n",
       "\t\t<dd>3.24235073777212</dd>\n",
       "\t<dt>2</dt>\n",
       "\t\t<dd>5.20609570544753</dd>\n",
       "</dl>\n"
      ],
      "text/latex": [
       "\\begin{description*}\n",
       "\\item[1] 3.24235073777212\n",
       "\\item[2] 5.20609570544753\n",
       "\\end{description*}\n"
      ],
      "text/markdown": [
       "1\n",
       ":   3.242350737772122\n",
       ":   5.20609570544753\n",
       "\n"
      ],
      "text/plain": [
       "       1        2 \n",
       "3.242351 5.206096 "
      ]
     },
     "metadata": {},
     "output_type": "display_data"
    }
   ],
   "source": [
    "tapply(count,gender,sd) # 표준편차 보고싶을때 sd사용하기"
   ]
  },
  {
   "cell_type": "markdown",
   "id": "0d33d6d5",
   "metadata": {},
   "source": [
    "### Rcmdr: R Commander\n",
    "\n",
    "- A platform-independent basic-statistics GUI (graphical user interface) for R, based on the tcltk package."
   ]
  },
  {
   "cell_type": "code",
   "execution_count": 14,
   "id": "d46b3f19",
   "metadata": {},
   "outputs": [
    {
     "name": "stderr",
     "output_type": "stream",
     "text": [
      "also installing the dependencies 'png', 'jpeg', 'checkmate', 'viridisLite', 'survival', 'Formula', 'latticeExtra', 'htmlTable', 'viridis', 'proxy', 'mitools', 'sandwich', 'Hmisc', 'e1071', 'readstata13', 'nortest', 'survey', 'estimability', 'insight', 'RcmdrMisc', 'effects', 'tcltk2', 'relimp'\n",
      "\n"
     ]
    },
    {
     "name": "stdout",
     "output_type": "stream",
     "text": [
      "\n",
      "  There are binary versions available but the source versions are later:\n",
      "             binary source needs_compilation\n",
      "jpeg        0.1-8.1  0.1-9              TRUE\n",
      "survival     3.2-11 3.2-13              TRUE\n",
      "htmlTable     2.1.0  2.4.0             FALSE\n",
      "viridis       0.6.1  0.6.2             FALSE\n",
      "proxy        0.4-25 0.4-26              TRUE\n",
      "sandwich      3.0-0  3.0-1             FALSE\n",
      "Hmisc         4.5-0  4.6-0              TRUE\n",
      "e1071         1.7-6  1.7-9              TRUE\n",
      "readstata13   0.9.2 0.10.0              TRUE\n",
      "survey          4.0  4.1-1             FALSE\n",
      "insight      0.14.0 0.15.0             FALSE\n",
      "RcmdrMisc     2.7-1  2.7-2             FALSE\n",
      "effects       4.2-0  4.2-1             FALSE\n",
      "Rcmdr         2.7-1  2.7-2             FALSE\n",
      "\n",
      "  Binaries will be installed\n",
      "package 'png' successfully unpacked and MD5 sums checked\n",
      "package 'jpeg' successfully unpacked and MD5 sums checked\n",
      "package 'checkmate' successfully unpacked and MD5 sums checked\n",
      "package 'viridisLite' successfully unpacked and MD5 sums checked\n",
      "package 'survival' successfully unpacked and MD5 sums checked\n",
      "package 'Formula' successfully unpacked and MD5 sums checked\n",
      "package 'latticeExtra' successfully unpacked and MD5 sums checked\n",
      "package 'proxy' successfully unpacked and MD5 sums checked\n",
      "package 'mitools' successfully unpacked and MD5 sums checked\n",
      "package 'Hmisc' successfully unpacked and MD5 sums checked\n",
      "package 'e1071' successfully unpacked and MD5 sums checked\n",
      "package 'readstata13' successfully unpacked and MD5 sums checked\n",
      "package 'nortest' successfully unpacked and MD5 sums checked\n",
      "package 'estimability' successfully unpacked and MD5 sums checked\n",
      "package 'tcltk2' successfully unpacked and MD5 sums checked\n",
      "package 'relimp' successfully unpacked and MD5 sums checked\n",
      "\n",
      "The downloaded binary packages are in\n",
      "\tC:\\Users\\MyCom\\AppData\\Local\\Temp\\RtmpSQXZ2X\\downloaded_packages\n"
     ]
    },
    {
     "name": "stderr",
     "output_type": "stream",
     "text": [
      "installing the source packages 'htmlTable', 'viridis', 'sandwich', 'survey', 'insight', 'RcmdrMisc', 'effects', 'Rcmdr'\n",
      "\n",
      "Warning message in install.packages(\"Rcmdr\"):\n",
      "\"installation of package 'effects' had non-zero exit status\"Warning message in install.packages(\"Rcmdr\"):\n",
      "\"installation of package 'Rcmdr' had non-zero exit status\""
     ]
    },
    {
     "ename": "ERROR",
     "evalue": "Error in library(Rcmdr): there is no package called 'Rcmdr'\n",
     "output_type": "error",
     "traceback": [
      "Error in library(Rcmdr): there is no package called 'Rcmdr'\nTraceback:\n",
      "1. library(Rcmdr)"
     ]
    }
   ],
   "source": [
    "install.packages('Rcmdr')\n",
    "library(Rcmdr)"
   ]
  },
  {
   "cell_type": "markdown",
   "id": "5a342ad5",
   "metadata": {},
   "source": [
    "### psych: Procedures for Psychological, Psychometric, and Personality Research"
   ]
  },
  {
   "cell_type": "code",
   "execution_count": 16,
   "id": "dead7b1e",
   "metadata": {},
   "outputs": [],
   "source": [
    "library(psych)"
   ]
  },
  {
   "cell_type": "code",
   "execution_count": 17,
   "id": "260865eb",
   "metadata": {},
   "outputs": [
    {
     "data": {
      "text/plain": [
       "\n",
       " Descriptive statistics by group \n",
       "group: 1\n",
       "   vars   n mean   sd median trimmed  mad min max range skew kurtosis   se\n",
       "X1    1 132 3.23 3.24      2    2.52 1.48   1  20    19 2.91    10.35 0.28\n",
       "------------------------------------------------------------ \n",
       "group: 2\n",
       "   vars   n mean   sd median trimmed  mad min max range skew kurtosis   se\n",
       "X1    1 115 5.59 5.21      4    4.65 2.97   1  36    35 2.81    10.72 0.49"
      ]
     },
     "metadata": {},
     "output_type": "display_data"
    }
   ],
   "source": [
    "describeBy(count,group=gender) # 훨씬 많은 것을 볼수 있다."
   ]
  },
  {
   "cell_type": "markdown",
   "id": "783b0dbe",
   "metadata": {},
   "source": [
    "## 등분산성 테스트\n",
    "\n",
    "- t-test분석 및 분산분석할때 기본적으로 만족해야되는 조건 중 한가지로, 분석하는 집단들의 분산이 같음을 의미한다.\n",
    "\n",
    "- 검정의 방법은 두 집단, 다 집단일때 달라진다. 또한 모수, 비모수에 따라 달라진다. \n",
    "\n",
    "> 두 집단일때 ftest 사용함 \n",
    "\n",
    ">   >귀무가설 : 등분산성이 있다.(분산의 차이가 없다.)\n",
    "\n",
    ">    >대립가설 : 등분산성이 없다.(분산의 차이가 있다.)\n",
    "\n",
    "> 다 집단일때 bartlett.test() 사용함 \n",
    "\n",
    ">   >귀무가설 : 등분산성이 있다.(분산의 차이가 없다.)\n",
    "\n",
    ">    >대립가설 : 등분산성이 없다.(분산의 차이가 있다.)\n",
    "\n",
    "- LenveneTest는 car package에 포함되어 있으니 일단은 library(car)를 통하여 이 패키지를 불러와야 한다."
   ]
  },
  {
   "cell_type": "markdown",
   "id": "57784e88",
   "metadata": {},
   "source": [
    "### 등분산, 이분산 차이 "
   ]
  },
  {
   "attachments": {
    "20220117_154346_1.png": {
     "image/png": "[encoded data removed]"
    }
   },
   "cell_type": "markdown",
   "id": "2d52fba6",
   "metadata": {},
   "source": [
    "![20220117_154346_1.png](attachment:20220117_154346_1.png)"
   ]
  },
  {
   "cell_type": "code",
   "execution_count": 20,
   "id": "bb67f9c8",
   "metadata": {},
   "outputs": [
    {
     "name": "stderr",
     "output_type": "stream",
     "text": [
      "also installing the dependency 'lme4'\n",
      "\n"
     ]
    },
    {
     "name": "stdout",
     "output_type": "stream",
     "text": [
      "\n",
      "  There are binary versions available but the source versions are later:\n",
      "     binary   source needs_compilation\n",
      "lme4 1.1-26 1.1-27.1              TRUE\n",
      "car  3.0-10   3.0-12             FALSE\n",
      "\n",
      "  Binaries will be installed\n",
      "package 'lme4' successfully unpacked and MD5 sums checked\n",
      "\n",
      "The downloaded binary packages are in\n",
      "\tC:\\Users\\MyCom\\AppData\\Local\\Temp\\RtmpSQXZ2X\\downloaded_packages\n"
     ]
    },
    {
     "name": "stderr",
     "output_type": "stream",
     "text": [
      "installing the source package 'car'\n",
      "\n"
     ]
    }
   ],
   "source": [
    "install.packages('car')\n",
    "library(car)"
   ]
  },
  {
   "cell_type": "code",
   "execution_count": 21,
   "id": "ca5a5cec",
   "metadata": {},
   "outputs": [
    {
     "data": {
      "text/html": [
       "<table>\n",
       "<thead><tr><th></th><th scope=col>Df</th><th scope=col>F value</th><th scope=col>Pr(&gt;F)</th></tr></thead>\n",
       "<tbody>\n",
       "\t<tr><th scope=row>group</th><td>  1        </td><td>10.81286   </td><td>0.001155889</td></tr>\n",
       "\t<tr><th scope=row> </th><td>245        </td><td>      NA   </td><td>         NA</td></tr>\n",
       "</tbody>\n",
       "</table>\n"
      ],
      "text/latex": [
       "\\begin{tabular}{r|lll}\n",
       "  & Df & F value & Pr(>F)\\\\\n",
       "\\hline\n",
       "\tgroup &   1         & 10.81286    & 0.001155889\\\\\n",
       "\t  & 245         &       NA    &          NA\\\\\n",
       "\\end{tabular}\n"
      ],
      "text/markdown": [
       "\n",
       "| <!--/--> | Df | F value | Pr(>F) |\n",
       "|---|---|---|---|\n",
       "| group |   1         | 10.81286    | 0.001155889 |\n",
       "|   | 245         |       NA    |          NA |\n",
       "\n"
      ],
      "text/plain": [
       "      Df  F value  Pr(>F)     \n",
       "group   1 10.81286 0.001155889\n",
       "      245       NA          NA"
      ]
     },
     "metadata": {},
     "output_type": "display_data"
    }
   ],
   "source": [
    "# 성별에 따른 연구매횟수 확인하기\n",
    "\n",
    "leveneTest(count,factor(gender),center=mean) #두집단의 분산이 '서로 같나?'를 확인할때 사용한다,\n",
    "# Pr값이 0.05보다 작으므로 등분산이 아니라 이분산이다."
   ]
  },
  {
   "cell_type": "code",
   "execution_count": 24,
   "id": "70a6420b",
   "metadata": {},
   "outputs": [
    {
     "data": {
      "text/plain": [
       "\n",
       "\tWelch Two Sample t-test\n",
       "\n",
       "data:  count by gender\n",
       "t = -4.2099, df = 185.62, p-value = 3.977e-05\n",
       "alternative hypothesis: true difference in means is not equal to 0\n",
       "95 percent confidence interval:\n",
       " -3.471848 -1.256215\n",
       "sample estimates:\n",
       "mean in group 1 mean in group 2 \n",
       "       3.227273        5.591304 \n"
      ]
     },
     "metadata": {},
     "output_type": "display_data"
    }
   ],
   "source": [
    "# 이분산 검증 \n",
    "t.test(count~gender, var.equal=F) # 3.977e-05  : 소수 다섯점까지 나타냄"
   ]
  },
  {
   "cell_type": "markdown",
   "id": "212723b2",
   "metadata": {},
   "source": [
    "- 두 집단의 분산이 서로 같다면 t값(검정통계량)이 0이 되고 p-value값이 1이 된다. 하지만 두 집단의 차이는 크다!"
   ]
  },
  {
   "cell_type": "code",
   "execution_count": 26,
   "id": "bac26c89",
   "metadata": {},
   "outputs": [
    {
     "data": {
      "text/plain": [
       "\n",
       " Descriptive statistics by group \n",
       "group: 1\n",
       "   vars   n mean   sd median trimmed  mad min max range  skew kurtosis   se\n",
       "X1    1 132 3.44 0.71      3    3.49 1.48   1   5     4 -0.98     2.18 0.06\n",
       "------------------------------------------------------------ \n",
       "group: 2\n",
       "   vars   n mean  sd median trimmed  mad min max range  skew kurtosis   se\n",
       "X1    1 115 3.49 0.8      4    3.54 1.48   1   5     4 -0.98        2 0.07"
      ]
     },
     "metadata": {},
     "output_type": "display_data"
    }
   ],
   "source": [
    "# 성별에 따른 전반만족도 확인하기\n",
    "\n",
    "describeBy(satisf_al,group=gender)"
   ]
  },
  {
   "cell_type": "code",
   "execution_count": 28,
   "id": "594752b2",
   "metadata": {},
   "outputs": [
    {
     "data": {
      "text/html": [
       "<table>\n",
       "<thead><tr><th></th><th scope=col>Df</th><th scope=col>F value</th><th scope=col>Pr(&gt;F)</th></tr></thead>\n",
       "<tbody>\n",
       "\t<tr><th scope=row>group</th><td>  1      </td><td>0.897477 </td><td>0.3443926</td></tr>\n",
       "\t<tr><th scope=row> </th><td>245      </td><td>      NA </td><td>       NA</td></tr>\n",
       "</tbody>\n",
       "</table>\n"
      ],
      "text/latex": [
       "\\begin{tabular}{r|lll}\n",
       "  & Df & F value & Pr(>F)\\\\\n",
       "\\hline\n",
       "\tgroup &   1       & 0.897477  & 0.3443926\\\\\n",
       "\t  & 245       &       NA  &        NA\\\\\n",
       "\\end{tabular}\n"
      ],
      "text/markdown": [
       "\n",
       "| <!--/--> | Df | F value | Pr(>F) |\n",
       "|---|---|---|---|\n",
       "| group |   1       | 0.897477  | 0.3443926 |\n",
       "|   | 245       |       NA  |        NA |\n",
       "\n"
      ],
      "text/plain": [
       "      Df  F value  Pr(>F)   \n",
       "group   1 0.897477 0.3443926\n",
       "      245       NA        NA"
      ]
     },
     "metadata": {},
     "output_type": "display_data"
    }
   ],
   "source": [
    "leveneTest(satisf_al,factor(gender),center=mean) #종속변수, 독립변수\n",
    "# p값이 0.05보다 크므로 등분산이다."
   ]
  },
  {
   "cell_type": "markdown",
   "id": "3985a940",
   "metadata": {},
   "source": [
    "#### 분산이 동일한 경우 var.equal을 TRUE로 설정하고, 동일하지 않은 경우 FALSE로 설정해야 합니다.\n",
    "\n",
    "- P값이 0.05보다 작으면 var.equal=F로 설정 그 반대면 T로 설정해준다."
   ]
  },
  {
   "cell_type": "markdown",
   "id": "9cd5423b",
   "metadata": {},
   "source": [
    "- P값이 0.05 이상이면 분산이 동일하다고 할 수 있고 , 0.05 이하이면 분산이 동일하다고 할 수 없다."
   ]
  },
  {
   "cell_type": "code",
   "execution_count": 29,
   "id": "a13cc9be",
   "metadata": {},
   "outputs": [
    {
     "data": {
      "text/plain": [
       "\n",
       "\tWelch Two Sample t-test\n",
       "\n",
       "data:  satisf_al by gender\n",
       "t = -0.49072, df = 230.47, p-value = 0.6241\n",
       "alternative hypothesis: true difference in means is not equal to 0\n",
       "95 percent confidence interval:\n",
       " -0.2385333  0.1434081\n",
       "sample estimates:\n",
       "mean in group 1 mean in group 2 \n",
       "       3.439394        3.486957 \n"
      ]
     },
     "metadata": {},
     "output_type": "display_data"
    }
   ],
   "source": [
    "t.test(satisf_al~gender,var.equal=T)  #P값이 0.05보다 크므로 var.equal를 T로 설정해준다.\n"
   ]
  },
  {
   "cell_type": "markdown",
   "id": "a983c22b",
   "metadata": {},
   "source": [
    "#### 결론 -  남녀간의 전반만족도 차이가 없다.( 귀무가설이 참일 가능성이 높다.)"
   ]
  },
  {
   "cell_type": "markdown",
   "id": "d2390112",
   "metadata": {},
   "source": [
    "# 그래프 그리기"
   ]
  },
  {
   "cell_type": "code",
   "execution_count": 30,
   "id": "be0ffa3b",
   "metadata": {},
   "outputs": [
    {
     "name": "stderr",
     "output_type": "stream",
     "text": [
      "Registered S3 methods overwritten by 'tibble':\n",
      "  method     from  \n",
      "  format.tbl pillar\n",
      "  print.tbl  pillar\n",
      "\n",
      "Attaching package: 'ggplot2'\n",
      "\n",
      "The following objects are masked from 'package:psych':\n",
      "\n",
      "    %+%, alpha\n",
      "\n"
     ]
    }
   ],
   "source": [
    "library(ggplot2)"
   ]
  },
  {
   "cell_type": "code",
   "execution_count": 34,
   "id": "a8169fa1",
   "metadata": {},
   "outputs": [
    {
     "data": {
      "image/png": "[encoded data removed]",
      "text/plain": [
       "plot without title"
      ]
     },
     "metadata": {},
     "output_type": "display_data"
    }
   ],
   "source": [
    "a$gender<-factor(a$gender, levels=c(1,2), labels=c('남','여'))\n",
    "ggplot(a,aes(x=as.factor(gender),y=count)) + geom_boxplot(fill='slateblue', alpha= 0.2) + xlab('gender')"
   ]
  },
  {
   "cell_type": "code",
   "execution_count": 35,
   "id": "01dda3e6",
   "metadata": {},
   "outputs": [
    {
     "data": {
      "image/png": "[encoded data removed]",
      "text/plain": [
       "plot without title"
      ]
     },
     "metadata": {},
     "output_type": "display_data"
    }
   ],
   "source": [
    "ggplot(a,aes(x=as.factor(gender),y=satisf_al)) + geom_boxplot(fill='blue', alpha= 0.2) + xlab('gender')"
   ]
  },
  {
   "cell_type": "code",
   "execution_count": 38,
   "id": "26d04a47",
   "metadata": {},
   "outputs": [
    {
     "data": {
      "image/png": "[encoded data removed]",
      "text/plain": [
       "plot without title"
      ]
     },
     "metadata": {},
     "output_type": "display_data"
    }
   ],
   "source": [
    "ggplot(data=a, aes(x=count, group=gender, fill=gender)) + geom_density(adjust=1.5)"
   ]
  },
  {
   "cell_type": "code",
   "execution_count": null,
   "id": "f26b035a",
   "metadata": {},
   "outputs": [],
   "source": []
  }
 ],
 "metadata": {
  "kernelspec": {
   "display_name": "R",
   "language": "R",
   "name": "ir"
  },
  "language_info": {
   "codemirror_mode": "r",
   "file_extension": ".r",
   "mimetype": "text/x-r-source",
   "name": "R",
   "pygments_lexer": "r",
   "version": "3.6.1"
  },
  "toc": {
   "base_numbering": 1,
   "nav_menu": {},
   "number_sections": true,
   "sideBar": true,
   "skip_h1_title": false,
   "title_cell": "Table of Contents",
   "title_sidebar": "Contents",
   "toc_cell": false,
   "toc_position": {},
   "toc_section_display": true,
   "toc_window_display": false
  }
 },
 "nbformat": 4,
 "nbformat_minor": 5
}
