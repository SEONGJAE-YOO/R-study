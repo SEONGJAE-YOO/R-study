{
 "cells": [
  {
   "cell_type": "markdown",
   "id": "555b8e60",
   "metadata": {},
   "source": [
    "# 대응표본 t-test분석\n",
    "\n",
    "##  대응표본이란?\n",
    "\n",
    "두 집단의 자료를 쌍으로 묶을 수 있을 때\n",
    "\n",
    "예) 남편과 아내, 쌍둥이, before & after\n",
    "\n",
    "두 집단의 자료를 쌍으로 묶어야 하기 때문에, 독립표본과는 달리 두 집단의 자료 갯수가 동일해야 함\n",
    "\n",
    "\n",
    "## 대응표본 조건\n",
    "\n",
    "##### 참고사이트 - [https://blog.naver.com/istech7/50151133528](https://blog.naver.com/istech7/50151133528)\n",
    "\n",
    "### 1. 자료는 모두 동일 간격을 가진 연속형 수치여야 한다 \n",
    "\n",
    "키와 몸무게,혈압, 콜레스테롤 수치와 같은 값들은 두 숫자 사이에 끊임없이 다른 숫자가 나타날 수 있는 연속형 수치이며 또한 동일 간격을 가집니다. 이러한 특성을 가진 자료를 비 척도 자료라고 합니다.\n",
    "\n",
    "반면, IQ 및 온도와 같은 수치도 동일 간격을 가지는 연속형 수치입니다.\n",
    "하지만 위에서 든 예와는 달리 한 숫자를 다른 숫자에 비해 몇 배 더 크다라고 할 수는 없습니다. 섭씨 40도 온도가 섭씨 20도 온도보다 2배 더 덥다고 할 수 없는 것도 마찬가지입니다. 이러한 특성을 가진 자료를 간격 척도자료라고 합니다.\n",
    "\n",
    "이렇게 자료가 동일 간격을 가진 연속형 수치인 비 척도 또는 간격 척도인 경우에만 대응 표본 T검정 방법을 사용할 수 있습니다.\n",
    "\n",
    "### 2. 두 집단은 반드시 서로 짝을 이루고 있어야 합니다.\n",
    "\n",
    "### 3. 자료의 수치는 정규성을 가져야 합니다. 좌 우가 거의 대칭구조를 보이는 정규분포를 이루어야합니다.\n",
    "\n"
   ]
  },
  {
   "cell_type": "code",
   "execution_count": 1,
   "id": "b83a8c6f",
   "metadata": {},
   "outputs": [],
   "source": [
    "a<- read.csv('cosmetics.csv', header = T)"
   ]
  },
  {
   "cell_type": "code",
   "execution_count": 5,
   "id": "3003a41a",
   "metadata": {},
   "outputs": [
    {
     "data": {
      "text/html": [
       "<table>\n",
       "<thead><tr><th scope=col>gender</th><th scope=col>marriage</th><th scope=col>edu</th><th scope=col>job</th><th scope=col>mincome</th><th scope=col>aware</th><th scope=col>count</th><th scope=col>amount</th><th scope=col>decision</th><th scope=col>propensity</th><th scope=col>skin</th><th scope=col>promo</th><th scope=col>location</th><th scope=col>satisf_b</th><th scope=col>satisf_i</th><th scope=col>satisf_al</th><th scope=col>repurchase</th></tr></thead>\n",
       "<tbody>\n",
       "\t<tr><td>1      </td><td>1      </td><td>4      </td><td>1      </td><td>2      </td><td> 2     </td><td> 1     </td><td>  11000</td><td>2      </td><td>1      </td><td>1      </td><td>1      </td><td>2      </td><td>5      </td><td>2      </td><td>2      </td><td>2      </td></tr>\n",
       "\t<tr><td>2      </td><td>1      </td><td>4      </td><td>9      </td><td>2      </td><td> 1     </td><td> 4     </td><td>  30000</td><td>1      </td><td>1      </td><td>3      </td><td>2      </td><td>3      </td><td>2      </td><td>3      </td><td>3      </td><td>4      </td></tr>\n",
       "\t<tr><td>2      </td><td>2      </td><td>4      </td><td>4      </td><td>3      </td><td> 1     </td><td> 6     </td><td> 100000</td><td>3      </td><td>2      </td><td>3      </td><td>2      </td><td>2      </td><td>4      </td><td>5      </td><td>4      </td><td>4      </td></tr>\n",
       "\t<tr><td>2      </td><td>2      </td><td>4      </td><td>7      </td><td>5      </td><td> 2     </td><td> 6     </td><td>  65000</td><td>3      </td><td>2      </td><td>5      </td><td>2      </td><td>3      </td><td>3      </td><td>4      </td><td>4      </td><td>4      </td></tr>\n",
       "\t<tr><td>1      </td><td>2      </td><td>6      </td><td>6      </td><td>5      </td><td> 2     </td><td> 2     </td><td>  50000</td><td>2      </td><td>2      </td><td>3      </td><td>2      </td><td>3      </td><td>3      </td><td>3      </td><td>3      </td><td>3      </td></tr>\n",
       "\t<tr><td>2      </td><td>2      </td><td>2      </td><td>7      </td><td>3      </td><td> 1     </td><td> 2     </td><td> 100000</td><td>2      </td><td>1      </td><td>4      </td><td>2      </td><td>3      </td><td>3      </td><td>4      </td><td>4      </td><td>3      </td></tr>\n",
       "\t<tr><td>2      </td><td>1      </td><td>6      </td><td>4      </td><td>5      </td><td> 1     </td><td> 5     </td><td> 100000</td><td>3      </td><td>2      </td><td>5      </td><td>2      </td><td>3      </td><td>2      </td><td>2      </td><td>3      </td><td>4      </td></tr>\n",
       "\t<tr><td>1      </td><td>1      </td><td>6      </td><td>4      </td><td>5      </td><td> 4     </td><td>10     </td><td>  39000</td><td>3      </td><td>2      </td><td>2      </td><td>1      </td><td>2      </td><td>4      </td><td>4      </td><td>4      </td><td>4      </td></tr>\n",
       "\t<tr><td>2      </td><td>2      </td><td>4      </td><td>5      </td><td>2      </td><td> 2     </td><td> 2     </td><td>  40000</td><td>3      </td><td>2      </td><td>3      </td><td>2      </td><td>3      </td><td>3      </td><td>4      </td><td>4      </td><td>4      </td></tr>\n",
       "\t<tr><td>2      </td><td>2      </td><td>4      </td><td>5      </td><td>2      </td><td> 1     </td><td> 2     </td><td> 100000</td><td>3      </td><td>3      </td><td>3      </td><td>1      </td><td>3      </td><td>2      </td><td>3      </td><td>4      </td><td>4      </td></tr>\n",
       "\t<tr><td>2      </td><td>1      </td><td>7      </td><td>4      </td><td>3      </td><td>10     </td><td> 3     </td><td>  50000</td><td>1      </td><td>3      </td><td>1      </td><td>2      </td><td>3      </td><td>3      </td><td>3      </td><td>4      </td><td>4      </td></tr>\n",
       "\t<tr><td>1      </td><td>1      </td><td>2      </td><td>5      </td><td>3      </td><td> 2     </td><td> 1     </td><td>  30000</td><td>3      </td><td>2      </td><td>3      </td><td>2      </td><td>2      </td><td>3      </td><td>3      </td><td>3      </td><td>3      </td></tr>\n",
       "\t<tr><td>2      </td><td>2      </td><td>4      </td><td>4      </td><td>3      </td><td> 4     </td><td> 4     </td><td> 320000</td><td>2      </td><td>3      </td><td>3      </td><td>3      </td><td>2      </td><td>4      </td><td>4      </td><td>4      </td><td>4      </td></tr>\n",
       "\t<tr><td>2      </td><td>2      </td><td>4      </td><td>4      </td><td>2      </td><td> 3     </td><td> 2     </td><td> 200000</td><td>1      </td><td>2      </td><td>3      </td><td>1      </td><td>3      </td><td>3      </td><td>3      </td><td>3      </td><td>3      </td></tr>\n",
       "\t<tr><td>1      </td><td>2      </td><td>4      </td><td>4      </td><td>6      </td><td> 2     </td><td> 2     </td><td>  60000</td><td>3      </td><td>2      </td><td>1      </td><td>2      </td><td>5      </td><td>3      </td><td>3      </td><td>3      </td><td>4      </td></tr>\n",
       "\t<tr><td>2      </td><td>1      </td><td>4      </td><td>5      </td><td>2      </td><td> 2     </td><td> 3     </td><td>  50000</td><td>1      </td><td>2      </td><td>4      </td><td>1      </td><td>3      </td><td>3      </td><td>4      </td><td>3      </td><td>3      </td></tr>\n",
       "\t<tr><td>1      </td><td>2      </td><td>8      </td><td>3      </td><td>2      </td><td> 5     </td><td> 3     </td><td>1000000</td><td>1      </td><td>3      </td><td>1      </td><td>2      </td><td>2      </td><td>3      </td><td>3      </td><td>3      </td><td>3      </td></tr>\n",
       "\t<tr><td>2      </td><td>1      </td><td>3      </td><td>8      </td><td>5      </td><td> 1     </td><td> 6     </td><td>1500000</td><td>3      </td><td>3      </td><td>2      </td><td>4      </td><td>1      </td><td>4      </td><td>4      </td><td>4      </td><td>4      </td></tr>\n",
       "\t<tr><td>1      </td><td>2      </td><td>2      </td><td>6      </td><td>2      </td><td> 4     </td><td> 1     </td><td>  80000</td><td>2      </td><td>3      </td><td>1      </td><td>2      </td><td>3      </td><td>3      </td><td>3      </td><td>4      </td><td>4      </td></tr>\n",
       "\t<tr><td>1      </td><td>1      </td><td>4      </td><td>4      </td><td>3      </td><td> 8     </td><td> 3     </td><td>  30000</td><td>2      </td><td>2      </td><td>3      </td><td>2      </td><td>3      </td><td>3      </td><td>3      </td><td>3      </td><td>3      </td></tr>\n",
       "\t<tr><td>2      </td><td>2      </td><td>2      </td><td>4      </td><td>2      </td><td> 8     </td><td> 4     </td><td> 350000</td><td>3      </td><td>2      </td><td>3      </td><td>2      </td><td>2      </td><td>3      </td><td>4      </td><td>4      </td><td>4      </td></tr>\n",
       "\t<tr><td>2      </td><td>2      </td><td>4      </td><td>7      </td><td>6      </td><td> 1     </td><td> 4     </td><td> 250000</td><td>3      </td><td>3      </td><td>2      </td><td>2      </td><td>3      </td><td>2      </td><td>3      </td><td>4      </td><td>4      </td></tr>\n",
       "\t<tr><td>2      </td><td>2      </td><td>4      </td><td>7      </td><td>3      </td><td> 1     </td><td>25     </td><td>  50000</td><td>2      </td><td>2      </td><td>1      </td><td>2      </td><td>3      </td><td>3      </td><td>4      </td><td>4      </td><td>4      </td></tr>\n",
       "\t<tr><td>2      </td><td>2      </td><td>2      </td><td>9      </td><td>1      </td><td> 1     </td><td> 1     </td><td>  20000</td><td>1      </td><td>1      </td><td>5      </td><td>1      </td><td>3      </td><td>3      </td><td>3      </td><td>3      </td><td>3      </td></tr>\n",
       "\t<tr><td>1      </td><td>1      </td><td>3      </td><td>8      </td><td>4      </td><td> 2     </td><td> 3     </td><td>  42000</td><td>1      </td><td>2      </td><td>3      </td><td>1      </td><td>3      </td><td>3      </td><td>3      </td><td>4      </td><td>4      </td></tr>\n",
       "\t<tr><td>1      </td><td>1      </td><td>4      </td><td>8      </td><td>4      </td><td> 2     </td><td> 3     </td><td>  42000</td><td>3      </td><td>3      </td><td>2      </td><td>1      </td><td>3      </td><td>3      </td><td>4      </td><td>4      </td><td>4      </td></tr>\n",
       "\t<tr><td>2      </td><td>1      </td><td>4      </td><td>4      </td><td>3      </td><td> 2     </td><td>20     </td><td>  40000</td><td>3      </td><td>1      </td><td>5      </td><td>2      </td><td>3      </td><td>2      </td><td>4      </td><td>4      </td><td>4      </td></tr>\n",
       "\t<tr><td>2      </td><td>2      </td><td>4      </td><td>4      </td><td>6      </td><td> 1     </td><td> 6     </td><td>  70000</td><td>3      </td><td>3      </td><td>5      </td><td>2      </td><td>1      </td><td>3      </td><td>4      </td><td>4      </td><td>4      </td></tr>\n",
       "\t<tr><td>2      </td><td>2      </td><td>8      </td><td>4      </td><td>5      </td><td> 5     </td><td> 6     </td><td> 200000</td><td>2      </td><td>1      </td><td>4      </td><td>1      </td><td>1      </td><td>4      </td><td>4      </td><td>4      </td><td>3      </td></tr>\n",
       "\t<tr><td>1      </td><td>2      </td><td>4      </td><td>2      </td><td>6      </td><td> 2     </td><td> 1     </td><td> 200000</td><td>3      </td><td>2      </td><td>1      </td><td>2      </td><td>2      </td><td>3      </td><td>4      </td><td>4      </td><td>4      </td></tr>\n",
       "\t<tr><td>...</td><td>...</td><td>...</td><td>...</td><td>...</td><td>...</td><td>...</td><td>...</td><td>...</td><td>...</td><td>...</td><td>...</td><td>...</td><td>...</td><td>...</td><td>...</td><td>...</td></tr>\n",
       "\t<tr><td>2      </td><td>2      </td><td>4      </td><td> 5     </td><td>2      </td><td>1      </td><td>10     </td><td>  30000</td><td>2      </td><td>2      </td><td>2      </td><td>4      </td><td>3      </td><td>3      </td><td>4      </td><td>4      </td><td>4      </td></tr>\n",
       "\t<tr><td>1      </td><td>2      </td><td>4      </td><td> 6     </td><td>6      </td><td>7      </td><td> 5     </td><td>  50000</td><td>3      </td><td>2      </td><td>4      </td><td>2      </td><td>2      </td><td>3      </td><td>4      </td><td>4      </td><td>4      </td></tr>\n",
       "\t<tr><td>1      </td><td>2      </td><td>4      </td><td> 1     </td><td>4      </td><td>1      </td><td> 1     </td><td>  10000</td><td>1      </td><td>3      </td><td>1      </td><td>1      </td><td>1      </td><td>5      </td><td>1      </td><td>3      </td><td>1      </td></tr>\n",
       "\t<tr><td>1      </td><td>1      </td><td>4      </td><td> 4     </td><td>3      </td><td>2      </td><td> 1     </td><td>  10000</td><td>1      </td><td>1      </td><td>4      </td><td>3      </td><td>2      </td><td>2      </td><td>3      </td><td>3      </td><td>3      </td></tr>\n",
       "\t<tr><td>1      </td><td>1      </td><td>4      </td><td> 4     </td><td>3      </td><td>2      </td><td> 3     </td><td>  50000</td><td>3      </td><td>2      </td><td>5      </td><td>2      </td><td>3      </td><td>2      </td><td>4      </td><td>4      </td><td>4      </td></tr>\n",
       "\t<tr><td>1      </td><td>2      </td><td>2      </td><td> 5     </td><td>4      </td><td>2      </td><td> 1     </td><td>  60000</td><td>1      </td><td>1      </td><td>1      </td><td>4      </td><td>5      </td><td>3      </td><td>3      </td><td>3      </td><td>3      </td></tr>\n",
       "\t<tr><td>1      </td><td>1      </td><td>6      </td><td> 1     </td><td>3      </td><td>2      </td><td> 2     </td><td>  50000</td><td>3      </td><td>2      </td><td>5      </td><td>1      </td><td>2      </td><td>4      </td><td>4      </td><td>3      </td><td>4      </td></tr>\n",
       "\t<tr><td>2      </td><td>2      </td><td>6      </td><td> 4     </td><td>6      </td><td>1      </td><td> 3     </td><td> 500000</td><td>3      </td><td>3      </td><td>5      </td><td>2      </td><td>1      </td><td>3      </td><td>4      </td><td>4      </td><td>4      </td></tr>\n",
       "\t<tr><td>1      </td><td>2      </td><td>4      </td><td> 1     </td><td>3      </td><td>2      </td><td> 1     </td><td>  50000</td><td>3      </td><td>2      </td><td>1      </td><td>2      </td><td>3      </td><td>2      </td><td>3      </td><td>3      </td><td>3      </td></tr>\n",
       "\t<tr><td>2      </td><td>2      </td><td>6      </td><td> 3     </td><td>4      </td><td>1      </td><td> 1     </td><td> 100000</td><td>3      </td><td>2      </td><td>1      </td><td>2      </td><td>1      </td><td>3      </td><td>3      </td><td>3      </td><td>3      </td></tr>\n",
       "\t<tr><td>2      </td><td>2      </td><td>4      </td><td> 7     </td><td>4      </td><td>1      </td><td> 2     </td><td>  50000</td><td>3      </td><td>1      </td><td>5      </td><td>2      </td><td>2      </td><td>3      </td><td>2      </td><td>3      </td><td>4      </td></tr>\n",
       "\t<tr><td>2      </td><td>2      </td><td>4      </td><td> 4     </td><td>2      </td><td>2      </td><td>12     </td><td>  20000</td><td>2      </td><td>2      </td><td>3      </td><td>2      </td><td>3      </td><td>3      </td><td>3      </td><td>3      </td><td>3      </td></tr>\n",
       "\t<tr><td>1      </td><td>1      </td><td>4      </td><td> 4     </td><td>4      </td><td>2      </td><td> 4     </td><td>  35000</td><td>2      </td><td>2      </td><td>1      </td><td>3      </td><td>2      </td><td>3      </td><td>3      </td><td>4      </td><td>4      </td></tr>\n",
       "\t<tr><td>1      </td><td>1      </td><td>4      </td><td> 4     </td><td>4      </td><td>2      </td><td> 4     </td><td>  30000</td><td>2      </td><td>2      </td><td>1      </td><td>2      </td><td>3      </td><td>3      </td><td>4      </td><td>4      </td><td>3      </td></tr>\n",
       "\t<tr><td>2      </td><td>2      </td><td>4      </td><td> 7     </td><td>1      </td><td>2      </td><td> 2     </td><td>  50000</td><td>1      </td><td>1      </td><td>3      </td><td>2      </td><td>5      </td><td>3      </td><td>4      </td><td>4      </td><td>4      </td></tr>\n",
       "\t<tr><td>2      </td><td>2      </td><td>4      </td><td> 7     </td><td>1      </td><td>2      </td><td> 3     </td><td>  50000</td><td>1      </td><td>2      </td><td>3      </td><td>2      </td><td>5      </td><td>3      </td><td>3      </td><td>3      </td><td>3      </td></tr>\n",
       "\t<tr><td>2      </td><td>1      </td><td>4      </td><td> 4     </td><td>2      </td><td>2      </td><td> 7     </td><td>  80000</td><td>3      </td><td>2      </td><td>3      </td><td>2      </td><td>2      </td><td>3      </td><td>3      </td><td>3      </td><td>3      </td></tr>\n",
       "\t<tr><td>1      </td><td>1      </td><td>4      </td><td> 1     </td><td>3      </td><td>2      </td><td> 6     </td><td>  20000</td><td>3      </td><td>1      </td><td>3      </td><td>1      </td><td>3      </td><td>2      </td><td>3      </td><td>4      </td><td>4      </td></tr>\n",
       "\t<tr><td>1      </td><td>1      </td><td>4      </td><td>10     </td><td>2      </td><td>2      </td><td> 2     </td><td>  25000</td><td>3      </td><td>1      </td><td>3      </td><td>2      </td><td>3      </td><td>3      </td><td>4      </td><td>4      </td><td>4      </td></tr>\n",
       "\t<tr><td>2      </td><td>1      </td><td>3      </td><td> 8     </td><td>1      </td><td>1      </td><td> 7     </td><td> 100000</td><td>2      </td><td>1      </td><td>5      </td><td>2      </td><td>3      </td><td>3      </td><td>3      </td><td>1      </td><td>2      </td></tr>\n",
       "\t<tr><td>1      </td><td>2      </td><td>4      </td><td> 4     </td><td>3      </td><td>2      </td><td> 2     </td><td>  50000</td><td>1      </td><td>2      </td><td>5      </td><td>2      </td><td>2      </td><td>3      </td><td>4      </td><td>3      </td><td>3      </td></tr>\n",
       "\t<tr><td>1      </td><td>2      </td><td>4      </td><td> 4     </td><td>5      </td><td>2      </td><td> 1     </td><td>  80000</td><td>2      </td><td>2      </td><td>1      </td><td>2      </td><td>3      </td><td>3      </td><td>3      </td><td>3      </td><td>3      </td></tr>\n",
       "\t<tr><td>2      </td><td>2      </td><td>6      </td><td> 7     </td><td>5      </td><td>1      </td><td> 2     </td><td> 300000</td><td>3      </td><td>3      </td><td>2      </td><td>3      </td><td>2      </td><td>3      </td><td>4      </td><td>3      </td><td>3      </td></tr>\n",
       "\t<tr><td>2      </td><td>2      </td><td>7      </td><td> 7     </td><td>4      </td><td>1      </td><td> 2     </td><td> 200000</td><td>2      </td><td>2      </td><td>4      </td><td>3      </td><td>2      </td><td>3      </td><td>3      </td><td>3      </td><td>3      </td></tr>\n",
       "\t<tr><td>1      </td><td>1      </td><td>2      </td><td> 1     </td><td>2      </td><td>2      </td><td> 5     </td><td>   3000</td><td>1      </td><td>1      </td><td>2      </td><td>1      </td><td>1      </td><td>1      </td><td>1      </td><td>1      </td><td>1      </td></tr>\n",
       "\t<tr><td>1      </td><td>1      </td><td>4      </td><td> 2     </td><td>3      </td><td>2      </td><td> 6     </td><td>   4000</td><td>1      </td><td>1      </td><td>1      </td><td>1      </td><td>4      </td><td>2      </td><td>1      </td><td>1      </td><td>1      </td></tr>\n",
       "\t<tr><td>2      </td><td>2      </td><td>4      </td><td> 4     </td><td>2      </td><td>1      </td><td>10     </td><td> 150000</td><td>3      </td><td>2      </td><td>2      </td><td>1      </td><td>2      </td><td>3      </td><td>4      </td><td>4      </td><td>4      </td></tr>\n",
       "\t<tr><td>2      </td><td>2      </td><td>7      </td><td> 8     </td><td>1      </td><td>2      </td><td> 3     </td><td> 100000</td><td>1      </td><td>2      </td><td>1      </td><td>1      </td><td>5      </td><td>2      </td><td>5      </td><td>4      </td><td>4      </td></tr>\n",
       "\t<tr><td>1      </td><td>1      </td><td>4      </td><td> 6     </td><td>1      </td><td>3      </td><td> 2     </td><td>  20000</td><td>3      </td><td>1      </td><td>1      </td><td>1      </td><td>3      </td><td>4      </td><td>3      </td><td>3      </td><td>2      </td></tr>\n",
       "\t<tr><td>2      </td><td>2      </td><td>6      </td><td>10     </td><td>1      </td><td>1      </td><td>10     </td><td>1000000</td><td>3      </td><td>2      </td><td>3      </td><td>1      </td><td>3      </td><td>2      </td><td>3      </td><td>3      </td><td>3      </td></tr>\n",
       "</tbody>\n",
       "</table>\n"
      ],
      "text/latex": [
       "\\begin{tabular}{r|lllllllllllllllll}\n",
       " gender & marriage & edu & job & mincome & aware & count & amount & decision & propensity & skin & promo & location & satisf\\_b & satisf\\_i & satisf\\_al & repurchase\\\\\n",
       "\\hline\n",
       "\t 1       & 1       & 4       & 1       & 2       &  2      &  1      &   11000 & 2       & 1       & 1       & 1       & 2       & 5       & 2       & 2       & 2      \\\\\n",
       "\t 2       & 1       & 4       & 9       & 2       &  1      &  4      &   30000 & 1       & 1       & 3       & 2       & 3       & 2       & 3       & 3       & 4      \\\\\n",
       "\t 2       & 2       & 4       & 4       & 3       &  1      &  6      &  100000 & 3       & 2       & 3       & 2       & 2       & 4       & 5       & 4       & 4      \\\\\n",
       "\t 2       & 2       & 4       & 7       & 5       &  2      &  6      &   65000 & 3       & 2       & 5       & 2       & 3       & 3       & 4       & 4       & 4      \\\\\n",
       "\t 1       & 2       & 6       & 6       & 5       &  2      &  2      &   50000 & 2       & 2       & 3       & 2       & 3       & 3       & 3       & 3       & 3      \\\\\n",
       "\t 2       & 2       & 2       & 7       & 3       &  1      &  2      &  100000 & 2       & 1       & 4       & 2       & 3       & 3       & 4       & 4       & 3      \\\\\n",
       "\t 2       & 1       & 6       & 4       & 5       &  1      &  5      &  100000 & 3       & 2       & 5       & 2       & 3       & 2       & 2       & 3       & 4      \\\\\n",
       "\t 1       & 1       & 6       & 4       & 5       &  4      & 10      &   39000 & 3       & 2       & 2       & 1       & 2       & 4       & 4       & 4       & 4      \\\\\n",
       "\t 2       & 2       & 4       & 5       & 2       &  2      &  2      &   40000 & 3       & 2       & 3       & 2       & 3       & 3       & 4       & 4       & 4      \\\\\n",
       "\t 2       & 2       & 4       & 5       & 2       &  1      &  2      &  100000 & 3       & 3       & 3       & 1       & 3       & 2       & 3       & 4       & 4      \\\\\n",
       "\t 2       & 1       & 7       & 4       & 3       & 10      &  3      &   50000 & 1       & 3       & 1       & 2       & 3       & 3       & 3       & 4       & 4      \\\\\n",
       "\t 1       & 1       & 2       & 5       & 3       &  2      &  1      &   30000 & 3       & 2       & 3       & 2       & 2       & 3       & 3       & 3       & 3      \\\\\n",
       "\t 2       & 2       & 4       & 4       & 3       &  4      &  4      &  320000 & 2       & 3       & 3       & 3       & 2       & 4       & 4       & 4       & 4      \\\\\n",
       "\t 2       & 2       & 4       & 4       & 2       &  3      &  2      &  200000 & 1       & 2       & 3       & 1       & 3       & 3       & 3       & 3       & 3      \\\\\n",
       "\t 1       & 2       & 4       & 4       & 6       &  2      &  2      &   60000 & 3       & 2       & 1       & 2       & 5       & 3       & 3       & 3       & 4      \\\\\n",
       "\t 2       & 1       & 4       & 5       & 2       &  2      &  3      &   50000 & 1       & 2       & 4       & 1       & 3       & 3       & 4       & 3       & 3      \\\\\n",
       "\t 1       & 2       & 8       & 3       & 2       &  5      &  3      & 1000000 & 1       & 3       & 1       & 2       & 2       & 3       & 3       & 3       & 3      \\\\\n",
       "\t 2       & 1       & 3       & 8       & 5       &  1      &  6      & 1500000 & 3       & 3       & 2       & 4       & 1       & 4       & 4       & 4       & 4      \\\\\n",
       "\t 1       & 2       & 2       & 6       & 2       &  4      &  1      &   80000 & 2       & 3       & 1       & 2       & 3       & 3       & 3       & 4       & 4      \\\\\n",
       "\t 1       & 1       & 4       & 4       & 3       &  8      &  3      &   30000 & 2       & 2       & 3       & 2       & 3       & 3       & 3       & 3       & 3      \\\\\n",
       "\t 2       & 2       & 2       & 4       & 2       &  8      &  4      &  350000 & 3       & 2       & 3       & 2       & 2       & 3       & 4       & 4       & 4      \\\\\n",
       "\t 2       & 2       & 4       & 7       & 6       &  1      &  4      &  250000 & 3       & 3       & 2       & 2       & 3       & 2       & 3       & 4       & 4      \\\\\n",
       "\t 2       & 2       & 4       & 7       & 3       &  1      & 25      &   50000 & 2       & 2       & 1       & 2       & 3       & 3       & 4       & 4       & 4      \\\\\n",
       "\t 2       & 2       & 2       & 9       & 1       &  1      &  1      &   20000 & 1       & 1       & 5       & 1       & 3       & 3       & 3       & 3       & 3      \\\\\n",
       "\t 1       & 1       & 3       & 8       & 4       &  2      &  3      &   42000 & 1       & 2       & 3       & 1       & 3       & 3       & 3       & 4       & 4      \\\\\n",
       "\t 1       & 1       & 4       & 8       & 4       &  2      &  3      &   42000 & 3       & 3       & 2       & 1       & 3       & 3       & 4       & 4       & 4      \\\\\n",
       "\t 2       & 1       & 4       & 4       & 3       &  2      & 20      &   40000 & 3       & 1       & 5       & 2       & 3       & 2       & 4       & 4       & 4      \\\\\n",
       "\t 2       & 2       & 4       & 4       & 6       &  1      &  6      &   70000 & 3       & 3       & 5       & 2       & 1       & 3       & 4       & 4       & 4      \\\\\n",
       "\t 2       & 2       & 8       & 4       & 5       &  5      &  6      &  200000 & 2       & 1       & 4       & 1       & 1       & 4       & 4       & 4       & 3      \\\\\n",
       "\t 1       & 2       & 4       & 2       & 6       &  2      &  1      &  200000 & 3       & 2       & 1       & 2       & 2       & 3       & 4       & 4       & 4      \\\\\n",
       "\t ... & ... & ... & ... & ... & ... & ... & ... & ... & ... & ... & ... & ... & ... & ... & ... & ...\\\\\n",
       "\t 2       & 2       & 4       &  5      & 2       & 1       & 10      &   30000 & 2       & 2       & 2       & 4       & 3       & 3       & 4       & 4       & 4      \\\\\n",
       "\t 1       & 2       & 4       &  6      & 6       & 7       &  5      &   50000 & 3       & 2       & 4       & 2       & 2       & 3       & 4       & 4       & 4      \\\\\n",
       "\t 1       & 2       & 4       &  1      & 4       & 1       &  1      &   10000 & 1       & 3       & 1       & 1       & 1       & 5       & 1       & 3       & 1      \\\\\n",
       "\t 1       & 1       & 4       &  4      & 3       & 2       &  1      &   10000 & 1       & 1       & 4       & 3       & 2       & 2       & 3       & 3       & 3      \\\\\n",
       "\t 1       & 1       & 4       &  4      & 3       & 2       &  3      &   50000 & 3       & 2       & 5       & 2       & 3       & 2       & 4       & 4       & 4      \\\\\n",
       "\t 1       & 2       & 2       &  5      & 4       & 2       &  1      &   60000 & 1       & 1       & 1       & 4       & 5       & 3       & 3       & 3       & 3      \\\\\n",
       "\t 1       & 1       & 6       &  1      & 3       & 2       &  2      &   50000 & 3       & 2       & 5       & 1       & 2       & 4       & 4       & 3       & 4      \\\\\n",
       "\t 2       & 2       & 6       &  4      & 6       & 1       &  3      &  500000 & 3       & 3       & 5       & 2       & 1       & 3       & 4       & 4       & 4      \\\\\n",
       "\t 1       & 2       & 4       &  1      & 3       & 2       &  1      &   50000 & 3       & 2       & 1       & 2       & 3       & 2       & 3       & 3       & 3      \\\\\n",
       "\t 2       & 2       & 6       &  3      & 4       & 1       &  1      &  100000 & 3       & 2       & 1       & 2       & 1       & 3       & 3       & 3       & 3      \\\\\n",
       "\t 2       & 2       & 4       &  7      & 4       & 1       &  2      &   50000 & 3       & 1       & 5       & 2       & 2       & 3       & 2       & 3       & 4      \\\\\n",
       "\t 2       & 2       & 4       &  4      & 2       & 2       & 12      &   20000 & 2       & 2       & 3       & 2       & 3       & 3       & 3       & 3       & 3      \\\\\n",
       "\t 1       & 1       & 4       &  4      & 4       & 2       &  4      &   35000 & 2       & 2       & 1       & 3       & 2       & 3       & 3       & 4       & 4      \\\\\n",
       "\t 1       & 1       & 4       &  4      & 4       & 2       &  4      &   30000 & 2       & 2       & 1       & 2       & 3       & 3       & 4       & 4       & 3      \\\\\n",
       "\t 2       & 2       & 4       &  7      & 1       & 2       &  2      &   50000 & 1       & 1       & 3       & 2       & 5       & 3       & 4       & 4       & 4      \\\\\n",
       "\t 2       & 2       & 4       &  7      & 1       & 2       &  3      &   50000 & 1       & 2       & 3       & 2       & 5       & 3       & 3       & 3       & 3      \\\\\n",
       "\t 2       & 1       & 4       &  4      & 2       & 2       &  7      &   80000 & 3       & 2       & 3       & 2       & 2       & 3       & 3       & 3       & 3      \\\\\n",
       "\t 1       & 1       & 4       &  1      & 3       & 2       &  6      &   20000 & 3       & 1       & 3       & 1       & 3       & 2       & 3       & 4       & 4      \\\\\n",
       "\t 1       & 1       & 4       & 10      & 2       & 2       &  2      &   25000 & 3       & 1       & 3       & 2       & 3       & 3       & 4       & 4       & 4      \\\\\n",
       "\t 2       & 1       & 3       &  8      & 1       & 1       &  7      &  100000 & 2       & 1       & 5       & 2       & 3       & 3       & 3       & 1       & 2      \\\\\n",
       "\t 1       & 2       & 4       &  4      & 3       & 2       &  2      &   50000 & 1       & 2       & 5       & 2       & 2       & 3       & 4       & 3       & 3      \\\\\n",
       "\t 1       & 2       & 4       &  4      & 5       & 2       &  1      &   80000 & 2       & 2       & 1       & 2       & 3       & 3       & 3       & 3       & 3      \\\\\n",
       "\t 2       & 2       & 6       &  7      & 5       & 1       &  2      &  300000 & 3       & 3       & 2       & 3       & 2       & 3       & 4       & 3       & 3      \\\\\n",
       "\t 2       & 2       & 7       &  7      & 4       & 1       &  2      &  200000 & 2       & 2       & 4       & 3       & 2       & 3       & 3       & 3       & 3      \\\\\n",
       "\t 1       & 1       & 2       &  1      & 2       & 2       &  5      &    3000 & 1       & 1       & 2       & 1       & 1       & 1       & 1       & 1       & 1      \\\\\n",
       "\t 1       & 1       & 4       &  2      & 3       & 2       &  6      &    4000 & 1       & 1       & 1       & 1       & 4       & 2       & 1       & 1       & 1      \\\\\n",
       "\t 2       & 2       & 4       &  4      & 2       & 1       & 10      &  150000 & 3       & 2       & 2       & 1       & 2       & 3       & 4       & 4       & 4      \\\\\n",
       "\t 2       & 2       & 7       &  8      & 1       & 2       &  3      &  100000 & 1       & 2       & 1       & 1       & 5       & 2       & 5       & 4       & 4      \\\\\n",
       "\t 1       & 1       & 4       &  6      & 1       & 3       &  2      &   20000 & 3       & 1       & 1       & 1       & 3       & 4       & 3       & 3       & 2      \\\\\n",
       "\t 2       & 2       & 6       & 10      & 1       & 1       & 10      & 1000000 & 3       & 2       & 3       & 1       & 3       & 2       & 3       & 3       & 3      \\\\\n",
       "\\end{tabular}\n"
      ],
      "text/markdown": [
       "\n",
       "| gender | marriage | edu | job | mincome | aware | count | amount | decision | propensity | skin | promo | location | satisf_b | satisf_i | satisf_al | repurchase |\n",
       "|---|---|---|---|---|---|---|---|---|---|---|---|---|---|---|---|---|\n",
       "| 1       | 1       | 4       | 1       | 2       |  2      |  1      |   11000 | 2       | 1       | 1       | 1       | 2       | 5       | 2       | 2       | 2       |\n",
       "| 2       | 1       | 4       | 9       | 2       |  1      |  4      |   30000 | 1       | 1       | 3       | 2       | 3       | 2       | 3       | 3       | 4       |\n",
       "| 2       | 2       | 4       | 4       | 3       |  1      |  6      |  100000 | 3       | 2       | 3       | 2       | 2       | 4       | 5       | 4       | 4       |\n",
       "| 2       | 2       | 4       | 7       | 5       |  2      |  6      |   65000 | 3       | 2       | 5       | 2       | 3       | 3       | 4       | 4       | 4       |\n",
       "| 1       | 2       | 6       | 6       | 5       |  2      |  2      |   50000 | 2       | 2       | 3       | 2       | 3       | 3       | 3       | 3       | 3       |\n",
       "| 2       | 2       | 2       | 7       | 3       |  1      |  2      |  100000 | 2       | 1       | 4       | 2       | 3       | 3       | 4       | 4       | 3       |\n",
       "| 2       | 1       | 6       | 4       | 5       |  1      |  5      |  100000 | 3       | 2       | 5       | 2       | 3       | 2       | 2       | 3       | 4       |\n",
       "| 1       | 1       | 6       | 4       | 5       |  4      | 10      |   39000 | 3       | 2       | 2       | 1       | 2       | 4       | 4       | 4       | 4       |\n",
       "| 2       | 2       | 4       | 5       | 2       |  2      |  2      |   40000 | 3       | 2       | 3       | 2       | 3       | 3       | 4       | 4       | 4       |\n",
       "| 2       | 2       | 4       | 5       | 2       |  1      |  2      |  100000 | 3       | 3       | 3       | 1       | 3       | 2       | 3       | 4       | 4       |\n",
       "| 2       | 1       | 7       | 4       | 3       | 10      |  3      |   50000 | 1       | 3       | 1       | 2       | 3       | 3       | 3       | 4       | 4       |\n",
       "| 1       | 1       | 2       | 5       | 3       |  2      |  1      |   30000 | 3       | 2       | 3       | 2       | 2       | 3       | 3       | 3       | 3       |\n",
       "| 2       | 2       | 4       | 4       | 3       |  4      |  4      |  320000 | 2       | 3       | 3       | 3       | 2       | 4       | 4       | 4       | 4       |\n",
       "| 2       | 2       | 4       | 4       | 2       |  3      |  2      |  200000 | 1       | 2       | 3       | 1       | 3       | 3       | 3       | 3       | 3       |\n",
       "| 1       | 2       | 4       | 4       | 6       |  2      |  2      |   60000 | 3       | 2       | 1       | 2       | 5       | 3       | 3       | 3       | 4       |\n",
       "| 2       | 1       | 4       | 5       | 2       |  2      |  3      |   50000 | 1       | 2       | 4       | 1       | 3       | 3       | 4       | 3       | 3       |\n",
       "| 1       | 2       | 8       | 3       | 2       |  5      |  3      | 1000000 | 1       | 3       | 1       | 2       | 2       | 3       | 3       | 3       | 3       |\n",
       "| 2       | 1       | 3       | 8       | 5       |  1      |  6      | 1500000 | 3       | 3       | 2       | 4       | 1       | 4       | 4       | 4       | 4       |\n",
       "| 1       | 2       | 2       | 6       | 2       |  4      |  1      |   80000 | 2       | 3       | 1       | 2       | 3       | 3       | 3       | 4       | 4       |\n",
       "| 1       | 1       | 4       | 4       | 3       |  8      |  3      |   30000 | 2       | 2       | 3       | 2       | 3       | 3       | 3       | 3       | 3       |\n",
       "| 2       | 2       | 2       | 4       | 2       |  8      |  4      |  350000 | 3       | 2       | 3       | 2       | 2       | 3       | 4       | 4       | 4       |\n",
       "| 2       | 2       | 4       | 7       | 6       |  1      |  4      |  250000 | 3       | 3       | 2       | 2       | 3       | 2       | 3       | 4       | 4       |\n",
       "| 2       | 2       | 4       | 7       | 3       |  1      | 25      |   50000 | 2       | 2       | 1       | 2       | 3       | 3       | 4       | 4       | 4       |\n",
       "| 2       | 2       | 2       | 9       | 1       |  1      |  1      |   20000 | 1       | 1       | 5       | 1       | 3       | 3       | 3       | 3       | 3       |\n",
       "| 1       | 1       | 3       | 8       | 4       |  2      |  3      |   42000 | 1       | 2       | 3       | 1       | 3       | 3       | 3       | 4       | 4       |\n",
       "| 1       | 1       | 4       | 8       | 4       |  2      |  3      |   42000 | 3       | 3       | 2       | 1       | 3       | 3       | 4       | 4       | 4       |\n",
       "| 2       | 1       | 4       | 4       | 3       |  2      | 20      |   40000 | 3       | 1       | 5       | 2       | 3       | 2       | 4       | 4       | 4       |\n",
       "| 2       | 2       | 4       | 4       | 6       |  1      |  6      |   70000 | 3       | 3       | 5       | 2       | 1       | 3       | 4       | 4       | 4       |\n",
       "| 2       | 2       | 8       | 4       | 5       |  5      |  6      |  200000 | 2       | 1       | 4       | 1       | 1       | 4       | 4       | 4       | 3       |\n",
       "| 1       | 2       | 4       | 2       | 6       |  2      |  1      |  200000 | 3       | 2       | 1       | 2       | 2       | 3       | 4       | 4       | 4       |\n",
       "| ... | ... | ... | ... | ... | ... | ... | ... | ... | ... | ... | ... | ... | ... | ... | ... | ... |\n",
       "| 2       | 2       | 4       |  5      | 2       | 1       | 10      |   30000 | 2       | 2       | 2       | 4       | 3       | 3       | 4       | 4       | 4       |\n",
       "| 1       | 2       | 4       |  6      | 6       | 7       |  5      |   50000 | 3       | 2       | 4       | 2       | 2       | 3       | 4       | 4       | 4       |\n",
       "| 1       | 2       | 4       |  1      | 4       | 1       |  1      |   10000 | 1       | 3       | 1       | 1       | 1       | 5       | 1       | 3       | 1       |\n",
       "| 1       | 1       | 4       |  4      | 3       | 2       |  1      |   10000 | 1       | 1       | 4       | 3       | 2       | 2       | 3       | 3       | 3       |\n",
       "| 1       | 1       | 4       |  4      | 3       | 2       |  3      |   50000 | 3       | 2       | 5       | 2       | 3       | 2       | 4       | 4       | 4       |\n",
       "| 1       | 2       | 2       |  5      | 4       | 2       |  1      |   60000 | 1       | 1       | 1       | 4       | 5       | 3       | 3       | 3       | 3       |\n",
       "| 1       | 1       | 6       |  1      | 3       | 2       |  2      |   50000 | 3       | 2       | 5       | 1       | 2       | 4       | 4       | 3       | 4       |\n",
       "| 2       | 2       | 6       |  4      | 6       | 1       |  3      |  500000 | 3       | 3       | 5       | 2       | 1       | 3       | 4       | 4       | 4       |\n",
       "| 1       | 2       | 4       |  1      | 3       | 2       |  1      |   50000 | 3       | 2       | 1       | 2       | 3       | 2       | 3       | 3       | 3       |\n",
       "| 2       | 2       | 6       |  3      | 4       | 1       |  1      |  100000 | 3       | 2       | 1       | 2       | 1       | 3       | 3       | 3       | 3       |\n",
       "| 2       | 2       | 4       |  7      | 4       | 1       |  2      |   50000 | 3       | 1       | 5       | 2       | 2       | 3       | 2       | 3       | 4       |\n",
       "| 2       | 2       | 4       |  4      | 2       | 2       | 12      |   20000 | 2       | 2       | 3       | 2       | 3       | 3       | 3       | 3       | 3       |\n",
       "| 1       | 1       | 4       |  4      | 4       | 2       |  4      |   35000 | 2       | 2       | 1       | 3       | 2       | 3       | 3       | 4       | 4       |\n",
       "| 1       | 1       | 4       |  4      | 4       | 2       |  4      |   30000 | 2       | 2       | 1       | 2       | 3       | 3       | 4       | 4       | 3       |\n",
       "| 2       | 2       | 4       |  7      | 1       | 2       |  2      |   50000 | 1       | 1       | 3       | 2       | 5       | 3       | 4       | 4       | 4       |\n",
       "| 2       | 2       | 4       |  7      | 1       | 2       |  3      |   50000 | 1       | 2       | 3       | 2       | 5       | 3       | 3       | 3       | 3       |\n",
       "| 2       | 1       | 4       |  4      | 2       | 2       |  7      |   80000 | 3       | 2       | 3       | 2       | 2       | 3       | 3       | 3       | 3       |\n",
       "| 1       | 1       | 4       |  1      | 3       | 2       |  6      |   20000 | 3       | 1       | 3       | 1       | 3       | 2       | 3       | 4       | 4       |\n",
       "| 1       | 1       | 4       | 10      | 2       | 2       |  2      |   25000 | 3       | 1       | 3       | 2       | 3       | 3       | 4       | 4       | 4       |\n",
       "| 2       | 1       | 3       |  8      | 1       | 1       |  7      |  100000 | 2       | 1       | 5       | 2       | 3       | 3       | 3       | 1       | 2       |\n",
       "| 1       | 2       | 4       |  4      | 3       | 2       |  2      |   50000 | 1       | 2       | 5       | 2       | 2       | 3       | 4       | 3       | 3       |\n",
       "| 1       | 2       | 4       |  4      | 5       | 2       |  1      |   80000 | 2       | 2       | 1       | 2       | 3       | 3       | 3       | 3       | 3       |\n",
       "| 2       | 2       | 6       |  7      | 5       | 1       |  2      |  300000 | 3       | 3       | 2       | 3       | 2       | 3       | 4       | 3       | 3       |\n",
       "| 2       | 2       | 7       |  7      | 4       | 1       |  2      |  200000 | 2       | 2       | 4       | 3       | 2       | 3       | 3       | 3       | 3       |\n",
       "| 1       | 1       | 2       |  1      | 2       | 2       |  5      |    3000 | 1       | 1       | 2       | 1       | 1       | 1       | 1       | 1       | 1       |\n",
       "| 1       | 1       | 4       |  2      | 3       | 2       |  6      |    4000 | 1       | 1       | 1       | 1       | 4       | 2       | 1       | 1       | 1       |\n",
       "| 2       | 2       | 4       |  4      | 2       | 1       | 10      |  150000 | 3       | 2       | 2       | 1       | 2       | 3       | 4       | 4       | 4       |\n",
       "| 2       | 2       | 7       |  8      | 1       | 2       |  3      |  100000 | 1       | 2       | 1       | 1       | 5       | 2       | 5       | 4       | 4       |\n",
       "| 1       | 1       | 4       |  6      | 1       | 3       |  2      |   20000 | 3       | 1       | 1       | 1       | 3       | 4       | 3       | 3       | 2       |\n",
       "| 2       | 2       | 6       | 10      | 1       | 1       | 10      | 1000000 | 3       | 2       | 3       | 1       | 3       | 2       | 3       | 3       | 3       |\n",
       "\n"
      ],
      "text/plain": [
       "    gender marriage edu job mincome aware count amount  decision propensity\n",
       "1   1      1        4   1   2        2     1      11000 2        1         \n",
       "2   2      1        4   9   2        1     4      30000 1        1         \n",
       "3   2      2        4   4   3        1     6     100000 3        2         \n",
       "4   2      2        4   7   5        2     6      65000 3        2         \n",
       "5   1      2        6   6   5        2     2      50000 2        2         \n",
       "6   2      2        2   7   3        1     2     100000 2        1         \n",
       "7   2      1        6   4   5        1     5     100000 3        2         \n",
       "8   1      1        6   4   5        4    10      39000 3        2         \n",
       "9   2      2        4   5   2        2     2      40000 3        2         \n",
       "10  2      2        4   5   2        1     2     100000 3        3         \n",
       "11  2      1        7   4   3       10     3      50000 1        3         \n",
       "12  1      1        2   5   3        2     1      30000 3        2         \n",
       "13  2      2        4   4   3        4     4     320000 2        3         \n",
       "14  2      2        4   4   2        3     2     200000 1        2         \n",
       "15  1      2        4   4   6        2     2      60000 3        2         \n",
       "16  2      1        4   5   2        2     3      50000 1        2         \n",
       "17  1      2        8   3   2        5     3    1000000 1        3         \n",
       "18  2      1        3   8   5        1     6    1500000 3        3         \n",
       "19  1      2        2   6   2        4     1      80000 2        3         \n",
       "20  1      1        4   4   3        8     3      30000 2        2         \n",
       "21  2      2        2   4   2        8     4     350000 3        2         \n",
       "22  2      2        4   7   6        1     4     250000 3        3         \n",
       "23  2      2        4   7   3        1    25      50000 2        2         \n",
       "24  2      2        2   9   1        1     1      20000 1        1         \n",
       "25  1      1        3   8   4        2     3      42000 1        2         \n",
       "26  1      1        4   8   4        2     3      42000 3        3         \n",
       "27  2      1        4   4   3        2    20      40000 3        1         \n",
       "28  2      2        4   4   6        1     6      70000 3        3         \n",
       "29  2      2        8   4   5        5     6     200000 2        1         \n",
       "30  1      2        4   2   6        2     1     200000 3        2         \n",
       "... ...    ...      ... ... ...     ...   ...   ...     ...      ...       \n",
       "218 2      2        4    5  2       1     10      30000 2        2         \n",
       "219 1      2        4    6  6       7      5      50000 3        2         \n",
       "220 1      2        4    1  4       1      1      10000 1        3         \n",
       "221 1      1        4    4  3       2      1      10000 1        1         \n",
       "222 1      1        4    4  3       2      3      50000 3        2         \n",
       "223 1      2        2    5  4       2      1      60000 1        1         \n",
       "224 1      1        6    1  3       2      2      50000 3        2         \n",
       "225 2      2        6    4  6       1      3     500000 3        3         \n",
       "226 1      2        4    1  3       2      1      50000 3        2         \n",
       "227 2      2        6    3  4       1      1     100000 3        2         \n",
       "228 2      2        4    7  4       1      2      50000 3        1         \n",
       "229 2      2        4    4  2       2     12      20000 2        2         \n",
       "230 1      1        4    4  4       2      4      35000 2        2         \n",
       "231 1      1        4    4  4       2      4      30000 2        2         \n",
       "232 2      2        4    7  1       2      2      50000 1        1         \n",
       "233 2      2        4    7  1       2      3      50000 1        2         \n",
       "234 2      1        4    4  2       2      7      80000 3        2         \n",
       "235 1      1        4    1  3       2      6      20000 3        1         \n",
       "236 1      1        4   10  2       2      2      25000 3        1         \n",
       "237 2      1        3    8  1       1      7     100000 2        1         \n",
       "238 1      2        4    4  3       2      2      50000 1        2         \n",
       "239 1      2        4    4  5       2      1      80000 2        2         \n",
       "240 2      2        6    7  5       1      2     300000 3        3         \n",
       "241 2      2        7    7  4       1      2     200000 2        2         \n",
       "242 1      1        2    1  2       2      5       3000 1        1         \n",
       "243 1      1        4    2  3       2      6       4000 1        1         \n",
       "244 2      2        4    4  2       1     10     150000 3        2         \n",
       "245 2      2        7    8  1       2      3     100000 1        2         \n",
       "246 1      1        4    6  1       3      2      20000 3        1         \n",
       "247 2      2        6   10  1       1     10    1000000 3        2         \n",
       "    skin promo location satisf_b satisf_i satisf_al repurchase\n",
       "1   1    1     2        5        2        2         2         \n",
       "2   3    2     3        2        3        3         4         \n",
       "3   3    2     2        4        5        4         4         \n",
       "4   5    2     3        3        4        4         4         \n",
       "5   3    2     3        3        3        3         3         \n",
       "6   4    2     3        3        4        4         3         \n",
       "7   5    2     3        2        2        3         4         \n",
       "8   2    1     2        4        4        4         4         \n",
       "9   3    2     3        3        4        4         4         \n",
       "10  3    1     3        2        3        4         4         \n",
       "11  1    2     3        3        3        4         4         \n",
       "12  3    2     2        3        3        3         3         \n",
       "13  3    3     2        4        4        4         4         \n",
       "14  3    1     3        3        3        3         3         \n",
       "15  1    2     5        3        3        3         4         \n",
       "16  4    1     3        3        4        3         3         \n",
       "17  1    2     2        3        3        3         3         \n",
       "18  2    4     1        4        4        4         4         \n",
       "19  1    2     3        3        3        4         4         \n",
       "20  3    2     3        3        3        3         3         \n",
       "21  3    2     2        3        4        4         4         \n",
       "22  2    2     3        2        3        4         4         \n",
       "23  1    2     3        3        4        4         4         \n",
       "24  5    1     3        3        3        3         3         \n",
       "25  3    1     3        3        3        4         4         \n",
       "26  2    1     3        3        4        4         4         \n",
       "27  5    2     3        2        4        4         4         \n",
       "28  5    2     1        3        4        4         4         \n",
       "29  4    1     1        4        4        4         3         \n",
       "30  1    2     2        3        4        4         4         \n",
       "... ...  ...   ...      ...      ...      ...       ...       \n",
       "218 2    4     3        3        4        4         4         \n",
       "219 4    2     2        3        4        4         4         \n",
       "220 1    1     1        5        1        3         1         \n",
       "221 4    3     2        2        3        3         3         \n",
       "222 5    2     3        2        4        4         4         \n",
       "223 1    4     5        3        3        3         3         \n",
       "224 5    1     2        4        4        3         4         \n",
       "225 5    2     1        3        4        4         4         \n",
       "226 1    2     3        2        3        3         3         \n",
       "227 1    2     1        3        3        3         3         \n",
       "228 5    2     2        3        2        3         4         \n",
       "229 3    2     3        3        3        3         3         \n",
       "230 1    3     2        3        3        4         4         \n",
       "231 1    2     3        3        4        4         3         \n",
       "232 3    2     5        3        4        4         4         \n",
       "233 3    2     5        3        3        3         3         \n",
       "234 3    2     2        3        3        3         3         \n",
       "235 3    1     3        2        3        4         4         \n",
       "236 3    2     3        3        4        4         4         \n",
       "237 5    2     3        3        3        1         2         \n",
       "238 5    2     2        3        4        3         3         \n",
       "239 1    2     3        3        3        3         3         \n",
       "240 2    3     2        3        4        3         3         \n",
       "241 4    3     2        3        3        3         3         \n",
       "242 2    1     1        1        1        1         1         \n",
       "243 1    1     4        2        1        1         1         \n",
       "244 2    1     2        3        4        4         4         \n",
       "245 1    1     5        2        5        4         4         \n",
       "246 1    1     3        4        3        3         2         \n",
       "247 3    1     3        2        3        3         3         "
      ]
     },
     "metadata": {},
     "output_type": "display_data"
    }
   ],
   "source": [
    "a"
   ]
  },
  {
   "cell_type": "markdown",
   "id": "cf50bfd4",
   "metadata": {},
   "source": [
    "### 연속형 변수 요약통계 한번에 보기 "
   ]
  },
  {
   "cell_type": "markdown",
   "id": "df95ca29",
   "metadata": {},
   "source": [
    "|package|function |statistics |\n",
    "|------|---|---|\n",
    "|base|summary()|min, 1Q, median, mean, 3Q, max |\n",
    "|pastecs| stat.desc()|nbr.val, nbr.null, nbr.na, min, max, range, sum,median, mean, var, std.dev, coef.var,skewness, kurtosis, normtest.W, normtest.p,SE.mean, CI.mean.p|\n",
    "|psych |describe()|n, mean, std.dev, median, trimmed, mad,min, max, range, skew, kurtosis, se|"
   ]
  },
  {
   "cell_type": "code",
   "execution_count": 8,
   "id": "6f35eb86",
   "metadata": {},
   "outputs": [],
   "source": [
    "library('psych')"
   ]
  },
  {
   "cell_type": "code",
   "execution_count": 9,
   "id": "fc5bc1c6",
   "metadata": {},
   "outputs": [
    {
     "data": {
      "text/html": [
       "<table>\n",
       "<thead><tr><th></th><th scope=col>vars</th><th scope=col>n</th><th scope=col>mean</th><th scope=col>sd</th><th scope=col>median</th><th scope=col>trimmed</th><th scope=col>mad</th><th scope=col>min</th><th scope=col>max</th><th scope=col>range</th><th scope=col>skew</th><th scope=col>kurtosis</th><th scope=col>se</th></tr></thead>\n",
       "<tbody>\n",
       "\t<tr><th scope=row>X1</th><td>1         </td><td>247       </td><td>2.890688  </td><td>0.7809953 </td><td>3         </td><td>2.869347  </td><td>0         </td><td>1         </td><td>5         </td><td>4         </td><td>0.1404754 </td><td>0.3237416 </td><td>0.04969354</td></tr>\n",
       "</tbody>\n",
       "</table>\n"
      ],
      "text/latex": [
       "\\begin{tabular}{r|lllllllllllll}\n",
       "  & vars & n & mean & sd & median & trimmed & mad & min & max & range & skew & kurtosis & se\\\\\n",
       "\\hline\n",
       "\tX1 & 1          & 247        & 2.890688   & 0.7809953  & 3          & 2.869347   & 0          & 1          & 5          & 4          & 0.1404754  & 0.3237416  & 0.04969354\\\\\n",
       "\\end{tabular}\n"
      ],
      "text/markdown": [
       "\n",
       "| <!--/--> | vars | n | mean | sd | median | trimmed | mad | min | max | range | skew | kurtosis | se |\n",
       "|---|---|---|---|---|---|---|---|---|---|---|---|---|---|\n",
       "| X1 | 1          | 247        | 2.890688   | 0.7809953  | 3          | 2.869347   | 0          | 1          | 5          | 4          | 0.1404754  | 0.3237416  | 0.04969354 |\n",
       "\n"
      ],
      "text/plain": [
       "   vars n   mean     sd        median trimmed  mad min max range skew     \n",
       "X1 1    247 2.890688 0.7809953 3      2.869347 0   1   5   4     0.1404754\n",
       "   kurtosis  se        \n",
       "X1 0.3237416 0.04969354"
      ]
     },
     "metadata": {},
     "output_type": "display_data"
    }
   ],
   "source": [
    "describe(a$satisf_b)"
   ]
  },
  {
   "cell_type": "code",
   "execution_count": 10,
   "id": "a0466f42",
   "metadata": {},
   "outputs": [
    {
     "data": {
      "text/html": [
       "<table>\n",
       "<thead><tr><th></th><th scope=col>vars</th><th scope=col>n</th><th scope=col>mean</th><th scope=col>sd</th><th scope=col>median</th><th scope=col>trimmed</th><th scope=col>mad</th><th scope=col>min</th><th scope=col>max</th><th scope=col>range</th><th scope=col>skew</th><th scope=col>kurtosis</th><th scope=col>se</th></tr></thead>\n",
       "<tbody>\n",
       "\t<tr><th scope=row>X1</th><td>1         </td><td>247       </td><td>3.404858  </td><td>0.8301096 </td><td>3         </td><td>3.482412  </td><td>1.4826    </td><td>1         </td><td>5         </td><td>4         </td><td>-0.6955943</td><td>0.9204758 </td><td>0.05281861</td></tr>\n",
       "</tbody>\n",
       "</table>\n"
      ],
      "text/latex": [
       "\\begin{tabular}{r|lllllllllllll}\n",
       "  & vars & n & mean & sd & median & trimmed & mad & min & max & range & skew & kurtosis & se\\\\\n",
       "\\hline\n",
       "\tX1 & 1          & 247        & 3.404858   & 0.8301096  & 3          & 3.482412   & 1.4826     & 1          & 5          & 4          & -0.6955943 & 0.9204758  & 0.05281861\\\\\n",
       "\\end{tabular}\n"
      ],
      "text/markdown": [
       "\n",
       "| <!--/--> | vars | n | mean | sd | median | trimmed | mad | min | max | range | skew | kurtosis | se |\n",
       "|---|---|---|---|---|---|---|---|---|---|---|---|---|---|\n",
       "| X1 | 1          | 247        | 3.404858   | 0.8301096  | 3          | 3.482412   | 1.4826     | 1          | 5          | 4          | -0.6955943 | 0.9204758  | 0.05281861 |\n",
       "\n"
      ],
      "text/plain": [
       "   vars n   mean     sd        median trimmed  mad    min max range skew      \n",
       "X1 1    247 3.404858 0.8301096 3      3.482412 1.4826 1   5   4     -0.6955943\n",
       "   kurtosis  se        \n",
       "X1 0.9204758 0.05281861"
      ]
     },
     "metadata": {},
     "output_type": "display_data"
    }
   ],
   "source": [
    "describe(a$satisf_i)"
   ]
  },
  {
   "cell_type": "code",
   "execution_count": 11,
   "id": "22776f2d",
   "metadata": {},
   "outputs": [
    {
     "data": {
      "text/plain": [
       "\n",
       "\tPaired t-test\n",
       "\n",
       "data:  a$satisf_b and a$satisf_i\n",
       "t = -7.1559, df = 246, p-value = 9.519e-12\n",
       "alternative hypothesis: true difference in means is not equal to 0\n",
       "95 percent confidence interval:\n",
       " -0.6556945 -0.3726456\n",
       "sample estimates:\n",
       "mean of the differences \n",
       "               -0.51417 \n"
      ]
     },
     "metadata": {},
     "output_type": "display_data"
    }
   ],
   "source": [
    "t.test(a$satisf_b, a$satisf_i, paired = T)"
   ]
  },
  {
   "cell_type": "code",
   "execution_count": 12,
   "id": "8d362943",
   "metadata": {},
   "outputs": [
    {
     "data": {
      "text/html": [
       "<table>\n",
       "<thead><tr><th></th><th scope=col>vars</th><th scope=col>n</th><th scope=col>mean</th><th scope=col>sd</th><th scope=col>median</th><th scope=col>trimmed</th><th scope=col>mad</th><th scope=col>min</th><th scope=col>max</th><th scope=col>range</th><th scope=col>skew</th><th scope=col>kurtosis</th><th scope=col>se</th></tr></thead>\n",
       "<tbody>\n",
       "\t<tr><th scope=row>X1</th><td>1         </td><td>247       </td><td>3.461538  </td><td>0.7527311 </td><td>4         </td><td>3.512563  </td><td>1.4826    </td><td>1         </td><td>5         </td><td>4         </td><td>-0.9803738</td><td>2.161749  </td><td>0.04789513</td></tr>\n",
       "</tbody>\n",
       "</table>\n"
      ],
      "text/latex": [
       "\\begin{tabular}{r|lllllllllllll}\n",
       "  & vars & n & mean & sd & median & trimmed & mad & min & max & range & skew & kurtosis & se\\\\\n",
       "\\hline\n",
       "\tX1 & 1          & 247        & 3.461538   & 0.7527311  & 4          & 3.512563   & 1.4826     & 1          & 5          & 4          & -0.9803738 & 2.161749   & 0.04789513\\\\\n",
       "\\end{tabular}\n"
      ],
      "text/markdown": [
       "\n",
       "| <!--/--> | vars | n | mean | sd | median | trimmed | mad | min | max | range | skew | kurtosis | se |\n",
       "|---|---|---|---|---|---|---|---|---|---|---|---|---|---|\n",
       "| X1 | 1          | 247        | 3.461538   | 0.7527311  | 4          | 3.512563   | 1.4826     | 1          | 5          | 4          | -0.9803738 | 2.161749   | 0.04789513 |\n",
       "\n"
      ],
      "text/plain": [
       "   vars n   mean     sd        median trimmed  mad    min max range skew      \n",
       "X1 1    247 3.461538 0.7527311 4      3.512563 1.4826 1   5   4     -0.9803738\n",
       "   kurtosis se        \n",
       "X1 2.161749 0.04789513"
      ]
     },
     "metadata": {},
     "output_type": "display_data"
    }
   ],
   "source": [
    "describe(a$satisf_al)"
   ]
  },
  {
   "cell_type": "code",
   "execution_count": 13,
   "id": "bb604896",
   "metadata": {},
   "outputs": [
    {
     "data": {
      "text/html": [
       "<table>\n",
       "<thead><tr><th></th><th scope=col>vars</th><th scope=col>n</th><th scope=col>mean</th><th scope=col>sd</th><th scope=col>median</th><th scope=col>trimmed</th><th scope=col>mad</th><th scope=col>min</th><th scope=col>max</th><th scope=col>range</th><th scope=col>skew</th><th scope=col>kurtosis</th><th scope=col>se</th></tr></thead>\n",
       "<tbody>\n",
       "\t<tr><th scope=row>X1</th><td>1        </td><td>247      </td><td>3.554656 </td><td>0.724182 </td><td>4        </td><td>3.633166 </td><td>0        </td><td>1        </td><td>5        </td><td>4        </td><td>-1.27728 </td><td>2.554179 </td><td>0.0460786</td></tr>\n",
       "</tbody>\n",
       "</table>\n"
      ],
      "text/latex": [
       "\\begin{tabular}{r|lllllllllllll}\n",
       "  & vars & n & mean & sd & median & trimmed & mad & min & max & range & skew & kurtosis & se\\\\\n",
       "\\hline\n",
       "\tX1 & 1         & 247       & 3.554656  & 0.724182  & 4         & 3.633166  & 0         & 1         & 5         & 4         & -1.27728  & 2.554179  & 0.0460786\\\\\n",
       "\\end{tabular}\n"
      ],
      "text/markdown": [
       "\n",
       "| <!--/--> | vars | n | mean | sd | median | trimmed | mad | min | max | range | skew | kurtosis | se |\n",
       "|---|---|---|---|---|---|---|---|---|---|---|---|---|---|\n",
       "| X1 | 1         | 247       | 3.554656  | 0.724182  | 4         | 3.633166  | 0         | 1         | 5         | 4         | -1.27728  | 2.554179  | 0.0460786 |\n",
       "\n"
      ],
      "text/plain": [
       "   vars n   mean     sd       median trimmed  mad min max range skew    \n",
       "X1 1    247 3.554656 0.724182 4      3.633166 0   1   5   4     -1.27728\n",
       "   kurtosis se       \n",
       "X1 2.554179 0.0460786"
      ]
     },
     "metadata": {},
     "output_type": "display_data"
    }
   ],
   "source": [
    "describe(a$repurchase)"
   ]
  },
  {
   "cell_type": "code",
   "execution_count": 14,
   "id": "f23ba27b",
   "metadata": {},
   "outputs": [
    {
     "data": {
      "text/plain": [
       "\n",
       "\tPaired t-test\n",
       "\n",
       "data:  a$satisf_al and a$repurchase\n",
       "t = -2.1233, df = 246, p-value = 0.03472\n",
       "alternative hypothesis: true difference in means is not equal to 0\n",
       "95 percent confidence interval:\n",
       " -0.179495526 -0.006739292\n",
       "sample estimates:\n",
       "mean of the differences \n",
       "            -0.09311741 \n"
      ]
     },
     "metadata": {},
     "output_type": "display_data"
    }
   ],
   "source": [
    "t.test(a$satisf_al, a$repurchase, paired=T)\n",
    "# p-value < 0.05(기준) 귀무가설은 기각된다."
   ]
  },
  {
   "cell_type": "code",
   "execution_count": 23,
   "id": "1deece91",
   "metadata": {},
   "outputs": [
    {
     "data": {
      "text/plain": [
       "\n",
       "\tPaired t-test\n",
       "\n",
       "data:  a$repurchase and a$satisf_al\n",
       "t = 2.1233, df = 246, p-value = 0.03472\n",
       "alternative hypothesis: true difference in means is not equal to 0\n",
       "95 percent confidence interval:\n",
       " 0.006739292 0.179495526\n",
       "sample estimates:\n",
       "mean of the differences \n",
       "             0.09311741 \n"
      ]
     },
     "metadata": {},
     "output_type": "display_data"
    }
   ],
   "source": [
    "t.test(a$repurchase, a$satisf_al, paired=T) "
   ]
  },
  {
   "cell_type": "markdown",
   "id": "c7bc7802",
   "metadata": {},
   "source": [
    "##### 결론 - 통계적으로 유의하다 대립가설 성립"
   ]
  },
  {
   "cell_type": "markdown",
   "id": "0a0d4553",
   "metadata": {},
   "source": [
    "# 밀도함수 그리기"
   ]
  },
  {
   "cell_type": "code",
   "execution_count": 16,
   "id": "0159c9de",
   "metadata": {},
   "outputs": [
    {
     "name": "stderr",
     "output_type": "stream",
     "text": [
      "\n",
      "Attaching package: 'ggplot2'\n",
      "\n",
      "The following objects are masked from 'package:psych':\n",
      "\n",
      "    %+%, alpha\n",
      "\n"
     ]
    }
   ],
   "source": [
    "library(ggplot2)"
   ]
  },
  {
   "cell_type": "code",
   "execution_count": 22,
   "id": "8948a569",
   "metadata": {},
   "outputs": [
    {
     "data": {
      "image/png": "[encoded data removed]",
      "text/plain": [
       "plot without title"
      ]
     },
     "metadata": {},
     "output_type": "display_data"
    }
   ],
   "source": [
    "ggplot(data=a, aes(x=satisf_b, fill= 'red'))+geom_density(adjust=1.5)"
   ]
  }
 ],
 "metadata": {
  "kernelspec": {
   "display_name": "R",
   "language": "R",
   "name": "ir"
  },
  "language_info": {
   "codemirror_mode": "r",
   "file_extension": ".r",
   "mimetype": "text/x-r-source",
   "name": "R",
   "pygments_lexer": "r",
   "version": "3.6.1"
  },
  "toc": {
   "base_numbering": 1,
   "nav_menu": {},
   "number_sections": true,
   "sideBar": true,
   "skip_h1_title": false,
   "title_cell": "Table of Contents",
   "title_sidebar": "Contents",
   "toc_cell": false,
   "toc_position": {},
   "toc_section_display": true,
   "toc_window_display": false
  }
 },
 "nbformat": 4,
 "nbformat_minor": 5
}
