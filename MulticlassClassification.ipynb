{
 "cells": [
  {
   "cell_type": "markdown",
   "id": "5d0340bc",
   "metadata": {},
   "source": [
    "# 다중분류"
   ]
  },
  {
   "cell_type": "markdown",
   "id": "53f83c19",
   "metadata": {},
   "source": [
    "- 다중분류는 이진분류의 확장적 개념 \n",
    "\n",
    "- 전반적인 과정은 동일하나 클래스가 여러 개이므로 모델 평가시 다양한 지표를 확인해야 함"
   ]
  },
  {
   "cell_type": "markdown",
   "id": "9d968bb2",
   "metadata": {},
   "source": [
    "- 이진 분류(Binary Classification)는 타깃의 값이 어떤 기준에 대하여 참(True) 또는 거짓(False)의 값을 가졌습니다. 다중 분류(Multiclass Classification)의 경우 타깃이 가질 수 있는 값이 3개 이상입니다. 타깃이 가지는 값에 대응되는 데이터의 모임을 클래스(class) 혹은 레이블(label)이라고 하기도 합니다. 다중 분류의 경우 단일 레이블 분류(single-label classification)에 속합니다. 즉, 입력값 하나당 하나의 클래스에만 대응될 수 있습니다. 이와 반대로 하나의 입력값이 여러 개의 클래스에 대응되는 경우 다중 레이블 분류(multi-label classification)이라고 합니다.\n",
    "\n",
    "\n",
    "- 예를 들어 숫자는 0부터 9까지 총 10개가 있습니다. 만일 손으로 쓴 숫자 데이터 세트에 대하여\n",
    "- 입력으로 받은 숫자 사진이 0인지 아닌지 분류하는 것은 이진 분류 모델을,\n",
    "- 입력으로 받은 숫자 사진이 0부터 9 중 어떤 숫자인지 분류하는 것은 다중 분류 모델을 사용합니다."
   ]
  },
  {
   "cell_type": "markdown",
   "id": "7d160082",
   "metadata": {},
   "source": [
    "> gender.male,\tgender.female,\tregion.Sudo,\tregion.Chungcheung,\tregion.Honam,\tregion.Youngnam,\tregion.Others,\tedu\tincome,\tage,\tscore_gov(정부지지도),\tscore_progress(진보성향),\tscore_intention(정치관심도) 등을 독립변수로 두고 parties(지지정당(4집단))을 종속변수로 둔다."
   ]
  },
  {
   "cell_type": "code",
   "execution_count": 1,
   "id": "e7e5d60c",
   "metadata": {},
   "outputs": [
    {
     "data": {
      "text/html": [
       "<table>\n",
       "<thead><tr><th scope=col>gender.male</th><th scope=col>gender.female</th><th scope=col>region.Sudo</th><th scope=col>region.Chungcheung</th><th scope=col>region.Honam</th><th scope=col>region.Youngnam</th><th scope=col>region.Others</th><th scope=col>edu</th><th scope=col>income</th><th scope=col>age</th><th scope=col>score_gov</th><th scope=col>score_progress</th><th scope=col>score_intention</th><th scope=col>parties</th></tr></thead>\n",
       "<tbody>\n",
       "\t<tr><td>1        </td><td>0        </td><td>0        </td><td>0        </td><td>0        </td><td>1        </td><td>0        </td><td>1.0      </td><td>0.6666667</td><td>0.6666667</td><td>0.25     </td><td>0.25     </td><td>0.75     </td><td>B        </td></tr>\n",
       "\t<tr><td>1        </td><td>0        </td><td>0        </td><td>0        </td><td>0        </td><td>0        </td><td>1        </td><td>0.5      </td><td>0.6666667</td><td>0.6666667</td><td>0.25     </td><td>0.75     </td><td>0.50     </td><td>C        </td></tr>\n",
       "\t<tr><td>1        </td><td>0        </td><td>0        </td><td>0        </td><td>1        </td><td>0        </td><td>0        </td><td>0.0      </td><td>0.3333333</td><td>1.0000000</td><td>0.00     </td><td>0.50     </td><td>0.45     </td><td>D        </td></tr>\n",
       "\t<tr><td>0        </td><td>1        </td><td>1        </td><td>0        </td><td>0        </td><td>0        </td><td>0        </td><td>0.5      </td><td>0.0000000</td><td>0.6666667</td><td>1.00     </td><td>0.75     </td><td>0.40     </td><td>A        </td></tr>\n",
       "\t<tr><td>1        </td><td>0        </td><td>1        </td><td>0        </td><td>0        </td><td>0        </td><td>0        </td><td>0.0      </td><td>0.3333333</td><td>1.0000000</td><td>0.75     </td><td>0.50     </td><td>0.35     </td><td>A        </td></tr>\n",
       "\t<tr><td>1        </td><td>0        </td><td>1        </td><td>0        </td><td>0        </td><td>0        </td><td>0        </td><td>0.0      </td><td>0.3333333</td><td>1.0000000</td><td>0.00     </td><td>0.75     </td><td>0.70     </td><td>B        </td></tr>\n",
       "</tbody>\n",
       "</table>\n"
      ],
      "text/latex": [
       "\\begin{tabular}{r|llllllllllllll}\n",
       " gender.male & gender.female & region.Sudo & region.Chungcheung & region.Honam & region.Youngnam & region.Others & edu & income & age & score\\_gov & score\\_progress & score\\_intention & parties\\\\\n",
       "\\hline\n",
       "\t 1         & 0         & 0         & 0         & 0         & 1         & 0         & 1.0       & 0.6666667 & 0.6666667 & 0.25      & 0.25      & 0.75      & B        \\\\\n",
       "\t 1         & 0         & 0         & 0         & 0         & 0         & 1         & 0.5       & 0.6666667 & 0.6666667 & 0.25      & 0.75      & 0.50      & C        \\\\\n",
       "\t 1         & 0         & 0         & 0         & 1         & 0         & 0         & 0.0       & 0.3333333 & 1.0000000 & 0.00      & 0.50      & 0.45      & D        \\\\\n",
       "\t 0         & 1         & 1         & 0         & 0         & 0         & 0         & 0.5       & 0.0000000 & 0.6666667 & 1.00      & 0.75      & 0.40      & A        \\\\\n",
       "\t 1         & 0         & 1         & 0         & 0         & 0         & 0         & 0.0       & 0.3333333 & 1.0000000 & 0.75      & 0.50      & 0.35      & A        \\\\\n",
       "\t 1         & 0         & 1         & 0         & 0         & 0         & 0         & 0.0       & 0.3333333 & 1.0000000 & 0.00      & 0.75      & 0.70      & B        \\\\\n",
       "\\end{tabular}\n"
      ],
      "text/markdown": [
       "\n",
       "| gender.male | gender.female | region.Sudo | region.Chungcheung | region.Honam | region.Youngnam | region.Others | edu | income | age | score_gov | score_progress | score_intention | parties |\n",
       "|---|---|---|---|---|---|---|---|---|---|---|---|---|---|\n",
       "| 1         | 0         | 0         | 0         | 0         | 1         | 0         | 1.0       | 0.6666667 | 0.6666667 | 0.25      | 0.25      | 0.75      | B         |\n",
       "| 1         | 0         | 0         | 0         | 0         | 0         | 1         | 0.5       | 0.6666667 | 0.6666667 | 0.25      | 0.75      | 0.50      | C         |\n",
       "| 1         | 0         | 0         | 0         | 1         | 0         | 0         | 0.0       | 0.3333333 | 1.0000000 | 0.00      | 0.50      | 0.45      | D         |\n",
       "| 0         | 1         | 1         | 0         | 0         | 0         | 0         | 0.5       | 0.0000000 | 0.6666667 | 1.00      | 0.75      | 0.40      | A         |\n",
       "| 1         | 0         | 1         | 0         | 0         | 0         | 0         | 0.0       | 0.3333333 | 1.0000000 | 0.75      | 0.50      | 0.35      | A         |\n",
       "| 1         | 0         | 1         | 0         | 0         | 0         | 0         | 0.0       | 0.3333333 | 1.0000000 | 0.00      | 0.75      | 0.70      | B         |\n",
       "\n"
      ],
      "text/plain": [
       "  gender.male gender.female region.Sudo region.Chungcheung region.Honam\n",
       "1 1           0             0           0                  0           \n",
       "2 1           0             0           0                  0           \n",
       "3 1           0             0           0                  1           \n",
       "4 0           1             1           0                  0           \n",
       "5 1           0             1           0                  0           \n",
       "6 1           0             1           0                  0           \n",
       "  region.Youngnam region.Others edu income    age       score_gov\n",
       "1 1               0             1.0 0.6666667 0.6666667 0.25     \n",
       "2 0               1             0.5 0.6666667 0.6666667 0.25     \n",
       "3 0               0             0.0 0.3333333 1.0000000 0.00     \n",
       "4 0               0             0.5 0.0000000 0.6666667 1.00     \n",
       "5 0               0             0.0 0.3333333 1.0000000 0.75     \n",
       "6 0               0             0.0 0.3333333 1.0000000 0.00     \n",
       "  score_progress score_intention parties\n",
       "1 0.25           0.75            B      \n",
       "2 0.75           0.50            C      \n",
       "3 0.50           0.45            D      \n",
       "4 0.75           0.40            A      \n",
       "5 0.50           0.35            A      \n",
       "6 0.75           0.70            B      "
      ]
     },
     "metadata": {},
     "output_type": "display_data"
    }
   ],
   "source": [
    "data<-read.csv(\"data/Fvote.csv\", header=TRUE)\n",
    "data<-data[ , c(2:14, 16)]\n",
    "data$parties<-factor(data$parties, labels=c(\"A\", \"B\", \"C\", \"D\"))\n",
    "head(data)"
   ]
  },
  {
   "cell_type": "markdown",
   "id": "0ec63c34",
   "metadata": {},
   "source": [
    "## train / test dataset 나누기\n"
   ]
  },
  {
   "cell_type": "code",
   "execution_count": 2,
   "id": "8cc828e7",
   "metadata": {},
   "outputs": [
    {
     "name": "stderr",
     "output_type": "stream",
     "text": [
      "Warning message:\n",
      "\"package 'caret' was built under R version 3.6.3\"Loading required package: lattice\n",
      "Loading required package: ggplot2\n"
     ]
    }
   ],
   "source": [
    "\n",
    "library(caret)\n"
   ]
  },
  {
   "cell_type": "code",
   "execution_count": 3,
   "id": "bbff5b73",
   "metadata": {},
   "outputs": [
    {
     "data": {
      "text/html": [
       "<table>\n",
       "<thead><tr><th scope=col>Resample1</th></tr></thead>\n",
       "<tbody>\n",
       "\t<tr><td> 1</td></tr>\n",
       "\t<tr><td> 4</td></tr>\n",
       "\t<tr><td> 7</td></tr>\n",
       "\t<tr><td> 8</td></tr>\n",
       "\t<tr><td> 9</td></tr>\n",
       "\t<tr><td>10</td></tr>\n",
       "\t<tr><td>12</td></tr>\n",
       "\t<tr><td>13</td></tr>\n",
       "\t<tr><td>14</td></tr>\n",
       "\t<tr><td>16</td></tr>\n",
       "\t<tr><td>17</td></tr>\n",
       "\t<tr><td>18</td></tr>\n",
       "\t<tr><td>19</td></tr>\n",
       "\t<tr><td>22</td></tr>\n",
       "\t<tr><td>23</td></tr>\n",
       "\t<tr><td>24</td></tr>\n",
       "\t<tr><td>25</td></tr>\n",
       "\t<tr><td>28</td></tr>\n",
       "\t<tr><td>30</td></tr>\n",
       "\t<tr><td>31</td></tr>\n",
       "\t<tr><td>33</td></tr>\n",
       "\t<tr><td>34</td></tr>\n",
       "\t<tr><td>35</td></tr>\n",
       "\t<tr><td>37</td></tr>\n",
       "\t<tr><td>38</td></tr>\n",
       "\t<tr><td>39</td></tr>\n",
       "\t<tr><td>40</td></tr>\n",
       "\t<tr><td>43</td></tr>\n",
       "\t<tr><td>44</td></tr>\n",
       "\t<tr><td>46</td></tr>\n",
       "\t<tr><td>...</td></tr>\n",
       "\t<tr><td>172</td></tr>\n",
       "\t<tr><td>173</td></tr>\n",
       "\t<tr><td>175</td></tr>\n",
       "\t<tr><td>176</td></tr>\n",
       "\t<tr><td>177</td></tr>\n",
       "\t<tr><td>178</td></tr>\n",
       "\t<tr><td>179</td></tr>\n",
       "\t<tr><td>180</td></tr>\n",
       "\t<tr><td>181</td></tr>\n",
       "\t<tr><td>186</td></tr>\n",
       "\t<tr><td>188</td></tr>\n",
       "\t<tr><td>189</td></tr>\n",
       "\t<tr><td>190</td></tr>\n",
       "\t<tr><td>191</td></tr>\n",
       "\t<tr><td>192</td></tr>\n",
       "\t<tr><td>193</td></tr>\n",
       "\t<tr><td>194</td></tr>\n",
       "\t<tr><td>195</td></tr>\n",
       "\t<tr><td>197</td></tr>\n",
       "\t<tr><td>198</td></tr>\n",
       "\t<tr><td>199</td></tr>\n",
       "\t<tr><td>201</td></tr>\n",
       "\t<tr><td>202</td></tr>\n",
       "\t<tr><td>203</td></tr>\n",
       "\t<tr><td>205</td></tr>\n",
       "\t<tr><td>207</td></tr>\n",
       "\t<tr><td>208</td></tr>\n",
       "\t<tr><td>209</td></tr>\n",
       "\t<tr><td>210</td></tr>\n",
       "\t<tr><td>211</td></tr>\n",
       "</tbody>\n",
       "</table>\n"
      ],
      "text/latex": [
       "\\begin{tabular}{l}\n",
       " Resample1\\\\\n",
       "\\hline\n",
       "\t  1\\\\\n",
       "\t  4\\\\\n",
       "\t  7\\\\\n",
       "\t  8\\\\\n",
       "\t  9\\\\\n",
       "\t 10\\\\\n",
       "\t 12\\\\\n",
       "\t 13\\\\\n",
       "\t 14\\\\\n",
       "\t 16\\\\\n",
       "\t 17\\\\\n",
       "\t 18\\\\\n",
       "\t 19\\\\\n",
       "\t 22\\\\\n",
       "\t 23\\\\\n",
       "\t 24\\\\\n",
       "\t 25\\\\\n",
       "\t 28\\\\\n",
       "\t 30\\\\\n",
       "\t 31\\\\\n",
       "\t 33\\\\\n",
       "\t 34\\\\\n",
       "\t 35\\\\\n",
       "\t 37\\\\\n",
       "\t 38\\\\\n",
       "\t 39\\\\\n",
       "\t 40\\\\\n",
       "\t 43\\\\\n",
       "\t 44\\\\\n",
       "\t 46\\\\\n",
       "\t ...\\\\\n",
       "\t 172\\\\\n",
       "\t 173\\\\\n",
       "\t 175\\\\\n",
       "\t 176\\\\\n",
       "\t 177\\\\\n",
       "\t 178\\\\\n",
       "\t 179\\\\\n",
       "\t 180\\\\\n",
       "\t 181\\\\\n",
       "\t 186\\\\\n",
       "\t 188\\\\\n",
       "\t 189\\\\\n",
       "\t 190\\\\\n",
       "\t 191\\\\\n",
       "\t 192\\\\\n",
       "\t 193\\\\\n",
       "\t 194\\\\\n",
       "\t 195\\\\\n",
       "\t 197\\\\\n",
       "\t 198\\\\\n",
       "\t 199\\\\\n",
       "\t 201\\\\\n",
       "\t 202\\\\\n",
       "\t 203\\\\\n",
       "\t 205\\\\\n",
       "\t 207\\\\\n",
       "\t 208\\\\\n",
       "\t 209\\\\\n",
       "\t 210\\\\\n",
       "\t 211\\\\\n",
       "\\end{tabular}\n"
      ],
      "text/markdown": [
       "\n",
       "| Resample1 |\n",
       "|---|\n",
       "|  1 |\n",
       "|  4 |\n",
       "|  7 |\n",
       "|  8 |\n",
       "|  9 |\n",
       "| 10 |\n",
       "| 12 |\n",
       "| 13 |\n",
       "| 14 |\n",
       "| 16 |\n",
       "| 17 |\n",
       "| 18 |\n",
       "| 19 |\n",
       "| 22 |\n",
       "| 23 |\n",
       "| 24 |\n",
       "| 25 |\n",
       "| 28 |\n",
       "| 30 |\n",
       "| 31 |\n",
       "| 33 |\n",
       "| 34 |\n",
       "| 35 |\n",
       "| 37 |\n",
       "| 38 |\n",
       "| 39 |\n",
       "| 40 |\n",
       "| 43 |\n",
       "| 44 |\n",
       "| 46 |\n",
       "| ... |\n",
       "| 172 |\n",
       "| 173 |\n",
       "| 175 |\n",
       "| 176 |\n",
       "| 177 |\n",
       "| 178 |\n",
       "| 179 |\n",
       "| 180 |\n",
       "| 181 |\n",
       "| 186 |\n",
       "| 188 |\n",
       "| 189 |\n",
       "| 190 |\n",
       "| 191 |\n",
       "| 192 |\n",
       "| 193 |\n",
       "| 194 |\n",
       "| 195 |\n",
       "| 197 |\n",
       "| 198 |\n",
       "| 199 |\n",
       "| 201 |\n",
       "| 202 |\n",
       "| 203 |\n",
       "| 205 |\n",
       "| 207 |\n",
       "| 208 |\n",
       "| 209 |\n",
       "| 210 |\n",
       "| 211 |\n",
       "\n"
      ],
      "text/plain": [
       "      Resample1\n",
       " [1,]  1       \n",
       " [2,]  4       \n",
       " [3,]  7       \n",
       " [4,]  8       \n",
       " [5,]  9       \n",
       " [6,] 10       \n",
       " [7,] 12       \n",
       " [8,] 13       \n",
       " [9,] 14       \n",
       "[10,] 16       \n",
       "[11,] 17       \n",
       "[12,] 18       \n",
       "[13,] 19       \n",
       "[14,] 22       \n",
       "[15,] 23       \n",
       "[16,] 24       \n",
       "[17,] 25       \n",
       "[18,] 28       \n",
       "[19,] 30       \n",
       "[20,] 31       \n",
       "[21,] 33       \n",
       "[22,] 34       \n",
       "[23,] 35       \n",
       "[24,] 37       \n",
       "[25,] 38       \n",
       "[26,] 39       \n",
       "[27,] 40       \n",
       "[28,] 43       \n",
       "[29,] 44       \n",
       "[30,] 46       \n",
       "[31,] ...      \n",
       "[32,] 172      \n",
       "[33,] 173      \n",
       "[34,] 175      \n",
       "[35,] 176      \n",
       "[36,] 177      \n",
       "[37,] 178      \n",
       "[38,] 179      \n",
       "[39,] 180      \n",
       "[40,] 181      \n",
       "[41,] 186      \n",
       "[42,] 188      \n",
       "[43,] 189      \n",
       "[44,] 190      \n",
       "[45,] 191      \n",
       "[46,] 192      \n",
       "[47,] 193      \n",
       "[48,] 194      \n",
       "[49,] 195      \n",
       "[50,] 197      \n",
       "[51,] 198      \n",
       "[52,] 199      \n",
       "[53,] 201      \n",
       "[54,] 202      \n",
       "[55,] 203      \n",
       "[56,] 205      \n",
       "[57,] 207      \n",
       "[58,] 208      \n",
       "[59,] 209      \n",
       "[60,] 210      \n",
       "[61,] 211      "
      ]
     },
     "metadata": {},
     "output_type": "display_data"
    }
   ],
   "source": [
    "# set.seed(42)\n",
    "training.samples <- createDataPartition(data$parties, p = 0.7, list = FALSE)\n",
    "training.samples\n"
   ]
  },
  {
   "cell_type": "code",
   "execution_count": 4,
   "id": "d8dcf507",
   "metadata": {},
   "outputs": [],
   "source": [
    "\n",
    "train  <- data[training.samples, ]\n",
    "test <- data[-training.samples, ]"
   ]
  },
  {
   "cell_type": "markdown",
   "id": "ce1cd9cd",
   "metadata": {},
   "source": [
    "## 모델탐색\n",
    "\n",
    "###  TrainControl 및 기본 모델 훈련 (Accuracy 기준)\n"
   ]
  },
  {
   "cell_type": "markdown",
   "id": "f3a61a07",
   "metadata": {},
   "source": [
    "### Grid search"
   ]
  },
  {
   "cell_type": "code",
   "execution_count": 5,
   "id": "3c26032f",
   "metadata": {},
   "outputs": [],
   "source": [
    "train.control <- trainControl(method = \"repeatedcv\", \n",
    "                              number = 5, \n",
    "                              repeats = 10)"
   ]
  },
  {
   "cell_type": "code",
   "execution_count": 6,
   "id": "91a94c2d",
   "metadata": {},
   "outputs": [],
   "source": [
    "knnGrid <-  expand.grid(k=1:20)"
   ]
  },
  {
   "cell_type": "code",
   "execution_count": 7,
   "id": "a7ec220a",
   "metadata": {},
   "outputs": [
    {
     "data": {
      "text/plain": [
       "k-Nearest Neighbors \n",
       "\n",
       "150 samples\n",
       " 13 predictor\n",
       "  4 classes: 'A', 'B', 'C', 'D' \n",
       "\n",
       "No pre-processing\n",
       "Resampling: Cross-Validated (5 fold, repeated 10 times) \n",
       "Summary of sample sizes: 119, 119, 120, 121, 121, 121, ... \n",
       "Resampling results across tuning parameters:\n",
       "\n",
       "  k   Accuracy   Kappa     \n",
       "   1  0.3197463  0.05309142\n",
       "   2  0.3035808  0.02967173\n",
       "   3  0.3091099  0.02478762\n",
       "   4  0.3369120  0.04978305\n",
       "   5  0.3459969  0.05715296\n",
       "   6  0.3530671  0.06047131\n",
       "   7  0.3609377  0.06716930\n",
       "   8  0.3709441  0.07458165\n",
       "   9  0.3860943  0.09272430\n",
       "  10  0.3964056  0.10039119\n",
       "  11  0.3938217  0.08830303\n",
       "  12  0.3774430  0.05869860\n",
       "  13  0.3781573  0.05249315\n",
       "  14  0.3887674  0.06503987\n",
       "  15  0.3807750  0.04862031\n",
       "  16  0.3888900  0.05886464\n",
       "  17  0.3981662  0.07147006\n",
       "  18  0.4008482  0.07214838\n",
       "  19  0.4119000  0.08782523\n",
       "  20  0.4025283  0.07020280\n",
       "\n",
       "Accuracy was used to select the optimal model using the largest value.\n",
       "The final value used for the model was k = 19."
      ]
     },
     "metadata": {},
     "output_type": "display_data"
    }
   ],
   "source": [
    "TrainModel1 <- train(parties ~ ., data = train, \n",
    "                     method = \"knn\", \n",
    "                     trControl = train.control, \n",
    "                     metric = \"Accuracy\", # 또는 \"ROC\": trainControl 설정에 따라 다름\n",
    "                     tuneGrid = knnGrid)\n",
    "TrainModel1"
   ]
  },
  {
   "cell_type": "code",
   "execution_count": 8,
   "id": "d47273fe",
   "metadata": {},
   "outputs": [
    {
     "data": {
      "image/png": "[encoded data removed]",
      "text/plain": [
       "plot without title"
      ]
     },
     "metadata": {},
     "output_type": "display_data"
    }
   ],
   "source": [
    "#그래프\n",
    "trellis.par.set(caretTheme())\n",
    "plot(TrainModel1) \n"
   ]
  },
  {
   "cell_type": "markdown",
   "id": "d930844f",
   "metadata": {},
   "source": [
    "### 랜덤 서치 (random search)"
   ]
  },
  {
   "cell_type": "code",
   "execution_count": 9,
   "id": "6d8efbff",
   "metadata": {},
   "outputs": [
    {
     "data": {
      "text/plain": [
       "k-Nearest Neighbors \n",
       "\n",
       "150 samples\n",
       " 13 predictor\n",
       "  4 classes: 'A', 'B', 'C', 'D' \n",
       "\n",
       "No pre-processing\n",
       "Resampling: Cross-Validated (5 fold, repeated 10 times) \n",
       "Summary of sample sizes: 120, 119, 121, 120, 120, 121, ... \n",
       "Resampling results across tuning parameters:\n",
       "\n",
       "  k   Accuracy   Kappa     \n",
       "   1  0.3237564  0.05965846\n",
       "   5  0.3520768  0.06062143\n",
       "   9  0.3953112  0.10618590\n",
       "  13  0.3954522  0.08294469\n",
       "  17  0.3841361  0.05010581\n",
       "  21  0.4028747  0.06712008\n",
       "  25  0.4087487  0.07523167\n",
       "  29  0.4149281  0.07825934\n",
       "  33  0.3994063  0.04209098\n",
       "  37  0.3975412  0.03248844\n",
       "  41  0.3921821  0.02059892\n",
       "  45  0.3978260  0.02793565\n",
       "\n",
       "Accuracy was used to select the optimal model using the largest value.\n",
       "The final value used for the model was k = 29."
      ]
     },
     "metadata": {},
     "output_type": "display_data"
    }
   ],
   "source": [
    "train.control3 <- trainControl(method = \"repeatedcv\",\n",
    "                              number = 5,\n",
    "                              repeats = 10,\n",
    "                              search = \"random\")\n",
    "\n",
    "TrainModel3 <- train(parties ~ ., data = train, \n",
    "                     method = \"knn\",\n",
    "                     metric = \"Accuracy\",\n",
    "                     tuneLength = 30,\n",
    "                     trControl = train.control3)\n",
    "TrainModel3"
   ]
  },
  {
   "cell_type": "markdown",
   "id": "f34666f3",
   "metadata": {},
   "source": [
    "### 다소 심플한 모델의 탐색\n"
   ]
  },
  {
   "cell_type": "code",
   "execution_count": 10,
   "id": "b57d356f",
   "metadata": {},
   "outputs": [
    {
     "name": "stdout",
     "output_type": "stream",
     "text": [
      "best model within 2 pct of best:\n"
     ]
    },
    {
     "data": {
      "text/html": [
       "<table>\n",
       "<thead><tr><th></th><th scope=col>k</th><th scope=col>Accuracy</th><th scope=col>Kappa</th><th scope=col>AccuracySD</th><th scope=col>KappaSD</th></tr></thead>\n",
       "<tbody>\n",
       "\t<tr><th scope=row>7</th><td>25        </td><td>0.4087487 </td><td>0.07523167</td><td>0.04360566</td><td>0.06689507</td></tr>\n",
       "</tbody>\n",
       "</table>\n"
      ],
      "text/latex": [
       "\\begin{tabular}{r|lllll}\n",
       "  & k & Accuracy & Kappa & AccuracySD & KappaSD\\\\\n",
       "\\hline\n",
       "\t7 & 25         & 0.4087487  & 0.07523167 & 0.04360566 & 0.06689507\\\\\n",
       "\\end{tabular}\n"
      ],
      "text/markdown": [
       "\n",
       "| <!--/--> | k | Accuracy | Kappa | AccuracySD | KappaSD |\n",
       "|---|---|---|---|---|---|\n",
       "| 7 | 25         | 0.4087487  | 0.07523167 | 0.04360566 | 0.06689507 |\n",
       "\n"
      ],
      "text/plain": [
       "  k  Accuracy  Kappa      AccuracySD KappaSD   \n",
       "7 25 0.4087487 0.07523167 0.04360566 0.06689507"
      ]
     },
     "metadata": {},
     "output_type": "display_data"
    }
   ],
   "source": [
    "whichTwoPct <- tolerance(TrainModel3$results, metric = \"Accuracy\", tol = 2, maximize = TRUE)  \n",
    "cat(\"best model within 2 pct of best:\\n\")\n",
    "TrainModel3$results[whichTwoPct,1:5]"
   ]
  },
  {
   "cell_type": "markdown",
   "id": "d9891e60",
   "metadata": {},
   "source": [
    "> 위에서 훈련데이터 정확도가 높은 k값을 세가지방법을 이용해서 찾았다. \n",
    "Grid Search에서 찾은 k값, random search에서 찾은 k값, 다소 심플한 모델의 탐색에서 찾은 k값, 총 3가지 k값을 최종모델의 선택에서 tuneGrid = data.frame(k=)에 각각 k값을 대입해서 모델평가를 하여 가장 좋은 k값을 찾아낸다."
   ]
  },
  {
   "cell_type": "markdown",
   "id": "73a7335b",
   "metadata": {},
   "source": [
    "> 위에서 찾은 k값 19(Grid search), 29(random search), 25(다소 심플한 모델)을 밑에 FinalModel 변수에 \n",
    "tuneGrid = data.frame(k=)의 k값을 변경해주면서 훈련데이터 정확도와 테스트정확도가 높고 둘의 차이가 거의 없는 최상의 k값을 찾아 k값을 결정해주면 된다."
   ]
  },
  {
   "cell_type": "markdown",
   "id": "5538b9aa",
   "metadata": {},
   "source": [
    "### 최종모델의 선택\n"
   ]
  },
  {
   "cell_type": "code",
   "execution_count": 11,
   "id": "cf38f22e",
   "metadata": {},
   "outputs": [],
   "source": [
    "finalControl <- trainControl(method = \"none\", classProbs = TRUE)\n"
   ]
  },
  {
   "cell_type": "code",
   "execution_count": 41,
   "id": "c0a8bc1c",
   "metadata": {},
   "outputs": [
    {
     "data": {
      "text/plain": [
       "k-Nearest Neighbors \n",
       "\n",
       "150 samples\n",
       " 13 predictor\n",
       "  4 classes: 'A', 'B', 'C', 'D' \n",
       "\n",
       "No pre-processing\n",
       "Resampling: None "
      ]
     },
     "metadata": {},
     "output_type": "display_data"
    }
   ],
   "source": [
    "FinalModel <- train(parties ~ ., data = train, \n",
    "                    method = \"knn\", \n",
    "                    trControl = finalControl, \n",
    "                    tuneGrid = data.frame(k=25),\n",
    "                    metric = \"Accuracy\")\n",
    "FinalModel"
   ]
  },
  {
   "cell_type": "markdown",
   "id": "6cee9aef",
   "metadata": {},
   "source": [
    "### 모델 평가\n",
    "\n",
    "#### 훈련 모델의 예측 Class 측정\n"
   ]
  },
  {
   "cell_type": "code",
   "execution_count": 42,
   "id": "fdb76ec3",
   "metadata": {},
   "outputs": [],
   "source": [
    "train_pred<-predict(FinalModel, train)\n"
   ]
  },
  {
   "cell_type": "code",
   "execution_count": 43,
   "id": "fb513787",
   "metadata": {},
   "outputs": [
    {
     "data": {
      "text/plain": [
       "Confusion Matrix and Statistics\n",
       "\n",
       "          Reference\n",
       "Prediction  A  B  C  D\n",
       "         A  5  2  4  3\n",
       "         B  2 11  2  2\n",
       "         C  0  0  0  3\n",
       "         D 28 25 12 51\n",
       "\n",
       "Overall Statistics\n",
       "                                          \n",
       "               Accuracy : 0.4467          \n",
       "                 95% CI : (0.3655, 0.5299)\n",
       "    No Information Rate : 0.3933          \n",
       "    P-Value [Acc > NIR] : 0.1055          \n",
       "                                          \n",
       "                  Kappa : 0.1394          \n",
       "                                          \n",
       " Mcnemar's Test P-Value : 2.758e-09       \n",
       "\n",
       "Statistics by Class:\n",
       "\n",
       "                     Class: A Class: B Class: C Class: D\n",
       "Sensitivity           0.14286  0.28947   0.0000   0.8644\n",
       "Specificity           0.92174  0.94643   0.9773   0.2857\n",
       "Pos Pred Value        0.35714  0.64706   0.0000   0.4397\n",
       "Neg Pred Value        0.77941  0.79699   0.8776   0.7647\n",
       "Prevalence            0.23333  0.25333   0.1200   0.3933\n",
       "Detection Rate        0.03333  0.07333   0.0000   0.3400\n",
       "Detection Prevalence  0.09333  0.11333   0.0200   0.7733\n",
       "Balanced Accuracy     0.53230  0.61795   0.4886   0.5751"
      ]
     },
     "metadata": {},
     "output_type": "display_data"
    }
   ],
   "source": [
    "confusionMatrix(data = train_pred, reference = train$parties)\n"
   ]
  },
  {
   "cell_type": "code",
   "execution_count": 24,
   "id": "2adfb455",
   "metadata": {},
   "outputs": [
    {
     "data": {
      "text/plain": [
       "Confusion Matrix and Statistics\n",
       "\n",
       "          Reference\n",
       "Prediction  A  B  C  D\n",
       "         A  5  2  6  1\n",
       "         B  2  8  2  2\n",
       "         C  0  0  0  2\n",
       "         D 28 28 10 54\n",
       "\n",
       "Overall Statistics\n",
       "                                          \n",
       "               Accuracy : 0.4467          \n",
       "                 95% CI : (0.3655, 0.5299)\n",
       "    No Information Rate : 0.3933          \n",
       "    P-Value [Acc > NIR] : 0.1055          \n",
       "                                          \n",
       "                  Kappa : 0.1331          \n",
       "                                          \n",
       " Mcnemar's Test P-Value : 2.813e-11       \n",
       "\n",
       "Statistics by Class:\n",
       "\n",
       "                     Class: A Class: B Class: C Class: D\n",
       "Precision             0.35714  0.57143  0.00000   0.4500\n",
       "Recall                0.14286  0.21053  0.00000   0.9153\n",
       "F1                    0.20408  0.30769      NaN   0.6034\n",
       "Prevalence            0.23333  0.25333  0.12000   0.3933\n",
       "Detection Rate        0.03333  0.05333  0.00000   0.3600\n",
       "Detection Prevalence  0.09333  0.09333  0.01333   0.8000\n",
       "Balanced Accuracy     0.53230  0.57848  0.49242   0.5950"
      ]
     },
     "metadata": {},
     "output_type": "display_data"
    }
   ],
   "source": [
    "confusionMatrix(data = train_pred, reference = train$parties, mode = \"prec_recall\")\n"
   ]
  },
  {
   "cell_type": "code",
   "execution_count": 25,
   "id": "7306d9f4",
   "metadata": {},
   "outputs": [
    {
     "data": {
      "text/html": [
       "<dl class=dl-horizontal>\n",
       "\t<dt>Accuracy</dt>\n",
       "\t\t<dd>0.446666666666667</dd>\n",
       "\t<dt>Kappa</dt>\n",
       "\t\t<dd>0.133129090655898</dd>\n",
       "</dl>\n"
      ],
      "text/latex": [
       "\\begin{description*}\n",
       "\\item[Accuracy] 0.446666666666667\n",
       "\\item[Kappa] 0.133129090655898\n",
       "\\end{description*}\n"
      ],
      "text/markdown": [
       "Accuracy\n",
       ":   0.446666666666667Kappa\n",
       ":   0.133129090655898\n",
       "\n"
      ],
      "text/plain": [
       " Accuracy     Kappa \n",
       "0.4466667 0.1331291 "
      ]
     },
     "metadata": {},
     "output_type": "display_data"
    }
   ],
   "source": [
    "postResample(pred = train_pred, obs = train$parties)\n"
   ]
  },
  {
   "cell_type": "markdown",
   "id": "5b401da1",
   "metadata": {},
   "source": [
    "#### 테스트 모델의 예측 Class 측정\n"
   ]
  },
  {
   "cell_type": "code",
   "execution_count": 44,
   "id": "788f9e66",
   "metadata": {},
   "outputs": [],
   "source": [
    "\n",
    "test_pred<-predict(FinalModel, test)\n"
   ]
  },
  {
   "cell_type": "code",
   "execution_count": 45,
   "id": "2e9f71cd",
   "metadata": {},
   "outputs": [
    {
     "data": {
      "text/plain": [
       "Confusion Matrix and Statistics\n",
       "\n",
       "          Reference\n",
       "Prediction  A  B  C  D\n",
       "         A  2  0  3  0\n",
       "         B  1  4  1  0\n",
       "         C  0  0  0  0\n",
       "         D 12 11  3 24\n",
       "\n",
       "Overall Statistics\n",
       "                                         \n",
       "               Accuracy : 0.4918         \n",
       "                 95% CI : (0.3614, 0.623)\n",
       "    No Information Rate : 0.3934         \n",
       "    P-Value [Acc > NIR] : 0.0758         \n",
       "                                         \n",
       "                  Kappa : 0.1974         \n",
       "                                         \n",
       " Mcnemar's Test P-Value : 2.535e-05      \n",
       "\n",
       "Statistics by Class:\n",
       "\n",
       "                     Class: A Class: B Class: C Class: D\n",
       "Sensitivity           0.13333  0.26667   0.0000   1.0000\n",
       "Specificity           0.93478  0.95652   1.0000   0.2973\n",
       "Pos Pred Value        0.40000  0.66667      NaN   0.4800\n",
       "Neg Pred Value        0.76786  0.80000   0.8852   1.0000\n",
       "Prevalence            0.24590  0.24590   0.1148   0.3934\n",
       "Detection Rate        0.03279  0.06557   0.0000   0.3934\n",
       "Detection Prevalence  0.08197  0.09836   0.0000   0.8197\n",
       "Balanced Accuracy     0.53406  0.61159   0.5000   0.6486"
      ]
     },
     "metadata": {},
     "output_type": "display_data"
    }
   ],
   "source": [
    "confusionMatrix(data = test_pred, reference = test$parties)\n"
   ]
  },
  {
   "cell_type": "code",
   "execution_count": 28,
   "id": "ec238e28",
   "metadata": {},
   "outputs": [
    {
     "data": {
      "text/plain": [
       "Confusion Matrix and Statistics\n",
       "\n",
       "          Reference\n",
       "Prediction  A  B  C  D\n",
       "         A  3  0  2  0\n",
       "         B  1  3  1  1\n",
       "         C  0  0  1  0\n",
       "         D 11 12  3 23\n",
       "\n",
       "Overall Statistics\n",
       "                                         \n",
       "               Accuracy : 0.4918         \n",
       "                 95% CI : (0.3614, 0.623)\n",
       "    No Information Rate : 0.3934         \n",
       "    P-Value [Acc > NIR] : 0.0757969      \n",
       "                                         \n",
       "                  Kappa : 0.2031         \n",
       "                                         \n",
       " Mcnemar's Test P-Value : 0.0001268      \n",
       "\n",
       "Statistics by Class:\n",
       "\n",
       "                     Class: A Class: B Class: C Class: D\n",
       "Precision             0.60000  0.50000  1.00000   0.4694\n",
       "Recall                0.20000  0.20000  0.14286   0.9583\n",
       "F1                    0.30000  0.28571  0.25000   0.6301\n",
       "Prevalence            0.24590  0.24590  0.11475   0.3934\n",
       "Detection Rate        0.04918  0.04918  0.01639   0.3770\n",
       "Detection Prevalence  0.08197  0.09836  0.01639   0.8033\n",
       "Balanced Accuracy     0.57826  0.56739  0.57143   0.6278"
      ]
     },
     "metadata": {},
     "output_type": "display_data"
    }
   ],
   "source": [
    "confusionMatrix(data = test_pred, reference = test$parties, mode = \"prec_recall\")\n"
   ]
  },
  {
   "cell_type": "code",
   "execution_count": 29,
   "id": "ba4e52bf",
   "metadata": {},
   "outputs": [
    {
     "data": {
      "text/html": [
       "<dl class=dl-horizontal>\n",
       "\t<dt>Accuracy</dt>\n",
       "\t\t<dd>0.491803278688525</dd>\n",
       "\t<dt>Kappa</dt>\n",
       "\t\t<dd>0.203118415507796</dd>\n",
       "</dl>\n"
      ],
      "text/latex": [
       "\\begin{description*}\n",
       "\\item[Accuracy] 0.491803278688525\n",
       "\\item[Kappa] 0.203118415507796\n",
       "\\end{description*}\n"
      ],
      "text/markdown": [
       "Accuracy\n",
       ":   0.491803278688525Kappa\n",
       ":   0.203118415507796\n",
       "\n"
      ],
      "text/plain": [
       " Accuracy     Kappa \n",
       "0.4918033 0.2031184 "
      ]
     },
     "metadata": {},
     "output_type": "display_data"
    }
   ],
   "source": [
    "postResample(pred = test_pred, obs = test$parties)"
   ]
  },
  {
   "cell_type": "markdown",
   "id": "6fc5a177",
   "metadata": {},
   "source": [
    "> k값을 바꾸면서 훈련데이터 , 테스트데이터 정확도를 측정하였다. k가 19일때 훈련데이터 0.45, 테스트데이터 0.42, k가 29일때 훈련데이터 0.46, 테스트데이터 0.49,\n",
    "k가 25일때 훈련데이터 0.44, 테스트데이터 0.49 정확도가 나왔다.\n",
    "\n",
    "\n",
    "> 결론적으로 훈련데이터와 테스트데이터 정확도 차이가 거의 없고 가장 정확도가 높은 k값은 29이다.\n"
   ]
  }
 ],
 "metadata": {
  "kernelspec": {
   "display_name": "R",
   "language": "R",
   "name": "ir"
  },
  "language_info": {
   "codemirror_mode": "r",
   "file_extension": ".r",
   "mimetype": "text/x-r-source",
   "name": "R",
   "pygments_lexer": "r",
   "version": "3.6.1"
  },
  "toc": {
   "base_numbering": 1,
   "nav_menu": {},
   "number_sections": true,
   "sideBar": true,
   "skip_h1_title": false,
   "title_cell": "Table of Contents",
   "title_sidebar": "Contents",
   "toc_cell": false,
   "toc_position": {},
   "toc_section_display": true,
   "toc_window_display": false
  }
 },
 "nbformat": 4,
 "nbformat_minor": 5
}
