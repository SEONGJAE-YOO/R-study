{
 "cells": [
  {
   "cell_type": "markdown",
   "id": "aa7afced",
   "metadata": {},
   "source": [
    "# 모델 훈련과 세부튜닝\n",
    "\n",
    "## 모델 훈련\n"
   ]
  },
  {
   "cell_type": "markdown",
   "id": "a1ebea1a",
   "metadata": {},
   "source": [
    "> 최적의 머신러닝 모델은 1개가 아니라 여러 가지를 적용해보아야 함\n",
    "\n",
    "- 분류 : KNN,SVM,Random Forest 등의 개별 알고리즘을 적용하거나, 이들의 결합인 앙상블기법 등을 적용하여 최상의 정확도와 일반화가 가능한 알고리즘을 선택"
   ]
  },
  {
   "cell_type": "markdown",
   "id": "4caf570d",
   "metadata": {},
   "source": [
    "- 1개의 알고리즘 내에서 하이퍼 파라미터가 달라짐에 따라 주어진 과제에 가장 적합한 정확도와 일반화 모델이 존재하므로 Grid Search 및 Random Search 등 모델에 대한 세부 튜닝 과정을 거쳐야 함"
   ]
  },
  {
   "cell_type": "markdown",
   "id": "6095ff63",
   "metadata": {},
   "source": [
    "## 모델의 탐색\n",
    "\n",
    "### 그리드 탐색\n",
    "\n",
    "- 기법 :  Grid Search는 사전에 탐색할 값들을 미리 지정해주고, 그 값들의 모든 조합을 바탕으로 성능의 최고점을 찾아냅니다.\n",
    "\n",
    "- 장점 :  내가 원하는 범위를 정확하게 비교 분석이 가능하다.\n",
    "\n",
    "- 단점 :  시간이 오래걸린다.\n",
    "\n",
    "- knn 알고리즘에 많이 사용된다."
   ]
  },
  {
   "cell_type": "markdown",
   "id": "7b8a6fcd",
   "metadata": {},
   "source": [
    "### 랜덤 탐색\n",
    "\n",
    "- 기법 : 사전에 탐색할 값들의 범위를 지정해주고, 그 범위 속에서 가능한 조합을 바탕으로 최고점을 찾아냅니다.\n",
    "\n",
    "- 장점 : Grid Search에 비해 시간이 짧게 걸린다.Grid Search보다, 랜덤하게 점들을 찍으니, 성능이 더 좋은 점으로 갈 가능성이 높다.\n",
    "\n",
    "- 단점 : 반대로 성능이 Grid Search보다 낮을 수 있다. 하이퍼 파라미터의 범위가 너무 넓으면, 일반화된 결과가 나오지 않는다. (할 때 마다 달라진다) seed를 고정하지 않으면, 할 때 마다 결과가 달라진다. 마찬가지로, \"최적값 검색\"의 느낌이지, \"최적화 탐색\"의 개념이 아니다.\n",
    "\n",
    "- 연구적으로 그리드 탐색보다 랜덤 탐색이 더 좋다는 연구결과가 있다."
   ]
  },
  {
   "cell_type": "markdown",
   "id": "2a301d2c",
   "metadata": {},
   "source": [
    "# 실습"
   ]
  },
  {
   "cell_type": "code",
   "execution_count": 1,
   "id": "5aa626e8",
   "metadata": {},
   "outputs": [
    {
     "data": {
      "text/html": [
       "<table>\n",
       "<thead><tr><th scope=col>gender.male</th><th scope=col>gender.female</th><th scope=col>region.Sudo</th><th scope=col>region.Chungcheung</th><th scope=col>region.Honam</th><th scope=col>region.Youngnam</th><th scope=col>region.Others</th><th scope=col>edu</th><th scope=col>income</th><th scope=col>age</th><th scope=col>score_gov</th><th scope=col>score_progress</th><th scope=col>score_intention</th><th scope=col>vote</th></tr></thead>\n",
       "<tbody>\n",
       "\t<tr><td>1        </td><td>0        </td><td>0        </td><td>0        </td><td>0        </td><td>1        </td><td>0        </td><td>1.0      </td><td>0.6666667</td><td>0.6666667</td><td>0.25     </td><td>0.25     </td><td>0.75     </td><td>yes      </td></tr>\n",
       "\t<tr><td>1        </td><td>0        </td><td>0        </td><td>0        </td><td>0        </td><td>0        </td><td>1        </td><td>0.5      </td><td>0.6666667</td><td>0.6666667</td><td>0.25     </td><td>0.75     </td><td>0.50     </td><td>no       </td></tr>\n",
       "\t<tr><td>1        </td><td>0        </td><td>0        </td><td>0        </td><td>1        </td><td>0        </td><td>0        </td><td>0.0      </td><td>0.3333333</td><td>1.0000000</td><td>0.00     </td><td>0.50     </td><td>0.45     </td><td>yes      </td></tr>\n",
       "\t<tr><td>0        </td><td>1        </td><td>1        </td><td>0        </td><td>0        </td><td>0        </td><td>0        </td><td>0.5      </td><td>0.0000000</td><td>0.6666667</td><td>1.00     </td><td>0.75     </td><td>0.40     </td><td>yes      </td></tr>\n",
       "\t<tr><td>1        </td><td>0        </td><td>1        </td><td>0        </td><td>0        </td><td>0        </td><td>0        </td><td>0.0      </td><td>0.3333333</td><td>1.0000000</td><td>0.75     </td><td>0.50     </td><td>0.35     </td><td>yes      </td></tr>\n",
       "\t<tr><td>1        </td><td>0        </td><td>1        </td><td>0        </td><td>0        </td><td>0        </td><td>0        </td><td>0.0      </td><td>0.3333333</td><td>1.0000000</td><td>0.00     </td><td>0.75     </td><td>0.70     </td><td>yes      </td></tr>\n",
       "</tbody>\n",
       "</table>\n"
      ],
      "text/latex": [
       "\\begin{tabular}{r|llllllllllllll}\n",
       " gender.male & gender.female & region.Sudo & region.Chungcheung & region.Honam & region.Youngnam & region.Others & edu & income & age & score\\_gov & score\\_progress & score\\_intention & vote\\\\\n",
       "\\hline\n",
       "\t 1         & 0         & 0         & 0         & 0         & 1         & 0         & 1.0       & 0.6666667 & 0.6666667 & 0.25      & 0.25      & 0.75      & yes      \\\\\n",
       "\t 1         & 0         & 0         & 0         & 0         & 0         & 1         & 0.5       & 0.6666667 & 0.6666667 & 0.25      & 0.75      & 0.50      & no       \\\\\n",
       "\t 1         & 0         & 0         & 0         & 1         & 0         & 0         & 0.0       & 0.3333333 & 1.0000000 & 0.00      & 0.50      & 0.45      & yes      \\\\\n",
       "\t 0         & 1         & 1         & 0         & 0         & 0         & 0         & 0.5       & 0.0000000 & 0.6666667 & 1.00      & 0.75      & 0.40      & yes      \\\\\n",
       "\t 1         & 0         & 1         & 0         & 0         & 0         & 0         & 0.0       & 0.3333333 & 1.0000000 & 0.75      & 0.50      & 0.35      & yes      \\\\\n",
       "\t 1         & 0         & 1         & 0         & 0         & 0         & 0         & 0.0       & 0.3333333 & 1.0000000 & 0.00      & 0.75      & 0.70      & yes      \\\\\n",
       "\\end{tabular}\n"
      ],
      "text/markdown": [
       "\n",
       "| gender.male | gender.female | region.Sudo | region.Chungcheung | region.Honam | region.Youngnam | region.Others | edu | income | age | score_gov | score_progress | score_intention | vote |\n",
       "|---|---|---|---|---|---|---|---|---|---|---|---|---|---|\n",
       "| 1         | 0         | 0         | 0         | 0         | 1         | 0         | 1.0       | 0.6666667 | 0.6666667 | 0.25      | 0.25      | 0.75      | yes       |\n",
       "| 1         | 0         | 0         | 0         | 0         | 0         | 1         | 0.5       | 0.6666667 | 0.6666667 | 0.25      | 0.75      | 0.50      | no        |\n",
       "| 1         | 0         | 0         | 0         | 1         | 0         | 0         | 0.0       | 0.3333333 | 1.0000000 | 0.00      | 0.50      | 0.45      | yes       |\n",
       "| 0         | 1         | 1         | 0         | 0         | 0         | 0         | 0.5       | 0.0000000 | 0.6666667 | 1.00      | 0.75      | 0.40      | yes       |\n",
       "| 1         | 0         | 1         | 0         | 0         | 0         | 0         | 0.0       | 0.3333333 | 1.0000000 | 0.75      | 0.50      | 0.35      | yes       |\n",
       "| 1         | 0         | 1         | 0         | 0         | 0         | 0         | 0.0       | 0.3333333 | 1.0000000 | 0.00      | 0.75      | 0.70      | yes       |\n",
       "\n"
      ],
      "text/plain": [
       "  gender.male gender.female region.Sudo region.Chungcheung region.Honam\n",
       "1 1           0             0           0                  0           \n",
       "2 1           0             0           0                  0           \n",
       "3 1           0             0           0                  1           \n",
       "4 0           1             1           0                  0           \n",
       "5 1           0             1           0                  0           \n",
       "6 1           0             1           0                  0           \n",
       "  region.Youngnam region.Others edu income    age       score_gov\n",
       "1 1               0             1.0 0.6666667 0.6666667 0.25     \n",
       "2 0               1             0.5 0.6666667 0.6666667 0.25     \n",
       "3 0               0             0.0 0.3333333 1.0000000 0.00     \n",
       "4 0               0             0.5 0.0000000 0.6666667 1.00     \n",
       "5 0               0             0.0 0.3333333 1.0000000 0.75     \n",
       "6 0               0             0.0 0.3333333 1.0000000 0.00     \n",
       "  score_progress score_intention vote\n",
       "1 0.25           0.75            yes \n",
       "2 0.75           0.50            no  \n",
       "3 0.50           0.45            yes \n",
       "4 0.75           0.40            yes \n",
       "5 0.50           0.35            yes \n",
       "6 0.75           0.70            yes "
      ]
     },
     "metadata": {},
     "output_type": "display_data"
    }
   ],
   "source": [
    "data<-read.csv(\"data/Fvote.csv\", header=TRUE)\n",
    "data<-data[ , 2:15]\n",
    "data$vote<-factor(data$vote, labels=c(\"no\", \"yes\"))\n",
    "head(data)"
   ]
  },
  {
   "cell_type": "code",
   "execution_count": 2,
   "id": "6b91c1f6",
   "metadata": {},
   "outputs": [
    {
     "name": "stderr",
     "output_type": "stream",
     "text": [
      "Warning message:\n",
      "\"package 'caret' was built under R version 3.6.3\"Loading required package: lattice\n",
      "Loading required package: ggplot2\n"
     ]
    }
   ],
   "source": [
    "library(caret)"
   ]
  },
  {
   "cell_type": "code",
   "execution_count": 3,
   "id": "7b9785da",
   "metadata": {},
   "outputs": [],
   "source": [
    "set.seed(42)"
   ]
  },
  {
   "cell_type": "code",
   "execution_count": 4,
   "id": "ae76be81",
   "metadata": {},
   "outputs": [],
   "source": [
    "training.samples <- createDataPartition(data$vote, p=0.7, list=F)"
   ]
  },
  {
   "cell_type": "code",
   "execution_count": 5,
   "id": "5a9c9dbb",
   "metadata": {},
   "outputs": [],
   "source": [
    "train <- data[training.samples,]"
   ]
  },
  {
   "cell_type": "code",
   "execution_count": 6,
   "id": "90b63d33",
   "metadata": {},
   "outputs": [],
   "source": [
    "test <- data[-training.samples,]"
   ]
  },
  {
   "cell_type": "markdown",
   "id": "2d6b2b24",
   "metadata": {},
   "source": [
    "- ROC 값 알려면 classProbs = TRUE, summaryFunction = twoClassSummary 설정해주기"
   ]
  },
  {
   "cell_type": "code",
   "execution_count": 7,
   "id": "fa8971f9",
   "metadata": {},
   "outputs": [],
   "source": [
    "train.control <- trainControl(method = \"repeatedcv\", number=5, repeats = 10,classProbs = TRUE, summaryFunction = twoClassSummary)"
   ]
  },
  {
   "cell_type": "code",
   "execution_count": 8,
   "id": "4f8ede69",
   "metadata": {},
   "outputs": [
    {
     "name": "stderr",
     "output_type": "stream",
     "text": [
      "Warning message in train.default(x, y, weights = w, ...):\n",
      "\"The metric \"Accuracy\" was not in the result set. ROC will be used instead.\""
     ]
    }
   ],
   "source": [
    "trainModel1<-train(vote~.,data=train, method = \"knn\", trControl = train.control)"
   ]
  },
  {
   "cell_type": "code",
   "execution_count": 9,
   "id": "35f97c95",
   "metadata": {},
   "outputs": [
    {
     "data": {
      "text/plain": [
       "k-Nearest Neighbors \n",
       "\n",
       "148 samples\n",
       " 13 predictor\n",
       "  2 classes: 'no', 'yes' \n",
       "\n",
       "No pre-processing\n",
       "Resampling: Cross-Validated (5 fold, repeated 10 times) \n",
       "Summary of sample sizes: 118, 118, 119, 118, 119, 118, ... \n",
       "Resampling results across tuning parameters:\n",
       "\n",
       "  k  ROC        Sens       Spec     \n",
       "  5  0.5954696  0.3533333  0.7980952\n",
       "  7  0.6090079  0.3247222  0.8380952\n",
       "  9  0.6231746  0.2077778  0.8695238\n",
       "\n",
       "ROC was used to select the optimal model using the largest value.\n",
       "The final value used for the model was k = 9."
      ]
     },
     "metadata": {},
     "output_type": "display_data"
    }
   ],
   "source": [
    "trainModel1"
   ]
  },
  {
   "cell_type": "markdown",
   "id": "9d9ea48f",
   "metadata": {},
   "source": [
    "- ROC는 (0,0) , (1,1) 둘다 잘 맞추는 비율을 말한다. "
   ]
  },
  {
   "cell_type": "markdown",
   "id": "d9ddf1c9",
   "metadata": {},
   "source": [
    "## Grid Search"
   ]
  },
  {
   "cell_type": "code",
   "execution_count": 10,
   "id": "582a2eb0",
   "metadata": {},
   "outputs": [],
   "source": [
    "train.control2 <- trainControl(method = \"repeatedcv\", number=5, repeats = 10)"
   ]
  },
  {
   "cell_type": "code",
   "execution_count": 11,
   "id": "ee143bcd",
   "metadata": {},
   "outputs": [],
   "source": [
    "knnGrid=expand.grid(k=1:20)"
   ]
  },
  {
   "cell_type": "code",
   "execution_count": 12,
   "id": "3d31a836",
   "metadata": {},
   "outputs": [],
   "source": [
    "trainModel2<-train(vote~.,data=train, method = \"knn\", trControl = train.control2, metric = \"Accuracy\", tuneGrid = knnGrid)"
   ]
  },
  {
   "cell_type": "code",
   "execution_count": 13,
   "id": "621a42b9",
   "metadata": {},
   "outputs": [
    {
     "data": {
      "text/plain": [
       "k-Nearest Neighbors \n",
       "\n",
       "148 samples\n",
       " 13 predictor\n",
       "  2 classes: 'no', 'yes' \n",
       "\n",
       "No pre-processing\n",
       "Resampling: Cross-Validated (5 fold, repeated 10 times) \n",
       "Summary of sample sizes: 119, 118, 118, 118, 119, 119, ... \n",
       "Resampling results across tuning parameters:\n",
       "\n",
       "  k   Accuracy   Kappa     \n",
       "   1  0.5870115  0.07422350\n",
       "   2  0.5853793  0.06873246\n",
       "   3  0.5861839  0.03354572\n",
       "   4  0.6093563  0.06300023\n",
       "   5  0.6484138  0.11219012\n",
       "   6  0.6586437  0.12998979\n",
       "   7  0.6615172  0.10504443\n",
       "   8  0.6622529  0.10006795\n",
       "   9  0.6750115  0.08443963\n",
       "  10  0.6737241  0.07297979\n",
       "  11  0.6859080  0.08919602\n",
       "  12  0.6892874  0.08162754\n",
       "  13  0.7021379  0.10991195\n",
       "  14  0.7061379  0.12221943\n",
       "  15  0.7062069  0.10733119\n",
       "  16  0.7122759  0.11688912\n",
       "  17  0.7170115  0.12033344\n",
       "  18  0.7122529  0.10793695\n",
       "  19  0.7203448  0.12136003\n",
       "  20  0.7171034  0.10804818\n",
       "\n",
       "Accuracy was used to select the optimal model using the largest value.\n",
       "The final value used for the model was k = 19."
      ]
     },
     "metadata": {},
     "output_type": "display_data"
    }
   ],
   "source": [
    "trainModel2"
   ]
  },
  {
   "cell_type": "code",
   "execution_count": 14,
   "id": "6d1cc3ba",
   "metadata": {},
   "outputs": [
    {
     "data": {
      "image/png": "[encoded data removed]",
      "text/plain": [
       "plot without title"
      ]
     },
     "metadata": {},
     "output_type": "display_data"
    },
    {
     "data": {
      "image/png": "[encoded data removed]",
      "text/plain": [
       "plot without title"
      ]
     },
     "metadata": {},
     "output_type": "display_data"
    }
   ],
   "source": [
    "trellis.par.set(caretTheme())\n",
    "plot(trainModel2) \n",
    "plot(trainModel2, metric = \"Kappa\")"
   ]
  },
  {
   "cell_type": "markdown",
   "id": "5c19c22b",
   "metadata": {},
   "source": [
    "- ROC 기준"
   ]
  },
  {
   "cell_type": "code",
   "execution_count": 15,
   "id": "f0872de6",
   "metadata": {},
   "outputs": [],
   "source": [
    "train.control3 <- trainControl(method = \"repeatedcv\", number=5, repeats = 10,classProbs = TRUE, summaryFunction = twoClassSummary)"
   ]
  },
  {
   "cell_type": "code",
   "execution_count": 16,
   "id": "5aba2528",
   "metadata": {},
   "outputs": [],
   "source": [
    "trainModel3<-train(vote~.,data=train, method = \"knn\", trControl = train.control3, metric = \"ROC\", tuneGrid = knnGrid)"
   ]
  },
  {
   "cell_type": "code",
   "execution_count": 17,
   "id": "bbe593e6",
   "metadata": {},
   "outputs": [
    {
     "data": {
      "text/plain": [
       "k-Nearest Neighbors \n",
       "\n",
       "148 samples\n",
       " 13 predictor\n",
       "  2 classes: 'no', 'yes' \n",
       "\n",
       "No pre-processing\n",
       "Resampling: Cross-Validated (5 fold, repeated 10 times) \n",
       "Summary of sample sizes: 119, 118, 119, 118, 118, 118, ... \n",
       "Resampling results across tuning parameters:\n",
       "\n",
       "  k   ROC        Sens       Spec     \n",
       "   1  0.5470767  0.4222222  0.6714286\n",
       "   2  0.5636640  0.4027778  0.6580952\n",
       "   3  0.5575794  0.3277778  0.6933333\n",
       "   4  0.5837500  0.3333333  0.7447619\n",
       "   5  0.5991204  0.3247222  0.7952381\n",
       "   6  0.5993519  0.3538889  0.7971429\n",
       "   7  0.6106217  0.3063889  0.8209524\n",
       "   8  0.6165146  0.2983333  0.8285714\n",
       "   9  0.6252646  0.2641667  0.8552381\n",
       "  10  0.6409921  0.2358333  0.8647619\n",
       "  11  0.6440013  0.2169444  0.8923810\n",
       "  12  0.6554960  0.2125000  0.8942857\n",
       "  13  0.6622817  0.1866667  0.9133333\n",
       "  14  0.6626786  0.2030556  0.9180952\n",
       "  15  0.6658135  0.1772222  0.9295238\n",
       "  16  0.6704828  0.1863889  0.9352381\n",
       "  17  0.6684392  0.1616667  0.9457143\n",
       "  18  0.6668783  0.1611111  0.9447619\n",
       "  19  0.6687235  0.1316667  0.9628571\n",
       "  20  0.6636706  0.1361111  0.9619048\n",
       "\n",
       "ROC was used to select the optimal model using the largest value.\n",
       "The final value used for the model was k = 16."
      ]
     },
     "metadata": {},
     "output_type": "display_data"
    }
   ],
   "source": [
    "trainModel3"
   ]
  },
  {
   "cell_type": "markdown",
   "id": "456735e7",
   "metadata": {},
   "source": [
    "## 랜덤 서치 기반 모델 튜닝\n"
   ]
  },
  {
   "cell_type": "code",
   "execution_count": 18,
   "id": "37ec7726",
   "metadata": {},
   "outputs": [],
   "source": [
    "train.control <- trainControl(method = \"repeatedcv\",\n",
    "                           number = 5,\n",
    "                           repeats = 10,\n",
    "                           classProbs = TRUE,\n",
    "                           search = \"random\")"
   ]
  },
  {
   "cell_type": "code",
   "execution_count": 19,
   "id": "ddbf8ade",
   "metadata": {},
   "outputs": [
    {
     "data": {
      "text/plain": [
       "k-Nearest Neighbors \n",
       "\n",
       "148 samples\n",
       " 13 predictor\n",
       "  2 classes: 'no', 'yes' \n",
       "\n",
       "No pre-processing\n",
       "Resampling: Cross-Validated (5 fold, repeated 10 times) \n",
       "Summary of sample sizes: 118, 118, 119, 119, 118, 118, ... \n",
       "Resampling results across tuning parameters:\n",
       "\n",
       "  k   Accuracy   Kappa      \n",
       "   1  0.6083218  0.102329780\n",
       "   3  0.6021609  0.056188007\n",
       "   5  0.6530575  0.127506114\n",
       "   7  0.6666437  0.127326873\n",
       "   9  0.6759770  0.099862741\n",
       "  11  0.6874483  0.107093398\n",
       "  13  0.7034713  0.120718932\n",
       "  17  0.7190345  0.137517998\n",
       "  21  0.7278621  0.145730444\n",
       "  25  0.7204368  0.107666025\n",
       "  29  0.7257931  0.109700143\n",
       "  31  0.7299080  0.116217927\n",
       "  35  0.7218161  0.067119894\n",
       "  37  0.7151034  0.036919286\n",
       "  45  0.7103448  0.003428571\n",
       "\n",
       "Accuracy was used to select the optimal model using the largest value.\n",
       "The final value used for the model was k = 31."
      ]
     },
     "metadata": {},
     "output_type": "display_data"
    }
   ],
   "source": [
    "TrainModel3 <- train(vote ~ ., data = train, \n",
    "                 method = \"knn\",\n",
    "                 metric = \"Accuracy\",\n",
    "                 tuneLength = 30,\n",
    "                 trControl = train.control)\n",
    "TrainModel3"
   ]
  },
  {
   "cell_type": "markdown",
   "id": "93779ac3",
   "metadata": {},
   "source": [
    "## 다소 심플한 모델의 탐색\n"
   ]
  },
  {
   "cell_type": "code",
   "execution_count": 22,
   "id": "1d359adf",
   "metadata": {},
   "outputs": [
    {
     "name": "stdout",
     "output_type": "stream",
     "text": [
      "best model within 2 pct of best:\n"
     ]
    },
    {
     "data": {
      "text/html": [
       "<table>\n",
       "<thead><tr><th></th><th scope=col>k</th><th scope=col>Accuracy</th><th scope=col>Kappa</th><th scope=col>AccuracySD</th><th scope=col>KappaSD</th></tr></thead>\n",
       "<tbody>\n",
       "\t<tr><th scope=row>14</th><td>14        </td><td>0.7061379 </td><td>0.1222194 </td><td>0.06536154</td><td>0.1827555 </td></tr>\n",
       "</tbody>\n",
       "</table>\n"
      ],
      "text/latex": [
       "\\begin{tabular}{r|lllll}\n",
       "  & k & Accuracy & Kappa & AccuracySD & KappaSD\\\\\n",
       "\\hline\n",
       "\t14 & 14         & 0.7061379  & 0.1222194  & 0.06536154 & 0.1827555 \\\\\n",
       "\\end{tabular}\n"
      ],
      "text/markdown": [
       "\n",
       "| <!--/--> | k | Accuracy | Kappa | AccuracySD | KappaSD |\n",
       "|---|---|---|---|---|---|\n",
       "| 14 | 14         | 0.7061379  | 0.1222194  | 0.06536154 | 0.1827555  |\n",
       "\n"
      ],
      "text/plain": [
       "   k  Accuracy  Kappa     AccuracySD KappaSD  \n",
       "14 14 0.7061379 0.1222194 0.06536154 0.1827555"
      ]
     },
     "metadata": {},
     "output_type": "display_data"
    }
   ],
   "source": [
    "\n",
    "whichTwoPct <- tolerance(trainModel2$results, metric = \"Accuracy\", tol = 2, maximize = TRUE)  \n",
    "cat(\"best model within 2 pct of best:\\n\")\n",
    "trainModel2$results[whichTwoPct,1:5]"
   ]
  },
  {
   "cell_type": "markdown",
   "id": "34ad0680",
   "metadata": {},
   "source": [
    "##  최종모델의 선택"
   ]
  },
  {
   "cell_type": "code",
   "execution_count": 23,
   "id": "3d114f1d",
   "metadata": {},
   "outputs": [
    {
     "data": {
      "text/plain": [
       "k-Nearest Neighbors \n",
       "\n",
       "148 samples\n",
       " 13 predictor\n",
       "  2 classes: 'no', 'yes' \n",
       "\n",
       "No pre-processing\n",
       "Resampling: None "
      ]
     },
     "metadata": {},
     "output_type": "display_data"
    }
   ],
   "source": [
    "# 7. 최종모델의 선택\n",
    "\n",
    "finalControl <- trainControl(method = \"none\", classProbs = TRUE)\n",
    "\n",
    "set.seed(42)\n",
    "FinalModel <- train(vote ~ ., data = train, \n",
    "                 method = \"knn\", \n",
    "                 trControl = finalControl, \n",
    "                 tuneGrid = data.frame(k=8),\n",
    "                 metric = \"Accuracy\")\n",
    "FinalModel"
   ]
  },
  {
   "cell_type": "markdown",
   "id": "f3be211a",
   "metadata": {},
   "source": [
    "## 테스트데이터 및 신규데이터의 예측\n"
   ]
  },
  {
   "cell_type": "code",
   "execution_count": 25,
   "id": "ce711fb0",
   "metadata": {},
   "outputs": [
    {
     "data": {
      "text/html": [
       "<ol class=list-inline>\n",
       "\t<li>yes</li>\n",
       "\t<li>yes</li>\n",
       "\t<li>yes</li>\n",
       "\t<li>yes</li>\n",
       "\t<li>yes</li>\n",
       "\t<li>yes</li>\n",
       "\t<li>yes</li>\n",
       "\t<li>yes</li>\n",
       "\t<li>yes</li>\n",
       "\t<li>yes</li>\n",
       "\t<li>no</li>\n",
       "\t<li>yes</li>\n",
       "\t<li>yes</li>\n",
       "\t<li>yes</li>\n",
       "\t<li>no</li>\n",
       "\t<li>yes</li>\n",
       "\t<li>yes</li>\n",
       "\t<li>no</li>\n",
       "\t<li>yes</li>\n",
       "\t<li>yes</li>\n",
       "\t<li>yes</li>\n",
       "\t<li>yes</li>\n",
       "\t<li>yes</li>\n",
       "\t<li>yes</li>\n",
       "\t<li>no</li>\n",
       "\t<li>yes</li>\n",
       "\t<li>yes</li>\n",
       "\t<li>yes</li>\n",
       "\t<li>yes</li>\n",
       "\t<li>yes</li>\n",
       "\t<li>yes</li>\n",
       "\t<li>yes</li>\n",
       "\t<li>no</li>\n",
       "\t<li>yes</li>\n",
       "\t<li>yes</li>\n",
       "\t<li>yes</li>\n",
       "\t<li>yes</li>\n",
       "\t<li>no</li>\n",
       "\t<li>yes</li>\n",
       "\t<li>yes</li>\n",
       "\t<li>yes</li>\n",
       "\t<li>yes</li>\n",
       "\t<li>yes</li>\n",
       "\t<li>yes</li>\n",
       "\t<li>yes</li>\n",
       "\t<li>yes</li>\n",
       "\t<li>yes</li>\n",
       "\t<li>yes</li>\n",
       "\t<li>yes</li>\n",
       "\t<li>no</li>\n",
       "\t<li>yes</li>\n",
       "\t<li>yes</li>\n",
       "\t<li>no</li>\n",
       "\t<li>yes</li>\n",
       "\t<li>yes</li>\n",
       "\t<li>no</li>\n",
       "\t<li>no</li>\n",
       "\t<li>yes</li>\n",
       "\t<li>yes</li>\n",
       "\t<li>yes</li>\n",
       "\t<li>yes</li>\n",
       "\t<li>yes</li>\n",
       "\t<li>yes</li>\n",
       "</ol>\n",
       "\n",
       "<details>\n",
       "\t<summary style=display:list-item;cursor:pointer>\n",
       "\t\t<strong>Levels</strong>:\n",
       "\t</summary>\n",
       "\t<ol class=list-inline>\n",
       "\t\t<li>'no'</li>\n",
       "\t\t<li>'yes'</li>\n",
       "\t</ol>\n",
       "</details>"
      ],
      "text/latex": [
       "\\begin{enumerate*}\n",
       "\\item yes\n",
       "\\item yes\n",
       "\\item yes\n",
       "\\item yes\n",
       "\\item yes\n",
       "\\item yes\n",
       "\\item yes\n",
       "\\item yes\n",
       "\\item yes\n",
       "\\item yes\n",
       "\\item no\n",
       "\\item yes\n",
       "\\item yes\n",
       "\\item yes\n",
       "\\item no\n",
       "\\item yes\n",
       "\\item yes\n",
       "\\item no\n",
       "\\item yes\n",
       "\\item yes\n",
       "\\item yes\n",
       "\\item yes\n",
       "\\item yes\n",
       "\\item yes\n",
       "\\item no\n",
       "\\item yes\n",
       "\\item yes\n",
       "\\item yes\n",
       "\\item yes\n",
       "\\item yes\n",
       "\\item yes\n",
       "\\item yes\n",
       "\\item no\n",
       "\\item yes\n",
       "\\item yes\n",
       "\\item yes\n",
       "\\item yes\n",
       "\\item no\n",
       "\\item yes\n",
       "\\item yes\n",
       "\\item yes\n",
       "\\item yes\n",
       "\\item yes\n",
       "\\item yes\n",
       "\\item yes\n",
       "\\item yes\n",
       "\\item yes\n",
       "\\item yes\n",
       "\\item yes\n",
       "\\item no\n",
       "\\item yes\n",
       "\\item yes\n",
       "\\item no\n",
       "\\item yes\n",
       "\\item yes\n",
       "\\item no\n",
       "\\item no\n",
       "\\item yes\n",
       "\\item yes\n",
       "\\item yes\n",
       "\\item yes\n",
       "\\item yes\n",
       "\\item yes\n",
       "\\end{enumerate*}\n",
       "\n",
       "\\emph{Levels}: \\begin{enumerate*}\n",
       "\\item 'no'\n",
       "\\item 'yes'\n",
       "\\end{enumerate*}\n"
      ],
      "text/markdown": [
       "1. yes\n",
       "2. yes\n",
       "3. yes\n",
       "4. yes\n",
       "5. yes\n",
       "6. yes\n",
       "7. yes\n",
       "8. yes\n",
       "9. yes\n",
       "10. yes\n",
       "11. no\n",
       "12. yes\n",
       "13. yes\n",
       "14. yes\n",
       "15. no\n",
       "16. yes\n",
       "17. yes\n",
       "18. no\n",
       "19. yes\n",
       "20. yes\n",
       "21. yes\n",
       "22. yes\n",
       "23. yes\n",
       "24. yes\n",
       "25. no\n",
       "26. yes\n",
       "27. yes\n",
       "28. yes\n",
       "29. yes\n",
       "30. yes\n",
       "31. yes\n",
       "32. yes\n",
       "33. no\n",
       "34. yes\n",
       "35. yes\n",
       "36. yes\n",
       "37. yes\n",
       "38. no\n",
       "39. yes\n",
       "40. yes\n",
       "41. yes\n",
       "42. yes\n",
       "43. yes\n",
       "44. yes\n",
       "45. yes\n",
       "46. yes\n",
       "47. yes\n",
       "48. yes\n",
       "49. yes\n",
       "50. no\n",
       "51. yes\n",
       "52. yes\n",
       "53. no\n",
       "54. yes\n",
       "55. yes\n",
       "56. no\n",
       "57. no\n",
       "58. yes\n",
       "59. yes\n",
       "60. yes\n",
       "61. yes\n",
       "62. yes\n",
       "63. yes\n",
       "\n",
       "\n",
       "\n",
       "**Levels**: 1. 'no'\n",
       "2. 'yes'\n",
       "\n",
       "\n"
      ],
      "text/plain": [
       " [1] yes yes yes yes yes yes yes yes yes yes no  yes yes yes no  yes yes no  yes\n",
       "[20] yes yes yes yes yes no  yes yes yes yes yes yes yes no  yes yes yes yes no \n",
       "[39] yes yes yes yes yes yes yes yes yes yes yes no  yes yes no  yes yes no  no \n",
       "[58] yes yes yes yes yes yes\n",
       "Levels: no yes"
      ]
     },
     "metadata": {},
     "output_type": "display_data"
    }
   ],
   "source": [
    "\n",
    "predict(FinalModel, newdata = test)\n"
   ]
  },
  {
   "cell_type": "code",
   "execution_count": 26,
   "id": "bd6a6c28",
   "metadata": {},
   "outputs": [
    {
     "data": {
      "text/html": [
       "<ol class=list-inline>\n",
       "\t<li>yes</li>\n",
       "\t<li>yes</li>\n",
       "\t<li>yes</li>\n",
       "\t<li>no</li>\n",
       "\t<li>yes</li>\n",
       "\t<li>yes</li>\n",
       "</ol>\n",
       "\n",
       "<details>\n",
       "\t<summary style=display:list-item;cursor:pointer>\n",
       "\t\t<strong>Levels</strong>:\n",
       "\t</summary>\n",
       "\t<ol class=list-inline>\n",
       "\t\t<li>'no'</li>\n",
       "\t\t<li>'yes'</li>\n",
       "\t</ol>\n",
       "</details>"
      ],
      "text/latex": [
       "\\begin{enumerate*}\n",
       "\\item yes\n",
       "\\item yes\n",
       "\\item yes\n",
       "\\item no\n",
       "\\item yes\n",
       "\\item yes\n",
       "\\end{enumerate*}\n",
       "\n",
       "\\emph{Levels}: \\begin{enumerate*}\n",
       "\\item 'no'\n",
       "\\item 'yes'\n",
       "\\end{enumerate*}\n"
      ],
      "text/markdown": [
       "1. yes\n",
       "2. yes\n",
       "3. yes\n",
       "4. no\n",
       "5. yes\n",
       "6. yes\n",
       "\n",
       "\n",
       "\n",
       "**Levels**: 1. 'no'\n",
       "2. 'yes'\n",
       "\n",
       "\n"
      ],
      "text/plain": [
       "[1] yes yes yes no  yes yes\n",
       "Levels: no yes"
      ]
     },
     "metadata": {},
     "output_type": "display_data"
    }
   ],
   "source": [
    "predict(FinalModel, newdata = head(test))\n"
   ]
  },
  {
   "cell_type": "code",
   "execution_count": 27,
   "id": "d1846bbd",
   "metadata": {},
   "outputs": [
    {
     "data": {
      "text/html": [
       "<table>\n",
       "<thead><tr><th scope=col>no</th><th scope=col>yes</th></tr></thead>\n",
       "<tbody>\n",
       "\t<tr><td>0.375</td><td>0.625</td></tr>\n",
       "\t<tr><td>0.125</td><td>0.875</td></tr>\n",
       "\t<tr><td>0.250</td><td>0.750</td></tr>\n",
       "\t<tr><td>0.500</td><td>0.500</td></tr>\n",
       "\t<tr><td>0.125</td><td>0.875</td></tr>\n",
       "\t<tr><td>0.500</td><td>0.500</td></tr>\n",
       "</tbody>\n",
       "</table>\n"
      ],
      "text/latex": [
       "\\begin{tabular}{r|ll}\n",
       " no & yes\\\\\n",
       "\\hline\n",
       "\t 0.375 & 0.625\\\\\n",
       "\t 0.125 & 0.875\\\\\n",
       "\t 0.250 & 0.750\\\\\n",
       "\t 0.500 & 0.500\\\\\n",
       "\t 0.125 & 0.875\\\\\n",
       "\t 0.500 & 0.500\\\\\n",
       "\\end{tabular}\n"
      ],
      "text/markdown": [
       "\n",
       "| no | yes |\n",
       "|---|---|\n",
       "| 0.375 | 0.625 |\n",
       "| 0.125 | 0.875 |\n",
       "| 0.250 | 0.750 |\n",
       "| 0.500 | 0.500 |\n",
       "| 0.125 | 0.875 |\n",
       "| 0.500 | 0.500 |\n",
       "\n"
      ],
      "text/plain": [
       "  no    yes  \n",
       "1 0.375 0.625\n",
       "2 0.125 0.875\n",
       "3 0.250 0.750\n",
       "4 0.500 0.500\n",
       "5 0.125 0.875\n",
       "6 0.500 0.500"
      ]
     },
     "metadata": {},
     "output_type": "display_data"
    }
   ],
   "source": [
    "predict(FinalModel, newdata =  head(test), type = \"prob\")\n"
   ]
  },
  {
   "cell_type": "code",
   "execution_count": null,
   "id": "1957386e",
   "metadata": {},
   "outputs": [],
   "source": []
  }
 ],
 "metadata": {
  "kernelspec": {
   "display_name": "R",
   "language": "R",
   "name": "ir"
  },
  "language_info": {
   "codemirror_mode": "r",
   "file_extension": ".r",
   "mimetype": "text/x-r-source",
   "name": "R",
   "pygments_lexer": "r",
   "version": "3.6.1"
  },
  "toc": {
   "base_numbering": 1,
   "nav_menu": {},
   "number_sections": true,
   "sideBar": true,
   "skip_h1_title": false,
   "title_cell": "Table of Contents",
   "title_sidebar": "Contents",
   "toc_cell": false,
   "toc_position": {},
   "toc_section_display": true,
   "toc_window_display": false
  }
 },
 "nbformat": 4,
 "nbformat_minor": 5
}
