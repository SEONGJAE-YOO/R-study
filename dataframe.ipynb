{
 "cells": [
  {
   "cell_type": "code",
   "execution_count": 1,
   "id": "474fc9e5",
   "metadata": {},
   "outputs": [],
   "source": [
    "f<-array(1:24, c(3,3,2))\n",
    "dimnames(f)<-list(c(\"1\", \"2\", \"3\"), c(\"A\", \"B\", \"C\"), c(\"ARR1\", \"ARR2\"))\n",
    "dimnames(f)<-list(paste(\"ROW\", c(1:3)),paste(\"COL\",c(1:3)),paste(\"ARR\",c(1:2)))"
   ]
  },
  {
   "cell_type": "code",
   "execution_count": 3,
   "id": "d250f455",
   "metadata": {},
   "outputs": [
    {
     "data": {
      "text/html": [
       "<ol>\n",
       "\t<li>'top'</li>\n",
       "\t<li><ol class=list-inline>\n",
       "\t<li>2</li>\n",
       "\t<li>4</li>\n",
       "\t<li>6</li>\n",
       "</ol>\n",
       "</li>\n",
       "\t<li><ol class=list-inline>\n",
       "\t<li>TRUE</li>\n",
       "\t<li>FALSE</li>\n",
       "\t<li>TRUE</li>\n",
       "</ol>\n",
       "</li>\n",
       "</ol>\n"
      ],
      "text/latex": [
       "\\begin{enumerate}\n",
       "\\item 'top'\n",
       "\\item \\begin{enumerate*}\n",
       "\\item 2\n",
       "\\item 4\n",
       "\\item 6\n",
       "\\end{enumerate*}\n",
       "\n",
       "\\item \\begin{enumerate*}\n",
       "\\item TRUE\n",
       "\\item FALSE\n",
       "\\item TRUE\n",
       "\\end{enumerate*}\n",
       "\n",
       "\\end{enumerate}\n"
      ],
      "text/markdown": [
       "1. 'top'\n",
       "2. 1. 2\n",
       "2. 4\n",
       "3. 6\n",
       "\n",
       "\n",
       "\n",
       "3. 1. TRUE\n",
       "2. FALSE\n",
       "3. TRUE\n",
       "\n",
       "\n",
       "\n",
       "\n",
       "\n"
      ],
      "text/plain": [
       "[[1]]\n",
       "[1] \"top\"\n",
       "\n",
       "[[2]]\n",
       "[1] 2 4 6\n",
       "\n",
       "[[3]]\n",
       "[1]  TRUE FALSE  TRUE\n"
      ]
     },
     "metadata": {},
     "output_type": "display_data"
    }
   ],
   "source": [
    "a<-list(\"top\", c(2,4,6), c(T,F,T))\n",
    "a"
   ]
  },
  {
   "cell_type": "markdown",
   "id": "bc144390",
   "metadata": {},
   "source": [
    "# 데이터프레임 "
   ]
  },
  {
   "cell_type": "code",
   "execution_count": 5,
   "id": "834d549f",
   "metadata": {},
   "outputs": [
    {
     "data": {
      "text/html": [
       "<table>\n",
       "<thead><tr><th scope=col>name</th><th scope=col>gender</th><th scope=col>math</th><th scope=col>english</th><th scope=col>korean</th><th scope=col>attend</th></tr></thead>\n",
       "<tbody>\n",
       "\t<tr><td>KIM  </td><td>M    </td><td>100  </td><td> 80  </td><td> 50  </td><td> TRUE</td></tr>\n",
       "\t<tr><td>LEE  </td><td>F    </td><td> 80  </td><td>100  </td><td> 70  </td><td>FALSE</td></tr>\n",
       "\t<tr><td>HAN  </td><td>M    </td><td> 75  </td><td> 60  </td><td> 80  </td><td> TRUE</td></tr>\n",
       "\t<tr><td>SHIN </td><td>M    </td><td> 95  </td><td> 70  </td><td>100  </td><td> TRUE</td></tr>\n",
       "\t<tr><td>PARK </td><td>F    </td><td> 65  </td><td> 80  </td><td>100  </td><td>FALSE</td></tr>\n",
       "</tbody>\n",
       "</table>\n"
      ],
      "text/latex": [
       "\\begin{tabular}{r|llllll}\n",
       " name & gender & math & english & korean & attend\\\\\n",
       "\\hline\n",
       "\t KIM   & M     & 100   &  80   &  50   &  TRUE\\\\\n",
       "\t LEE   & F     &  80   & 100   &  70   & FALSE\\\\\n",
       "\t HAN   & M     &  75   &  60   &  80   &  TRUE\\\\\n",
       "\t SHIN  & M     &  95   &  70   & 100   &  TRUE\\\\\n",
       "\t PARK  & F     &  65   &  80   & 100   & FALSE\\\\\n",
       "\\end{tabular}\n"
      ],
      "text/markdown": [
       "\n",
       "| name | gender | math | english | korean | attend |\n",
       "|---|---|---|---|---|---|\n",
       "| KIM   | M     | 100   |  80   |  50   |  TRUE |\n",
       "| LEE   | F     |  80   | 100   |  70   | FALSE |\n",
       "| HAN   | M     |  75   |  60   |  80   |  TRUE |\n",
       "| SHIN  | M     |  95   |  70   | 100   |  TRUE |\n",
       "| PARK  | F     |  65   |  80   | 100   | FALSE |\n",
       "\n"
      ],
      "text/plain": [
       "  name gender math english korean attend\n",
       "1 KIM  M      100   80      50     TRUE \n",
       "2 LEE  F       80  100      70    FALSE \n",
       "3 HAN  M       75   60      80     TRUE \n",
       "4 SHIN M       95   70     100     TRUE \n",
       "5 PARK F       65   80     100    FALSE "
      ]
     },
     "metadata": {},
     "output_type": "display_data"
    }
   ],
   "source": [
    "name<-c(\"KIM\", \"LEE\", \"HAN\", \"SHIN\", \"PARK\")\n",
    "gender<-as.factor(c(\"M\", \"F\", \"M\", \"M\", \"F\"))\n",
    "math<-c(100, 80, 75, 95, 65)\n",
    "english<-c(80, 100, 60, 70, 80)\n",
    "korean<-c(50, 70, 80, 100, 100)\n",
    "attend<-c(T, F, T, T, F)\n",
    "a<-data.frame(name, gender, math, english, korean, attend, stringsAsFactors=T)\n",
    "a"
   ]
  },
  {
   "cell_type": "code",
   "execution_count": 10,
   "id": "d1bfa6cc",
   "metadata": {},
   "outputs": [
    {
     "data": {
      "text/html": [
       "<table>\n",
       "<thead><tr><th scope=col>name</th><th scope=col>gender</th><th scope=col>math</th><th scope=col>english</th><th scope=col>korean</th><th scope=col>attend</th></tr></thead>\n",
       "<tbody>\n",
       "\t<tr><td>JANG </td><td>M    </td><td>100  </td><td> 80  </td><td>50   </td><td> TRUE</td></tr>\n",
       "\t<tr><td>JEONG</td><td>F    </td><td> 80  </td><td>100  </td><td>70   </td><td>FALSE</td></tr>\n",
       "</tbody>\n",
       "</table>\n"
      ],
      "text/latex": [
       "\\begin{tabular}{r|llllll}\n",
       " name & gender & math & english & korean & attend\\\\\n",
       "\\hline\n",
       "\t JANG  & M     & 100   &  80   & 50    &  TRUE\\\\\n",
       "\t JEONG & F     &  80   & 100   & 70    & FALSE\\\\\n",
       "\\end{tabular}\n"
      ],
      "text/markdown": [
       "\n",
       "| name | gender | math | english | korean | attend |\n",
       "|---|---|---|---|---|---|\n",
       "| JANG  | M     | 100   |  80   | 50    |  TRUE |\n",
       "| JEONG | F     |  80   | 100   | 70    | FALSE |\n",
       "\n"
      ],
      "text/plain": [
       "  name  gender math english korean attend\n",
       "1 JANG  M      100   80     50      TRUE \n",
       "2 JEONG F       80  100     70     FALSE "
      ]
     },
     "metadata": {},
     "output_type": "display_data"
    }
   ],
   "source": [
    "name<-c(\"JANG\", \"JEONG\")\n",
    "gender<-as.factor(c(\"M\", \"F\"))\n",
    "math<-c(100, 80)\n",
    "english<-c(80, 100)\n",
    "korean<-c(50, 70)\n",
    "attend<-c(T, F)\n",
    "b<-data.frame(name, gender, math, english, korean, attend,stringsAsFactors=T)\n",
    "b"
   ]
  },
  {
   "cell_type": "code",
   "execution_count": 11,
   "id": "9e80ae80",
   "metadata": {},
   "outputs": [],
   "source": [
    "c<-rbind(a, b) # 행끼리 합치기\n"
   ]
  },
  {
   "cell_type": "code",
   "execution_count": 12,
   "id": "927bc26b",
   "metadata": {},
   "outputs": [
    {
     "data": {
      "text/html": [
       "<table>\n",
       "<thead><tr><th scope=col>name</th><th scope=col>gender</th><th scope=col>math</th><th scope=col>english</th><th scope=col>korean</th><th scope=col>attend</th></tr></thead>\n",
       "<tbody>\n",
       "\t<tr><td>KIM  </td><td>M    </td><td>100  </td><td> 80  </td><td> 50  </td><td> TRUE</td></tr>\n",
       "\t<tr><td>LEE  </td><td>F    </td><td> 80  </td><td>100  </td><td> 70  </td><td>FALSE</td></tr>\n",
       "\t<tr><td>HAN  </td><td>M    </td><td> 75  </td><td> 60  </td><td> 80  </td><td> TRUE</td></tr>\n",
       "\t<tr><td>SHIN </td><td>M    </td><td> 95  </td><td> 70  </td><td>100  </td><td> TRUE</td></tr>\n",
       "\t<tr><td>PARK </td><td>F    </td><td> 65  </td><td> 80  </td><td>100  </td><td>FALSE</td></tr>\n",
       "\t<tr><td>JANG </td><td>M    </td><td>100  </td><td> 80  </td><td> 50  </td><td> TRUE</td></tr>\n",
       "\t<tr><td>JEONG</td><td>F    </td><td> 80  </td><td>100  </td><td> 70  </td><td>FALSE</td></tr>\n",
       "</tbody>\n",
       "</table>\n"
      ],
      "text/latex": [
       "\\begin{tabular}{r|llllll}\n",
       " name & gender & math & english & korean & attend\\\\\n",
       "\\hline\n",
       "\t KIM   & M     & 100   &  80   &  50   &  TRUE\\\\\n",
       "\t LEE   & F     &  80   & 100   &  70   & FALSE\\\\\n",
       "\t HAN   & M     &  75   &  60   &  80   &  TRUE\\\\\n",
       "\t SHIN  & M     &  95   &  70   & 100   &  TRUE\\\\\n",
       "\t PARK  & F     &  65   &  80   & 100   & FALSE\\\\\n",
       "\t JANG  & M     & 100   &  80   &  50   &  TRUE\\\\\n",
       "\t JEONG & F     &  80   & 100   &  70   & FALSE\\\\\n",
       "\\end{tabular}\n"
      ],
      "text/markdown": [
       "\n",
       "| name | gender | math | english | korean | attend |\n",
       "|---|---|---|---|---|---|\n",
       "| KIM   | M     | 100   |  80   |  50   |  TRUE |\n",
       "| LEE   | F     |  80   | 100   |  70   | FALSE |\n",
       "| HAN   | M     |  75   |  60   |  80   |  TRUE |\n",
       "| SHIN  | M     |  95   |  70   | 100   |  TRUE |\n",
       "| PARK  | F     |  65   |  80   | 100   | FALSE |\n",
       "| JANG  | M     | 100   |  80   |  50   |  TRUE |\n",
       "| JEONG | F     |  80   | 100   |  70   | FALSE |\n",
       "\n"
      ],
      "text/plain": [
       "  name  gender math english korean attend\n",
       "1 KIM   M      100   80      50     TRUE \n",
       "2 LEE   F       80  100      70    FALSE \n",
       "3 HAN   M       75   60      80     TRUE \n",
       "4 SHIN  M       95   70     100     TRUE \n",
       "5 PARK  F       65   80     100    FALSE \n",
       "6 JANG  M      100   80      50     TRUE \n",
       "7 JEONG F       80  100      70    FALSE "
      ]
     },
     "metadata": {},
     "output_type": "display_data"
    }
   ],
   "source": [
    "c"
   ]
  },
  {
   "cell_type": "code",
   "execution_count": 13,
   "id": "f62f3eca",
   "metadata": {},
   "outputs": [
    {
     "data": {
      "text/html": [
       "<table>\n",
       "<thead><tr><th scope=col>name</th><th scope=col>gender</th><th scope=col>math</th><th scope=col>english</th><th scope=col>korean</th><th scope=col>attend</th><th scope=col>social</th><th scope=col>science</th></tr></thead>\n",
       "<tbody>\n",
       "\t<tr><td>KIM  </td><td>M    </td><td>100  </td><td> 80  </td><td> 50  </td><td> TRUE</td><td>100  </td><td> 80  </td></tr>\n",
       "\t<tr><td>LEE  </td><td>F    </td><td> 80  </td><td>100  </td><td> 70  </td><td>FALSE</td><td> 80  </td><td> 55  </td></tr>\n",
       "\t<tr><td>HAN  </td><td>M    </td><td> 75  </td><td> 60  </td><td> 80  </td><td> TRUE</td><td> 50  </td><td> 75  </td></tr>\n",
       "\t<tr><td>SHIN </td><td>M    </td><td> 95  </td><td> 70  </td><td>100  </td><td> TRUE</td><td> 65  </td><td> 60  </td></tr>\n",
       "\t<tr><td>PARK </td><td>F    </td><td> 65  </td><td> 80  </td><td>100  </td><td>FALSE</td><td> 70  </td><td>100  </td></tr>\n",
       "</tbody>\n",
       "</table>\n"
      ],
      "text/latex": [
       "\\begin{tabular}{r|llllllll}\n",
       " name & gender & math & english & korean & attend & social & science\\\\\n",
       "\\hline\n",
       "\t KIM   & M     & 100   &  80   &  50   &  TRUE & 100   &  80  \\\\\n",
       "\t LEE   & F     &  80   & 100   &  70   & FALSE &  80   &  55  \\\\\n",
       "\t HAN   & M     &  75   &  60   &  80   &  TRUE &  50   &  75  \\\\\n",
       "\t SHIN  & M     &  95   &  70   & 100   &  TRUE &  65   &  60  \\\\\n",
       "\t PARK  & F     &  65   &  80   & 100   & FALSE &  70   & 100  \\\\\n",
       "\\end{tabular}\n"
      ],
      "text/markdown": [
       "\n",
       "| name | gender | math | english | korean | attend | social | science |\n",
       "|---|---|---|---|---|---|---|---|\n",
       "| KIM   | M     | 100   |  80   |  50   |  TRUE | 100   |  80   |\n",
       "| LEE   | F     |  80   | 100   |  70   | FALSE |  80   |  55   |\n",
       "| HAN   | M     |  75   |  60   |  80   |  TRUE |  50   |  75   |\n",
       "| SHIN  | M     |  95   |  70   | 100   |  TRUE |  65   |  60   |\n",
       "| PARK  | F     |  65   |  80   | 100   | FALSE |  70   | 100   |\n",
       "\n"
      ],
      "text/plain": [
       "  name gender math english korean attend social science\n",
       "1 KIM  M      100   80      50     TRUE  100     80    \n",
       "2 LEE  F       80  100      70    FALSE   80     55    \n",
       "3 HAN  M       75   60      80     TRUE   50     75    \n",
       "4 SHIN M       95   70     100     TRUE   65     60    \n",
       "5 PARK F       65   80     100    FALSE   70    100    "
      ]
     },
     "metadata": {},
     "output_type": "display_data"
    }
   ],
   "source": [
    "\n",
    "social<-c(100, 80, 50, 65, 70)\n",
    "science<-c(80, 55, 75, 60, 100)\n",
    "d<-cbind(a, social, science) # 열끼리 합치기\n",
    "d"
   ]
  },
  {
   "cell_type": "code",
   "execution_count": 15,
   "id": "802a10d0",
   "metadata": {},
   "outputs": [
    {
     "data": {
      "text/html": [
       "<table>\n",
       "<thead><tr><th scope=col>name</th><th scope=col>gender</th><th scope=col>math</th><th scope=col>english</th><th scope=col>korean</th><th scope=col>attend</th><th scope=col>social</th><th scope=col>science</th></tr></thead>\n",
       "<tbody>\n",
       "\t<tr><td>KIM  </td><td>M    </td><td>100  </td><td> 80  </td><td> 50  </td><td> TRUE</td><td>100  </td><td> 80  </td></tr>\n",
       "\t<tr><td>LEE  </td><td>F    </td><td> 80  </td><td>100  </td><td> 70  </td><td>FALSE</td><td> 80  </td><td> 55  </td></tr>\n",
       "\t<tr><td>HAN  </td><td>M    </td><td> 75  </td><td> 60  </td><td> 80  </td><td> TRUE</td><td> 50  </td><td> 75  </td></tr>\n",
       "\t<tr><td>SHIN </td><td>M    </td><td> 95  </td><td> 70  </td><td>100  </td><td> TRUE</td><td> 65  </td><td> 60  </td></tr>\n",
       "\t<tr><td>PARK </td><td>F    </td><td> 65  </td><td> 80  </td><td>100  </td><td>FALSE</td><td> 70  </td><td>100  </td></tr>\n",
       "</tbody>\n",
       "</table>\n"
      ],
      "text/latex": [
       "\\begin{tabular}{r|llllllll}\n",
       " name & gender & math & english & korean & attend & social & science\\\\\n",
       "\\hline\n",
       "\t KIM   & M     & 100   &  80   &  50   &  TRUE & 100   &  80  \\\\\n",
       "\t LEE   & F     &  80   & 100   &  70   & FALSE &  80   &  55  \\\\\n",
       "\t HAN   & M     &  75   &  60   &  80   &  TRUE &  50   &  75  \\\\\n",
       "\t SHIN  & M     &  95   &  70   & 100   &  TRUE &  65   &  60  \\\\\n",
       "\t PARK  & F     &  65   &  80   & 100   & FALSE &  70   & 100  \\\\\n",
       "\\end{tabular}\n"
      ],
      "text/markdown": [
       "\n",
       "| name | gender | math | english | korean | attend | social | science |\n",
       "|---|---|---|---|---|---|---|---|\n",
       "| KIM   | M     | 100   |  80   |  50   |  TRUE | 100   |  80   |\n",
       "| LEE   | F     |  80   | 100   |  70   | FALSE |  80   |  55   |\n",
       "| HAN   | M     |  75   |  60   |  80   |  TRUE |  50   |  75   |\n",
       "| SHIN  | M     |  95   |  70   | 100   |  TRUE |  65   |  60   |\n",
       "| PARK  | F     |  65   |  80   | 100   | FALSE |  70   | 100   |\n",
       "\n"
      ],
      "text/plain": [
       "  name gender math english korean attend social science\n",
       "1 KIM  M      100   80      50     TRUE  100     80    \n",
       "2 LEE  F       80  100      70    FALSE   80     55    \n",
       "3 HAN  M       75   60      80     TRUE   50     75    \n",
       "4 SHIN M       95   70     100     TRUE   65     60    \n",
       "5 PARK F       65   80     100    FALSE   70    100    "
      ]
     },
     "metadata": {},
     "output_type": "display_data"
    }
   ],
   "source": [
    "e<-transform(a, social=c(100, 80, 50, 65, 70), science=c(80, 55, 75, 60, 100))\n",
    "e # 열끼리 데이터프레임 합치기"
   ]
  },
  {
   "cell_type": "markdown",
   "id": "91e584d0",
   "metadata": {},
   "source": [
    "# merge으로 데이터프레임 합치기"
   ]
  },
  {
   "cell_type": "code",
   "execution_count": 16,
   "id": "9b5e71be",
   "metadata": {},
   "outputs": [],
   "source": [
    "name<-c(\"LEE\", \"KIM\", \"HAN\", \"SHIN\", \"PARK\")\n",
    "japanese<-c(100, 60, 70, 20, 50)\n",
    "f<-data.frame(name, japanese)\n",
    "g<-merge(a, f, key=\"name\")"
   ]
  },
  {
   "cell_type": "code",
   "execution_count": 33,
   "id": "14e23cec",
   "metadata": {},
   "outputs": [
    {
     "data": {
      "text/html": [
       "<table>\n",
       "<thead><tr><th scope=col>name</th><th scope=col>gender</th><th scope=col>math</th><th scope=col>english</th><th scope=col>korean</th><th scope=col>attend</th><th scope=col>japanese</th></tr></thead>\n",
       "<tbody>\n",
       "\t<tr><td>HAN  </td><td>M    </td><td> 75  </td><td> 60  </td><td> 80  </td><td> TRUE</td><td> 70  </td></tr>\n",
       "\t<tr><td>KIM  </td><td>M    </td><td>100  </td><td> 80  </td><td> 50  </td><td> TRUE</td><td> 60  </td></tr>\n",
       "\t<tr><td>LEE  </td><td>F    </td><td> 80  </td><td>100  </td><td> 70  </td><td>FALSE</td><td>100  </td></tr>\n",
       "\t<tr><td>PARK </td><td>F    </td><td> 65  </td><td> 80  </td><td>100  </td><td>FALSE</td><td> 50  </td></tr>\n",
       "\t<tr><td>SHIN </td><td>M    </td><td> 95  </td><td> 70  </td><td>100  </td><td> TRUE</td><td> 20  </td></tr>\n",
       "</tbody>\n",
       "</table>\n"
      ],
      "text/latex": [
       "\\begin{tabular}{r|lllllll}\n",
       " name & gender & math & english & korean & attend & japanese\\\\\n",
       "\\hline\n",
       "\t HAN   & M     &  75   &  60   &  80   &  TRUE &  70  \\\\\n",
       "\t KIM   & M     & 100   &  80   &  50   &  TRUE &  60  \\\\\n",
       "\t LEE   & F     &  80   & 100   &  70   & FALSE & 100  \\\\\n",
       "\t PARK  & F     &  65   &  80   & 100   & FALSE &  50  \\\\\n",
       "\t SHIN  & M     &  95   &  70   & 100   &  TRUE &  20  \\\\\n",
       "\\end{tabular}\n"
      ],
      "text/markdown": [
       "\n",
       "| name | gender | math | english | korean | attend | japanese |\n",
       "|---|---|---|---|---|---|---|\n",
       "| HAN   | M     |  75   |  60   |  80   |  TRUE |  70   |\n",
       "| KIM   | M     | 100   |  80   |  50   |  TRUE |  60   |\n",
       "| LEE   | F     |  80   | 100   |  70   | FALSE | 100   |\n",
       "| PARK  | F     |  65   |  80   | 100   | FALSE |  50   |\n",
       "| SHIN  | M     |  95   |  70   | 100   |  TRUE |  20   |\n",
       "\n"
      ],
      "text/plain": [
       "  name gender math english korean attend japanese\n",
       "1 HAN  M       75   60      80     TRUE   70     \n",
       "2 KIM  M      100   80      50     TRUE   60     \n",
       "3 LEE  F       80  100      70    FALSE  100     \n",
       "4 PARK F       65   80     100    FALSE   50     \n",
       "5 SHIN M       95   70     100     TRUE   20     "
      ]
     },
     "metadata": {},
     "output_type": "display_data"
    }
   ],
   "source": [
    "g"
   ]
  },
  {
   "cell_type": "markdown",
   "id": "c65f6a22",
   "metadata": {},
   "source": [
    "# 데이터프레임 특정 열 찾기"
   ]
  },
  {
   "cell_type": "code",
   "execution_count": 19,
   "id": "0acdafc2",
   "metadata": {},
   "outputs": [
    {
     "data": {
      "text/html": [
       "<table>\n",
       "<thead><tr><th scope=col>name</th><th scope=col>gender</th></tr></thead>\n",
       "<tbody>\n",
       "\t<tr><td>HAN </td><td>M   </td></tr>\n",
       "\t<tr><td>KIM </td><td>M   </td></tr>\n",
       "\t<tr><td>LEE </td><td>F   </td></tr>\n",
       "\t<tr><td>PARK</td><td>F   </td></tr>\n",
       "\t<tr><td>SHIN</td><td>M   </td></tr>\n",
       "</tbody>\n",
       "</table>\n"
      ],
      "text/latex": [
       "\\begin{tabular}{r|ll}\n",
       " name & gender\\\\\n",
       "\\hline\n",
       "\t HAN  & M   \\\\\n",
       "\t KIM  & M   \\\\\n",
       "\t LEE  & F   \\\\\n",
       "\t PARK & F   \\\\\n",
       "\t SHIN & M   \\\\\n",
       "\\end{tabular}\n"
      ],
      "text/markdown": [
       "\n",
       "| name | gender |\n",
       "|---|---|\n",
       "| HAN  | M    |\n",
       "| KIM  | M    |\n",
       "| LEE  | F    |\n",
       "| PARK | F    |\n",
       "| SHIN | M    |\n",
       "\n"
      ],
      "text/plain": [
       "  name gender\n",
       "1 HAN  M     \n",
       "2 KIM  M     \n",
       "3 LEE  F     \n",
       "4 PARK F     \n",
       "5 SHIN M     "
      ]
     },
     "metadata": {},
     "output_type": "display_data"
    }
   ],
   "source": [
    "g[,1:2]"
   ]
  },
  {
   "cell_type": "code",
   "execution_count": 20,
   "id": "c576340f",
   "metadata": {},
   "outputs": [
    {
     "data": {
      "text/html": [
       "<table>\n",
       "<thead><tr><th></th><th scope=col>name</th><th scope=col>gender</th><th scope=col>math</th><th scope=col>english</th><th scope=col>korean</th><th scope=col>attend</th><th scope=col>japanese</th></tr></thead>\n",
       "<tbody>\n",
       "\t<tr><th scope=row>2</th><td>KIM  </td><td>M    </td><td>100  </td><td> 80  </td><td>50   </td><td> TRUE</td><td> 60  </td></tr>\n",
       "\t<tr><th scope=row>3</th><td>LEE  </td><td>F    </td><td> 80  </td><td>100  </td><td>70   </td><td>FALSE</td><td>100  </td></tr>\n",
       "</tbody>\n",
       "</table>\n"
      ],
      "text/latex": [
       "\\begin{tabular}{r|lllllll}\n",
       "  & name & gender & math & english & korean & attend & japanese\\\\\n",
       "\\hline\n",
       "\t2 & KIM   & M     & 100   &  80   & 50    &  TRUE &  60  \\\\\n",
       "\t3 & LEE   & F     &  80   & 100   & 70    & FALSE & 100  \\\\\n",
       "\\end{tabular}\n"
      ],
      "text/markdown": [
       "\n",
       "| <!--/--> | name | gender | math | english | korean | attend | japanese |\n",
       "|---|---|---|---|---|---|---|---|\n",
       "| 2 | KIM   | M     | 100   |  80   | 50    |  TRUE |  60   |\n",
       "| 3 | LEE   | F     |  80   | 100   | 70    | FALSE | 100   |\n",
       "\n"
      ],
      "text/plain": [
       "  name gender math english korean attend japanese\n",
       "2 KIM  M      100   80     50      TRUE   60     \n",
       "3 LEE  F       80  100     70     FALSE  100     "
      ]
     },
     "metadata": {},
     "output_type": "display_data"
    }
   ],
   "source": [
    "g[2:3,]"
   ]
  },
  {
   "cell_type": "code",
   "execution_count": 21,
   "id": "29dd6d1d",
   "metadata": {},
   "outputs": [
    {
     "data": {
      "text/html": [
       "<table>\n",
       "<thead><tr><th scope=col>gender</th><th scope=col>math</th></tr></thead>\n",
       "<tbody>\n",
       "\t<tr><td>M  </td><td> 75</td></tr>\n",
       "\t<tr><td>M  </td><td>100</td></tr>\n",
       "\t<tr><td>F  </td><td> 80</td></tr>\n",
       "</tbody>\n",
       "</table>\n"
      ],
      "text/latex": [
       "\\begin{tabular}{r|ll}\n",
       " gender & math\\\\\n",
       "\\hline\n",
       "\t M   &  75\\\\\n",
       "\t M   & 100\\\\\n",
       "\t F   &  80\\\\\n",
       "\\end{tabular}\n"
      ],
      "text/markdown": [
       "\n",
       "| gender | math |\n",
       "|---|---|\n",
       "| M   |  75 |\n",
       "| M   | 100 |\n",
       "| F   |  80 |\n",
       "\n"
      ],
      "text/plain": [
       "  gender math\n",
       "1 M       75 \n",
       "2 M      100 \n",
       "3 F       80 "
      ]
     },
     "metadata": {},
     "output_type": "display_data"
    }
   ],
   "source": [
    "g[1:3,2:3]"
   ]
  },
  {
   "cell_type": "code",
   "execution_count": 22,
   "id": "6c1586ec",
   "metadata": {},
   "outputs": [
    {
     "data": {
      "text/html": [
       "<table>\n",
       "<thead><tr><th scope=col>gender</th><th scope=col>math</th><th scope=col>english</th><th scope=col>korean</th><th scope=col>attend</th><th scope=col>japanese</th></tr></thead>\n",
       "<tbody>\n",
       "\t<tr><td>M    </td><td> 75  </td><td> 60  </td><td> 80  </td><td> TRUE</td><td> 70  </td></tr>\n",
       "\t<tr><td>M    </td><td>100  </td><td> 80  </td><td> 50  </td><td> TRUE</td><td> 60  </td></tr>\n",
       "\t<tr><td>F    </td><td> 80  </td><td>100  </td><td> 70  </td><td>FALSE</td><td>100  </td></tr>\n",
       "\t<tr><td>F    </td><td> 65  </td><td> 80  </td><td>100  </td><td>FALSE</td><td> 50  </td></tr>\n",
       "\t<tr><td>M    </td><td> 95  </td><td> 70  </td><td>100  </td><td> TRUE</td><td> 20  </td></tr>\n",
       "</tbody>\n",
       "</table>\n"
      ],
      "text/latex": [
       "\\begin{tabular}{r|llllll}\n",
       " gender & math & english & korean & attend & japanese\\\\\n",
       "\\hline\n",
       "\t M     &  75   &  60   &  80   &  TRUE &  70  \\\\\n",
       "\t M     & 100   &  80   &  50   &  TRUE &  60  \\\\\n",
       "\t F     &  80   & 100   &  70   & FALSE & 100  \\\\\n",
       "\t F     &  65   &  80   & 100   & FALSE &  50  \\\\\n",
       "\t M     &  95   &  70   & 100   &  TRUE &  20  \\\\\n",
       "\\end{tabular}\n"
      ],
      "text/markdown": [
       "\n",
       "| gender | math | english | korean | attend | japanese |\n",
       "|---|---|---|---|---|---|\n",
       "| M     |  75   |  60   |  80   |  TRUE |  70   |\n",
       "| M     | 100   |  80   |  50   |  TRUE |  60   |\n",
       "| F     |  80   | 100   |  70   | FALSE | 100   |\n",
       "| F     |  65   |  80   | 100   | FALSE |  50   |\n",
       "| M     |  95   |  70   | 100   |  TRUE |  20   |\n",
       "\n"
      ],
      "text/plain": [
       "  gender math english korean attend japanese\n",
       "1 M       75   60      80     TRUE   70     \n",
       "2 M      100   80      50     TRUE   60     \n",
       "3 F       80  100      70    FALSE  100     \n",
       "4 F       65   80     100    FALSE   50     \n",
       "5 M       95   70     100     TRUE   20     "
      ]
     },
     "metadata": {},
     "output_type": "display_data"
    }
   ],
   "source": [
    "g[-1] #첫번째 열만 제외하기"
   ]
  },
  {
   "cell_type": "code",
   "execution_count": 26,
   "id": "df61717c",
   "metadata": {},
   "outputs": [
    {
     "data": {
      "text/html": [
       "<table>\n",
       "<thead><tr><th></th><th scope=col>name</th><th scope=col>gender</th><th scope=col>math</th><th scope=col>english</th><th scope=col>korean</th><th scope=col>attend</th><th scope=col>japanese</th></tr></thead>\n",
       "<tbody>\n",
       "\t<tr><th scope=row>2</th><td>KIM  </td><td>M    </td><td>100  </td><td> 80  </td><td> 50  </td><td> TRUE</td><td> 60  </td></tr>\n",
       "\t<tr><th scope=row>3</th><td>LEE  </td><td>F    </td><td> 80  </td><td>100  </td><td> 70  </td><td>FALSE</td><td>100  </td></tr>\n",
       "\t<tr><th scope=row>4</th><td>PARK </td><td>F    </td><td> 65  </td><td> 80  </td><td>100  </td><td>FALSE</td><td> 50  </td></tr>\n",
       "\t<tr><th scope=row>5</th><td>SHIN </td><td>M    </td><td> 95  </td><td> 70  </td><td>100  </td><td> TRUE</td><td> 20  </td></tr>\n",
       "</tbody>\n",
       "</table>\n"
      ],
      "text/latex": [
       "\\begin{tabular}{r|lllllll}\n",
       "  & name & gender & math & english & korean & attend & japanese\\\\\n",
       "\\hline\n",
       "\t2 & KIM   & M     & 100   &  80   &  50   &  TRUE &  60  \\\\\n",
       "\t3 & LEE   & F     &  80   & 100   &  70   & FALSE & 100  \\\\\n",
       "\t4 & PARK  & F     &  65   &  80   & 100   & FALSE &  50  \\\\\n",
       "\t5 & SHIN  & M     &  95   &  70   & 100   &  TRUE &  20  \\\\\n",
       "\\end{tabular}\n"
      ],
      "text/markdown": [
       "\n",
       "| <!--/--> | name | gender | math | english | korean | attend | japanese |\n",
       "|---|---|---|---|---|---|---|---|\n",
       "| 2 | KIM   | M     | 100   |  80   |  50   |  TRUE |  60   |\n",
       "| 3 | LEE   | F     |  80   | 100   |  70   | FALSE | 100   |\n",
       "| 4 | PARK  | F     |  65   |  80   | 100   | FALSE |  50   |\n",
       "| 5 | SHIN  | M     |  95   |  70   | 100   |  TRUE |  20   |\n",
       "\n"
      ],
      "text/plain": [
       "  name gender math english korean attend japanese\n",
       "2 KIM  M      100   80      50     TRUE   60     \n",
       "3 LEE  F       80  100      70    FALSE  100     \n",
       "4 PARK F       65   80     100    FALSE   50     \n",
       "5 SHIN M       95   70     100     TRUE   20     "
      ]
     },
     "metadata": {},
     "output_type": "display_data"
    }
   ],
   "source": [
    "g[-1,] #첫번째 행만 제외하기"
   ]
  },
  {
   "cell_type": "code",
   "execution_count": 42,
   "id": "902e3b92",
   "metadata": {},
   "outputs": [
    {
     "data": {
      "text/html": [
       "<table>\n",
       "<thead><tr><th scope=col>name</th><th scope=col>gender</th><th scope=col>math</th><th scope=col>english</th><th scope=col>korean</th><th scope=col>attend</th><th scope=col>japanese</th></tr></thead>\n",
       "<tbody>\n",
       "\t<tr><td>HAN  </td><td>M    </td><td> 75  </td><td> 60  </td><td> 80  </td><td> TRUE</td><td> 70  </td></tr>\n",
       "\t<tr><td>KIM  </td><td>M    </td><td>100  </td><td> 80  </td><td> 50  </td><td> TRUE</td><td> 60  </td></tr>\n",
       "\t<tr><td>LEE  </td><td>F    </td><td> 80  </td><td>100  </td><td> 70  </td><td>FALSE</td><td>100  </td></tr>\n",
       "\t<tr><td>PARK </td><td>F    </td><td> 65  </td><td> 80  </td><td>100  </td><td>FALSE</td><td> 50  </td></tr>\n",
       "\t<tr><td>SHIN </td><td>M    </td><td> 95  </td><td> 70  </td><td>100  </td><td> TRUE</td><td> 20  </td></tr>\n",
       "</tbody>\n",
       "</table>\n"
      ],
      "text/latex": [
       "\\begin{tabular}{r|lllllll}\n",
       " name & gender & math & english & korean & attend & japanese\\\\\n",
       "\\hline\n",
       "\t HAN   & M     &  75   &  60   &  80   &  TRUE &  70  \\\\\n",
       "\t KIM   & M     & 100   &  80   &  50   &  TRUE &  60  \\\\\n",
       "\t LEE   & F     &  80   & 100   &  70   & FALSE & 100  \\\\\n",
       "\t PARK  & F     &  65   &  80   & 100   & FALSE &  50  \\\\\n",
       "\t SHIN  & M     &  95   &  70   & 100   &  TRUE &  20  \\\\\n",
       "\\end{tabular}\n"
      ],
      "text/markdown": [
       "\n",
       "| name | gender | math | english | korean | attend | japanese |\n",
       "|---|---|---|---|---|---|---|\n",
       "| HAN   | M     |  75   |  60   |  80   |  TRUE |  70   |\n",
       "| KIM   | M     | 100   |  80   |  50   |  TRUE |  60   |\n",
       "| LEE   | F     |  80   | 100   |  70   | FALSE | 100   |\n",
       "| PARK  | F     |  65   |  80   | 100   | FALSE |  50   |\n",
       "| SHIN  | M     |  95   |  70   | 100   |  TRUE |  20   |\n",
       "\n"
      ],
      "text/plain": [
       "  name gender math english korean attend japanese\n",
       "1 HAN  M       75   60      80     TRUE   70     \n",
       "2 KIM  M      100   80      50     TRUE   60     \n",
       "3 LEE  F       80  100      70    FALSE  100     \n",
       "4 PARK F       65   80     100    FALSE   50     \n",
       "5 SHIN M       95   70     100     TRUE   20     "
      ]
     },
     "metadata": {},
     "output_type": "display_data"
    }
   ],
   "source": [
    "g[g$math>=60,] #특정 값 조회"
   ]
  },
  {
   "cell_type": "code",
   "execution_count": 46,
   "id": "4bba2a7f",
   "metadata": {},
   "outputs": [
    {
     "data": {
      "text/html": [
       "<table>\n",
       "<thead><tr><th></th><th scope=col>name</th><th scope=col>gender</th><th scope=col>math</th><th scope=col>english</th><th scope=col>korean</th><th scope=col>attend</th><th scope=col>japanese</th></tr></thead>\n",
       "<tbody>\n",
       "\t<tr><th scope=row>2</th><td>KIM </td><td>M   </td><td>100 </td><td>80  </td><td>50  </td><td>TRUE</td><td>60  </td></tr>\n",
       "</tbody>\n",
       "</table>\n"
      ],
      "text/latex": [
       "\\begin{tabular}{r|lllllll}\n",
       "  & name & gender & math & english & korean & attend & japanese\\\\\n",
       "\\hline\n",
       "\t2 & KIM  & M    & 100  & 80   & 50   & TRUE & 60  \\\\\n",
       "\\end{tabular}\n"
      ],
      "text/markdown": [
       "\n",
       "| <!--/--> | name | gender | math | english | korean | attend | japanese |\n",
       "|---|---|---|---|---|---|---|---|\n",
       "| 2 | KIM  | M    | 100  | 80   | 50   | TRUE | 60   |\n",
       "\n"
      ],
      "text/plain": [
       "  name gender math english korean attend japanese\n",
       "2 KIM  M      100  80      50     TRUE   60      "
      ]
     },
     "metadata": {},
     "output_type": "display_data"
    }
   ],
   "source": [
    "g[g$name=='KIM',]"
   ]
  },
  {
   "cell_type": "code",
   "execution_count": 48,
   "id": "775cf1d8",
   "metadata": {},
   "outputs": [
    {
     "data": {
      "text/html": [
       "<table>\n",
       "<thead><tr><th></th><th scope=col>name</th><th scope=col>gender</th><th scope=col>math</th><th scope=col>english</th><th scope=col>korean</th><th scope=col>attend</th><th scope=col>japanese</th></tr></thead>\n",
       "<tbody>\n",
       "\t<tr><th scope=row>5</th><td>SHIN</td><td>M   </td><td>95  </td><td>70  </td><td>100 </td><td>TRUE</td><td>20  </td></tr>\n",
       "</tbody>\n",
       "</table>\n"
      ],
      "text/latex": [
       "\\begin{tabular}{r|lllllll}\n",
       "  & name & gender & math & english & korean & attend & japanese\\\\\n",
       "\\hline\n",
       "\t5 & SHIN & M    & 95   & 70   & 100  & TRUE & 20  \\\\\n",
       "\\end{tabular}\n"
      ],
      "text/markdown": [
       "\n",
       "| <!--/--> | name | gender | math | english | korean | attend | japanese |\n",
       "|---|---|---|---|---|---|---|---|\n",
       "| 5 | SHIN | M    | 95   | 70   | 100  | TRUE | 20   |\n",
       "\n"
      ],
      "text/plain": [
       "  name gender math english korean attend japanese\n",
       "5 SHIN M      95   70      100    TRUE   20      "
      ]
     },
     "metadata": {},
     "output_type": "display_data"
    }
   ],
   "source": [
    "g[g$math>=80 & g$korean>=80,] # 데이터프레임 AND 으로 조회"
   ]
  },
  {
   "cell_type": "code",
   "execution_count": 50,
   "id": "fc37d9e8",
   "metadata": {},
   "outputs": [
    {
     "data": {
      "text/html": [
       "<table>\n",
       "<thead><tr><th></th><th scope=col>name</th><th scope=col>gender</th><th scope=col>math</th><th scope=col>english</th><th scope=col>korean</th><th scope=col>attend</th><th scope=col>japanese</th></tr></thead>\n",
       "<tbody>\n",
       "\t<tr><th scope=row>1</th><td>HAN  </td><td>M    </td><td> 75  </td><td>60   </td><td> 80  </td><td> TRUE</td><td>70   </td></tr>\n",
       "\t<tr><th scope=row>2</th><td>KIM  </td><td>M    </td><td>100  </td><td>80   </td><td> 50  </td><td> TRUE</td><td>60   </td></tr>\n",
       "\t<tr><th scope=row>4</th><td>PARK </td><td>F    </td><td> 65  </td><td>80   </td><td>100  </td><td>FALSE</td><td>50   </td></tr>\n",
       "\t<tr><th scope=row>5</th><td>SHIN </td><td>M    </td><td> 95  </td><td>70   </td><td>100  </td><td> TRUE</td><td>20   </td></tr>\n",
       "</tbody>\n",
       "</table>\n"
      ],
      "text/latex": [
       "\\begin{tabular}{r|lllllll}\n",
       "  & name & gender & math & english & korean & attend & japanese\\\\\n",
       "\\hline\n",
       "\t1 & HAN   & M     &  75   & 60    &  80   &  TRUE & 70   \\\\\n",
       "\t2 & KIM   & M     & 100   & 80    &  50   &  TRUE & 60   \\\\\n",
       "\t4 & PARK  & F     &  65   & 80    & 100   & FALSE & 50   \\\\\n",
       "\t5 & SHIN  & M     &  95   & 70    & 100   &  TRUE & 20   \\\\\n",
       "\\end{tabular}\n"
      ],
      "text/markdown": [
       "\n",
       "| <!--/--> | name | gender | math | english | korean | attend | japanese |\n",
       "|---|---|---|---|---|---|---|---|\n",
       "| 1 | HAN   | M     |  75   | 60    |  80   |  TRUE | 70    |\n",
       "| 2 | KIM   | M     | 100   | 80    |  50   |  TRUE | 60    |\n",
       "| 4 | PARK  | F     |  65   | 80    | 100   | FALSE | 50    |\n",
       "| 5 | SHIN  | M     |  95   | 70    | 100   |  TRUE | 20    |\n",
       "\n"
      ],
      "text/plain": [
       "  name gender math english korean attend japanese\n",
       "1 HAN  M       75  60       80     TRUE  70      \n",
       "2 KIM  M      100  80       50     TRUE  60      \n",
       "4 PARK F       65  80      100    FALSE  50      \n",
       "5 SHIN M       95  70      100     TRUE  20      "
      ]
     },
     "metadata": {},
     "output_type": "display_data"
    }
   ],
   "source": [
    "g[g$math>=90 | g$korean>=80,] # 데이터프레임 OR 으로 조회"
   ]
  },
  {
   "cell_type": "code",
   "execution_count": 51,
   "id": "46b0412e",
   "metadata": {},
   "outputs": [
    {
     "data": {
      "text/html": [
       "<table>\n",
       "<thead><tr><th></th><th scope=col>name</th><th scope=col>math</th><th scope=col>korean</th></tr></thead>\n",
       "<tbody>\n",
       "\t<tr><th scope=row>1</th><td>HAN </td><td>75  </td><td> 80 </td></tr>\n",
       "\t<tr><th scope=row>3</th><td>LEE </td><td>80  </td><td> 70 </td></tr>\n",
       "\t<tr><th scope=row>4</th><td>PARK</td><td>65  </td><td>100 </td></tr>\n",
       "\t<tr><th scope=row>5</th><td>SHIN</td><td>95  </td><td>100 </td></tr>\n",
       "</tbody>\n",
       "</table>\n"
      ],
      "text/latex": [
       "\\begin{tabular}{r|lll}\n",
       "  & name & math & korean\\\\\n",
       "\\hline\n",
       "\t1 & HAN  & 75   &  80 \\\\\n",
       "\t3 & LEE  & 80   &  70 \\\\\n",
       "\t4 & PARK & 65   & 100 \\\\\n",
       "\t5 & SHIN & 95   & 100 \\\\\n",
       "\\end{tabular}\n"
      ],
      "text/markdown": [
       "\n",
       "| <!--/--> | name | math | korean |\n",
       "|---|---|---|---|\n",
       "| 1 | HAN  | 75   |  80  |\n",
       "| 3 | LEE  | 80   |  70  |\n",
       "| 4 | PARK | 65   | 100  |\n",
       "| 5 | SHIN | 95   | 100  |\n",
       "\n"
      ],
      "text/plain": [
       "  name math korean\n",
       "1 HAN  75    80   \n",
       "3 LEE  80    70   \n",
       "4 PARK 65   100   \n",
       "5 SHIN 95   100   "
      ]
     },
     "metadata": {},
     "output_type": "display_data"
    }
   ],
   "source": [
    "# 데이터프레임 특정 행 검색, AND 및 OR 조회\n",
    "h<-subset(g, select=c(name, math, korean),subset=(math>=50 & korean>=70))\n",
    "h"
   ]
  },
  {
   "cell_type": "code",
   "execution_count": 53,
   "id": "05361d71",
   "metadata": {},
   "outputs": [
    {
     "data": {
      "text/html": [
       "<table>\n",
       "<thead><tr><th scope=col>name</th><th scope=col>gender</th><th scope=col>english</th><th scope=col>math</th><th scope=col>attend</th><th scope=col>korean</th></tr></thead>\n",
       "<tbody>\n",
       "\t<tr><td>HAN  </td><td>M    </td><td> 60  </td><td> 75  </td><td> TRUE</td><td> 80  </td></tr>\n",
       "\t<tr><td>KIM  </td><td>M    </td><td> 80  </td><td>100  </td><td> TRUE</td><td> 50  </td></tr>\n",
       "\t<tr><td>LEE  </td><td>F    </td><td>100  </td><td> 80  </td><td>FALSE</td><td> 70  </td></tr>\n",
       "\t<tr><td>PARK </td><td>F    </td><td> 80  </td><td> 65  </td><td>FALSE</td><td>100  </td></tr>\n",
       "\t<tr><td>SHIN </td><td>M    </td><td> 70  </td><td> 95  </td><td> TRUE</td><td>100  </td></tr>\n",
       "</tbody>\n",
       "</table>\n"
      ],
      "text/latex": [
       "\\begin{tabular}{r|llllll}\n",
       " name & gender & english & math & attend & korean\\\\\n",
       "\\hline\n",
       "\t HAN   & M     &  60   &  75   &  TRUE &  80  \\\\\n",
       "\t KIM   & M     &  80   & 100   &  TRUE &  50  \\\\\n",
       "\t LEE   & F     & 100   &  80   & FALSE &  70  \\\\\n",
       "\t PARK  & F     &  80   &  65   & FALSE & 100  \\\\\n",
       "\t SHIN  & M     &  70   &  95   &  TRUE & 100  \\\\\n",
       "\\end{tabular}\n"
      ],
      "text/markdown": [
       "\n",
       "| name | gender | english | math | attend | korean |\n",
       "|---|---|---|---|---|---|\n",
       "| HAN   | M     |  60   |  75   |  TRUE |  80   |\n",
       "| KIM   | M     |  80   | 100   |  TRUE |  50   |\n",
       "| LEE   | F     | 100   |  80   | FALSE |  70   |\n",
       "| PARK  | F     |  80   |  65   | FALSE | 100   |\n",
       "| SHIN  | M     |  70   |  95   |  TRUE | 100   |\n",
       "\n"
      ],
      "text/plain": [
       "  name gender english math attend korean\n",
       "1 HAN  M       60      75   TRUE   80   \n",
       "2 KIM  M       80     100   TRUE   50   \n",
       "3 LEE  F      100      80  FALSE   70   \n",
       "4 PARK F       80      65  FALSE  100   \n",
       "5 SHIN M       70      95   TRUE  100   "
      ]
     },
     "metadata": {},
     "output_type": "display_data"
    }
   ],
   "source": [
    "#컬럼 위치 변경, 행 위치 변경\n",
    "g<-g[,c(1, 2, 6, 5, 3, 4)]\n",
    "g"
   ]
  },
  {
   "cell_type": "code",
   "execution_count": null,
   "id": "a8a62b53",
   "metadata": {},
   "outputs": [],
   "source": []
  }
 ],
 "metadata": {
  "kernelspec": {
   "display_name": "R [conda env:root] *",
   "language": "R",
   "name": "conda-root-r"
  },
  "language_info": {
   "codemirror_mode": "r",
   "file_extension": ".r",
   "mimetype": "text/x-r-source",
   "name": "R",
   "pygments_lexer": "r",
   "version": "3.6.1"
  },
  "toc": {
   "base_numbering": 1,
   "nav_menu": {},
   "number_sections": true,
   "sideBar": true,
   "skip_h1_title": false,
   "title_cell": "Table of Contents",
   "title_sidebar": "Contents",
   "toc_cell": false,
   "toc_position": {},
   "toc_section_display": true,
   "toc_window_display": false
  }
 },
 "nbformat": 4,
 "nbformat_minor": 5
}
