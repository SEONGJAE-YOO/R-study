{
 "cells": [
  {
   "cell_type": "markdown",
   "id": "8c94ef98",
   "metadata": {},
   "source": [
    "# csv 파일 불러오기 "
   ]
  },
  {
   "cell_type": "code",
   "execution_count": 5,
   "id": "fb02ba90",
   "metadata": {},
   "outputs": [
    {
     "data": {
      "text/html": [
       "<table>\n",
       "<thead><tr><th scope=col>name</th><th scope=col>gender</th><th scope=col>math</th><th scope=col>english</th><th scope=col>korean</th><th scope=col>attend</th></tr></thead>\n",
       "<tbody>\n",
       "\t<tr><td>PARK </td><td>F    </td><td> 65  </td><td> 80  </td><td>100  </td><td>FALSE</td></tr>\n",
       "\t<tr><td>HAN  </td><td>M    </td><td> 75  </td><td> 60  </td><td> 80  </td><td> TRUE</td></tr>\n",
       "\t<tr><td>LEE  </td><td>F    </td><td> 80  </td><td>100  </td><td> 70  </td><td>FALSE</td></tr>\n",
       "\t<tr><td>SHIN </td><td>M    </td><td> 95  </td><td> 70  </td><td>100  </td><td> TRUE</td></tr>\n",
       "\t<tr><td>KIM  </td><td>M    </td><td>100  </td><td> 80  </td><td> 50  </td><td> TRUE</td></tr>\n",
       "</tbody>\n",
       "</table>\n"
      ],
      "text/latex": [
       "\\begin{tabular}{r|llllll}\n",
       " name & gender & math & english & korean & attend\\\\\n",
       "\\hline\n",
       "\t PARK  & F     &  65   &  80   & 100   & FALSE\\\\\n",
       "\t HAN   & M     &  75   &  60   &  80   &  TRUE\\\\\n",
       "\t LEE   & F     &  80   & 100   &  70   & FALSE\\\\\n",
       "\t SHIN  & M     &  95   &  70   & 100   &  TRUE\\\\\n",
       "\t KIM   & M     & 100   &  80   &  50   &  TRUE\\\\\n",
       "\\end{tabular}\n"
      ],
      "text/markdown": [
       "\n",
       "| name | gender | math | english | korean | attend |\n",
       "|---|---|---|---|---|---|\n",
       "| PARK  | F     |  65   |  80   | 100   | FALSE |\n",
       "| HAN   | M     |  75   |  60   |  80   |  TRUE |\n",
       "| LEE   | F     |  80   | 100   |  70   | FALSE |\n",
       "| SHIN  | M     |  95   |  70   | 100   |  TRUE |\n",
       "| KIM   | M     | 100   |  80   |  50   |  TRUE |\n",
       "\n"
      ],
      "text/plain": [
       "  name gender math english korean attend\n",
       "1 PARK F       65   80     100    FALSE \n",
       "2 HAN  M       75   60      80     TRUE \n",
       "3 LEE  F       80  100      70    FALSE \n",
       "4 SHIN M       95   70     100     TRUE \n",
       "5 KIM  M      100   80      50     TRUE "
      ]
     },
     "metadata": {},
     "output_type": "display_data"
    }
   ],
   "source": [
    "# 영어컬럼 불러올때 latin1으로 설정하기\n",
    "# 한글컬럼 불러올때 encoding = 'euc-kr'\n",
    "a<-read.csv('ex_comma.csv', header=T, sep=',', encoding='latin1', na.strings=\"-\")\n",
    "a"
   ]
  },
  {
   "cell_type": "code",
   "execution_count": 6,
   "id": "dc3e03fd",
   "metadata": {},
   "outputs": [
    {
     "data": {
      "text/html": [
       "<table>\n",
       "<thead><tr><th scope=col>name</th><th scope=col>gender</th><th scope=col>math</th><th scope=col>english</th><th scope=col>korean</th><th scope=col>attend</th></tr></thead>\n",
       "<tbody>\n",
       "\t<tr><td>PARK </td><td>F    </td><td> 65  </td><td> 80  </td><td>100  </td><td>FALSE</td></tr>\n",
       "\t<tr><td>HAN  </td><td>M    </td><td> 75  </td><td> 60  </td><td> 80  </td><td> TRUE</td></tr>\n",
       "\t<tr><td>LEE  </td><td>F    </td><td> 80  </td><td>100  </td><td> 70  </td><td>FALSE</td></tr>\n",
       "\t<tr><td>SHIN </td><td>M    </td><td> 95  </td><td> 70  </td><td>100  </td><td> TRUE</td></tr>\n",
       "\t<tr><td>KIM  </td><td>M    </td><td>100  </td><td> 80  </td><td> 50  </td><td> TRUE</td></tr>\n",
       "</tbody>\n",
       "</table>\n"
      ],
      "text/latex": [
       "\\begin{tabular}{r|llllll}\n",
       " name & gender & math & english & korean & attend\\\\\n",
       "\\hline\n",
       "\t PARK  & F     &  65   &  80   & 100   & FALSE\\\\\n",
       "\t HAN   & M     &  75   &  60   &  80   &  TRUE\\\\\n",
       "\t LEE   & F     &  80   & 100   &  70   & FALSE\\\\\n",
       "\t SHIN  & M     &  95   &  70   & 100   &  TRUE\\\\\n",
       "\t KIM   & M     & 100   &  80   &  50   &  TRUE\\\\\n",
       "\\end{tabular}\n"
      ],
      "text/markdown": [
       "\n",
       "| name | gender | math | english | korean | attend |\n",
       "|---|---|---|---|---|---|\n",
       "| PARK  | F     |  65   |  80   | 100   | FALSE |\n",
       "| HAN   | M     |  75   |  60   |  80   |  TRUE |\n",
       "| LEE   | F     |  80   | 100   |  70   | FALSE |\n",
       "| SHIN  | M     |  95   |  70   | 100   |  TRUE |\n",
       "| KIM   | M     | 100   |  80   |  50   |  TRUE |\n",
       "\n"
      ],
      "text/plain": [
       "  name gender math english korean attend\n",
       "1 PARK F       65   80     100    FALSE \n",
       "2 HAN  M       75   60      80     TRUE \n",
       "3 LEE  F       80  100      70    FALSE \n",
       "4 SHIN M       95   70     100     TRUE \n",
       "5 KIM  M      100   80      50     TRUE "
      ]
     },
     "metadata": {},
     "output_type": "display_data"
    }
   ],
   "source": [
    "# csv파일 데이터가 한열에 모두 있을때 sep='\\t'\n",
    "b<-read.csv('ex_tab.csv', header=T, sep='\\t', encoding='latin1')\n",
    "b"
   ]
  },
  {
   "cell_type": "code",
   "execution_count": 7,
   "id": "cb59552a",
   "metadata": {},
   "outputs": [
    {
     "ename": "ERROR",
     "evalue": "Error in file.choose(): 파일선택이 취소되었습니다\n",
     "output_type": "error",
     "traceback": [
      "Error in file.choose(): 파일선택이 취소되었습니다\nTraceback:\n",
      "1. read.csv(file.choose(), header = T, sep = \",\", encoding = \"latin1\")",
      "2. read.table(file = file, header = header, sep = sep, quote = quote, \n .     dec = dec, fill = fill, comment.char = comment.char, ...)",
      "3. file.choose()"
     ]
    }
   ],
   "source": [
    "c<-read.csv(file.choose(), header=T, sep=',', encoding='latin1')\n",
    "c"
   ]
  },
  {
   "cell_type": "code",
   "execution_count": 8,
   "id": "ee14e39e",
   "metadata": {},
   "outputs": [
    {
     "name": "stderr",
     "output_type": "stream",
     "text": [
      "also installing the dependencies 'rJava', 'xlsxjars'\n",
      "\n"
     ]
    },
    {
     "name": "stdout",
     "output_type": "stream",
     "text": [
      "\n",
      "  There is a binary version available but the source version is later:\n",
      "      binary source needs_compilation\n",
      "rJava  1.0-4  1.0-6              TRUE\n",
      "\n",
      "  Binaries will be installed\n",
      "package 'rJava' successfully unpacked and MD5 sums checked\n",
      "package 'xlsxjars' successfully unpacked and MD5 sums checked\n",
      "package 'xlsx' successfully unpacked and MD5 sums checked\n",
      "\n",
      "The downloaded binary packages are in\n",
      "\tC:\\Users\\MyCom\\AppData\\Local\\Temp\\Rtmp0EJhGB\\downloaded_packages\n"
     ]
    },
    {
     "name": "stderr",
     "output_type": "stream",
     "text": [
      "Warning message:\n",
      "\"package 'xlsx' was built under R version 3.6.3\""
     ]
    }
   ],
   "source": [
    "install.packages(\"xlsx\")\n",
    "library(xlsx)"
   ]
  },
  {
   "cell_type": "code",
   "execution_count": 10,
   "id": "146b39b6",
   "metadata": {},
   "outputs": [
    {
     "data": {
      "text/html": [
       "<table>\n",
       "<thead><tr><th scope=col>name</th><th scope=col>gender</th><th scope=col>math</th><th scope=col>english</th><th scope=col>korean</th><th scope=col>attend</th></tr></thead>\n",
       "<tbody>\n",
       "\t<tr><td>PARK </td><td>F    </td><td> 65  </td><td> 80  </td><td>100  </td><td>FALSE</td></tr>\n",
       "\t<tr><td>HAN  </td><td>M    </td><td> 75  </td><td> 60  </td><td> 80  </td><td> TRUE</td></tr>\n",
       "\t<tr><td>LEE  </td><td>F    </td><td> 80  </td><td>100  </td><td> 70  </td><td>FALSE</td></tr>\n",
       "\t<tr><td>SHIN </td><td>M    </td><td> 95  </td><td> 70  </td><td>100  </td><td> TRUE</td></tr>\n",
       "\t<tr><td>KIM  </td><td>M    </td><td>100  </td><td> 80  </td><td> 50  </td><td> TRUE</td></tr>\n",
       "</tbody>\n",
       "</table>\n"
      ],
      "text/latex": [
       "\\begin{tabular}{r|llllll}\n",
       " name & gender & math & english & korean & attend\\\\\n",
       "\\hline\n",
       "\t PARK  & F     &  65   &  80   & 100   & FALSE\\\\\n",
       "\t HAN   & M     &  75   &  60   &  80   &  TRUE\\\\\n",
       "\t LEE   & F     &  80   & 100   &  70   & FALSE\\\\\n",
       "\t SHIN  & M     &  95   &  70   & 100   &  TRUE\\\\\n",
       "\t KIM   & M     & 100   &  80   &  50   &  TRUE\\\\\n",
       "\\end{tabular}\n"
      ],
      "text/markdown": [
       "\n",
       "| name | gender | math | english | korean | attend |\n",
       "|---|---|---|---|---|---|\n",
       "| PARK  | F     |  65   |  80   | 100   | FALSE |\n",
       "| HAN   | M     |  75   |  60   |  80   |  TRUE |\n",
       "| LEE   | F     |  80   | 100   |  70   | FALSE |\n",
       "| SHIN  | M     |  95   |  70   | 100   |  TRUE |\n",
       "| KIM   | M     | 100   |  80   |  50   |  TRUE |\n",
       "\n"
      ],
      "text/plain": [
       "  name gender math english korean attend\n",
       "1 PARK F       65   80     100    FALSE \n",
       "2 HAN  M       75   60      80     TRUE \n",
       "3 LEE  F       80  100      70    FALSE \n",
       "4 SHIN M       95   70     100     TRUE \n",
       "5 KIM  M      100   80      50     TRUE "
      ]
     },
     "metadata": {},
     "output_type": "display_data"
    }
   ],
   "source": [
    "d<-read.xlsx('ex_xlsx.xlsx', sheetIndex=1, encoding='UTF-8')\n",
    "d"
   ]
  },
  {
   "cell_type": "code",
   "execution_count": 12,
   "id": "2b027029",
   "metadata": {},
   "outputs": [
    {
     "data": {
      "text/html": [
       "<table>\n",
       "<thead><tr><th scope=col>name</th><th scope=col>gender</th><th scope=col>math</th><th scope=col>english</th><th scope=col>korean</th><th scope=col>attend</th><th scope=col>total</th></tr></thead>\n",
       "<tbody>\n",
       "\t<tr><td>PARK </td><td>F    </td><td> 65  </td><td> 80  </td><td>100  </td><td>FALSE</td><td>245  </td></tr>\n",
       "\t<tr><td>HAN  </td><td>M    </td><td> 75  </td><td> 60  </td><td> 80  </td><td> TRUE</td><td>215  </td></tr>\n",
       "\t<tr><td>LEE  </td><td>F    </td><td> 80  </td><td>100  </td><td> 70  </td><td>FALSE</td><td>250  </td></tr>\n",
       "\t<tr><td>SHIN </td><td>M    </td><td> 95  </td><td> 70  </td><td>100  </td><td> TRUE</td><td>265  </td></tr>\n",
       "\t<tr><td>KIM  </td><td>M    </td><td>100  </td><td> 80  </td><td> 50  </td><td> TRUE</td><td>230  </td></tr>\n",
       "</tbody>\n",
       "</table>\n"
      ],
      "text/latex": [
       "\\begin{tabular}{r|lllllll}\n",
       " name & gender & math & english & korean & attend & total\\\\\n",
       "\\hline\n",
       "\t PARK  & F     &  65   &  80   & 100   & FALSE & 245  \\\\\n",
       "\t HAN   & M     &  75   &  60   &  80   &  TRUE & 215  \\\\\n",
       "\t LEE   & F     &  80   & 100   &  70   & FALSE & 250  \\\\\n",
       "\t SHIN  & M     &  95   &  70   & 100   &  TRUE & 265  \\\\\n",
       "\t KIM   & M     & 100   &  80   &  50   &  TRUE & 230  \\\\\n",
       "\\end{tabular}\n"
      ],
      "text/markdown": [
       "\n",
       "| name | gender | math | english | korean | attend | total |\n",
       "|---|---|---|---|---|---|---|\n",
       "| PARK  | F     |  65   |  80   | 100   | FALSE | 245   |\n",
       "| HAN   | M     |  75   |  60   |  80   |  TRUE | 215   |\n",
       "| LEE   | F     |  80   | 100   |  70   | FALSE | 250   |\n",
       "| SHIN  | M     |  95   |  70   | 100   |  TRUE | 265   |\n",
       "| KIM   | M     | 100   |  80   |  50   |  TRUE | 230   |\n",
       "\n"
      ],
      "text/plain": [
       "  name gender math english korean attend total\n",
       "1 PARK F       65   80     100    FALSE  245  \n",
       "2 HAN  M       75   60      80     TRUE  215  \n",
       "3 LEE  F       80  100      70    FALSE  250  \n",
       "4 SHIN M       95   70     100     TRUE  265  \n",
       "5 KIM  M      100   80      50     TRUE  230  "
      ]
     },
     "metadata": {},
     "output_type": "display_data"
    }
   ],
   "source": [
    "d$total <- d$math + d$english + d$korean\n",
    "d"
   ]
  },
  {
   "cell_type": "code",
   "execution_count": 13,
   "id": "8b832ab6",
   "metadata": {},
   "outputs": [],
   "source": [
    "#csv 파일 저장 하고 쓰기 \n",
    "write.table(d, 'save_sample.csv', row.names=FALSE, quote=FALSE, sep=',') \n"
   ]
  }
 ],
 "metadata": {
  "kernelspec": {
   "display_name": "R",
   "language": "R",
   "name": "ir"
  },
  "language_info": {
   "codemirror_mode": "r",
   "file_extension": ".r",
   "mimetype": "text/x-r-source",
   "name": "R",
   "pygments_lexer": "r",
   "version": "3.6.1"
  },
  "toc": {
   "base_numbering": 1,
   "nav_menu": {},
   "number_sections": true,
   "sideBar": true,
   "skip_h1_title": false,
   "title_cell": "Table of Contents",
   "title_sidebar": "Contents",
   "toc_cell": false,
   "toc_position": {},
   "toc_section_display": true,
   "toc_window_display": false
  }
 },
 "nbformat": 4,
 "nbformat_minor": 5
}
